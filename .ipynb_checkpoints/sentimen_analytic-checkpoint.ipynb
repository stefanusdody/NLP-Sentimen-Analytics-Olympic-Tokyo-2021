{
 "cells": [
  {
   "cell_type": "markdown",
   "metadata": {
    "id": "oa1HZZu-YNVo"
   },
   "source": [
    "# Introduction"
   ]
  },
  {
   "cell_type": "markdown",
   "metadata": {
    "id": "g5PxXuZdYRBo"
   },
   "source": [
    "#### Dataset\n",
    "Berisi mengenai tweet pada Olimpiade Tokyo 2021\n",
    "\n",
    "#### Sumber Dataset\n",
    "Data berasal dari Kaggle dengan link: https://www.kaggle.com/amritpal333/tokyo-olympics-2021-tweets?select=Olympics_Tokyo_tweets.csv\n",
    "\n",
    "#### Objectivity\n",
    "Membuat Sentimen Analysis terhadap text tweeter pada olimpiade 2021"
   ]
  },
  {
   "cell_type": "markdown",
   "metadata": {
    "id": "J7MMMMvNYByX"
   },
   "source": [
    "# Import Pustaka"
   ]
  },
  {
   "cell_type": "code",
   "execution_count": 2,
   "metadata": {
    "colab": {
     "base_uri": "https://localhost:8080/"
    },
    "id": "WCthnApaZLGt",
    "outputId": "b4e8c538-0862-4ed7-e9a6-999a36ad54aa"
   },
   "outputs": [
    {
     "name": "stdout",
     "output_type": "stream",
     "text": [
      "Mounted at /content/drive\n"
     ]
    }
   ],
   "source": [
    "from google.colab import drive\n",
    "drive.mount('/content/drive')"
   ]
  },
  {
   "cell_type": "code",
   "execution_count": 3,
   "metadata": {
    "colab": {
     "base_uri": "https://localhost:8080/"
    },
    "id": "hl_vKAIlXg0a",
    "outputId": "02496e39-866f-4d0b-ed38-f3519dab29da"
   },
   "outputs": [
    {
     "name": "stdout",
     "output_type": "stream",
     "text": [
      "[nltk_data] Downloading package stopwords to /root/nltk_data...\n",
      "[nltk_data]   Unzipping corpora/stopwords.zip.\n"
     ]
    }
   ],
   "source": [
    "import pandas as pd\n",
    "import numpy as np\n",
    "import matplotlib.pyplot as plt\n",
    "import seaborn as sns\n",
    "import tensorflow as tf\n",
    "from tensorflow import keras\n",
    "\n",
    "import os\n",
    "import re\n",
    "import string\n",
    "import nltk\n",
    "import random\n",
    "nltk.download('stopwords')\n",
    "from textblob import TextBlob\n",
    "from wordcloud import WordCloud\n",
    "from nltk.corpus import stopwords\n",
    "from collections import Counter\n",
    "\n",
    "from tensorflow.keras.layers.experimental.preprocessing import TextVectorization\n",
    "from tensorflow.keras import layers\n",
    "from tensorflow.keras.utils import to_categorical\n",
    "from keras.preprocessing.sequence import pad_sequences\n",
    "\n",
    "from sklearn.model_selection import train_test_split\n",
    "from sklearn.metrics import accuracy_score, precision_recall_fscore_support\n",
    "from sklearn.metrics import classification_report\n",
    "from sklearn.model_selection import RandomizedSearchCV\n",
    "\n",
    "%matplotlib inline"
   ]
  },
  {
   "cell_type": "markdown",
   "metadata": {
    "id": "rOhYNVoDYU7o"
   },
   "source": [
    "# Data Loading"
   ]
  },
  {
   "cell_type": "code",
   "execution_count": 4,
   "metadata": {
    "colab": {
     "base_uri": "https://localhost:8080/"
    },
    "id": "xNYFISDDYE1y",
    "outputId": "e36e55f6-7b80-4e90-c34e-0f4b39e5306b"
   },
   "outputs": [
    {
     "name": "stderr",
     "output_type": "stream",
     "text": [
      "/usr/local/lib/python3.7/dist-packages/IPython/core/interactiveshell.py:2718: DtypeWarning: Columns (0,4,5,6,10) have mixed types.Specify dtype option on import or set low_memory=False.\n",
      "  interactivity=interactivity, compiler=compiler, result=result)\n"
     ]
    }
   ],
   "source": [
    "df = pd.read_csv('/content/drive/MyDrive/milestone2/Olympics_Tokyo_tweets.csv')"
   ]
  },
  {
   "cell_type": "markdown",
   "metadata": {
    "id": "30K5xOcd1seS"
   },
   "source": [
    "#### melihat data teratas"
   ]
  },
  {
   "cell_type": "code",
   "execution_count": 5,
   "metadata": {
    "colab": {
     "base_uri": "https://localhost:8080/",
     "height": 445
    },
    "id": "rnBaDhD7Ydq7",
    "outputId": "4a520c8d-e1af-4efb-c695-1511c9dafaa5"
   },
   "outputs": [
    {
     "data": {
      "text/html": [
       "<div>\n",
       "<style scoped>\n",
       "    .dataframe tbody tr th:only-of-type {\n",
       "        vertical-align: middle;\n",
       "    }\n",
       "\n",
       "    .dataframe tbody tr th {\n",
       "        vertical-align: top;\n",
       "    }\n",
       "\n",
       "    .dataframe thead th {\n",
       "        text-align: right;\n",
       "    }\n",
       "</style>\n",
       "<table border=\"1\" class=\"dataframe\">\n",
       "  <thead>\n",
       "    <tr style=\"text-align: right;\">\n",
       "      <th></th>\n",
       "      <th>id</th>\n",
       "      <th>text</th>\n",
       "      <th>user_screen_name</th>\n",
       "      <th>user_location</th>\n",
       "      <th>retweet_count</th>\n",
       "      <th>favorited</th>\n",
       "      <th>favorite_count</th>\n",
       "      <th>user_description</th>\n",
       "      <th>user_created_at</th>\n",
       "      <th>user_followers</th>\n",
       "      <th>user_friends</th>\n",
       "      <th>date</th>\n",
       "      <th>language</th>\n",
       "    </tr>\n",
       "  </thead>\n",
       "  <tbody>\n",
       "    <tr>\n",
       "      <th>0</th>\n",
       "      <td>1419334065375924227</td>\n",
       "      <td>Rejected sports for the 2020 Olympics include ...</td>\n",
       "      <td>tbelmontedu</td>\n",
       "      <td>New Jersey</td>\n",
       "      <td>0</td>\n",
       "      <td>False</td>\n",
       "      <td>0</td>\n",
       "      <td>High School Language Arts Teacher. Technology ...</td>\n",
       "      <td>2013-01-21 00:03:31</td>\n",
       "      <td>778.0</td>\n",
       "      <td>661</td>\n",
       "      <td>2021-07-25 16:29:45</td>\n",
       "      <td>en</td>\n",
       "    </tr>\n",
       "    <tr>\n",
       "      <th>1</th>\n",
       "      <td>1419334059424043009</td>\n",
       "      <td>Why is the Team USA men basketball team playin...</td>\n",
       "      <td>silverchasm</td>\n",
       "      <td>Lynwood, CA</td>\n",
       "      <td>0</td>\n",
       "      <td>False</td>\n",
       "      <td>0</td>\n",
       "      <td>bleh</td>\n",
       "      <td>2014-05-13 18:54:40</td>\n",
       "      <td>66.0</td>\n",
       "      <td>553</td>\n",
       "      <td>2021-07-25 16:29:44</td>\n",
       "      <td>en</td>\n",
       "    </tr>\n",
       "    <tr>\n",
       "      <th>2</th>\n",
       "      <td>1419334056161030146</td>\n",
       "      <td>@my_hive_away I'm watching kayaking on the Oly...</td>\n",
       "      <td>cshaw12897514</td>\n",
       "      <td>NaN</td>\n",
       "      <td>0</td>\n",
       "      <td>False</td>\n",
       "      <td>0</td>\n",
       "      <td>not much to say, not very interesting. but I'm...</td>\n",
       "      <td>2020-10-19 14:15:06</td>\n",
       "      <td>494.0</td>\n",
       "      <td>757</td>\n",
       "      <td>2021-07-25 16:29:43</td>\n",
       "      <td>en</td>\n",
       "    </tr>\n",
       "    <tr>\n",
       "      <th>3</th>\n",
       "      <td>1419334052876795905</td>\n",
       "      <td>While girls her age are still trying to figuri...</td>\n",
       "      <td>AdultMediaTV</td>\n",
       "      <td>United States</td>\n",
       "      <td>0</td>\n",
       "      <td>False</td>\n",
       "      <td>0</td>\n",
       "      <td>Design | Photography | Film 18+ Test ready\\nIn...</td>\n",
       "      <td>2015-08-18 22:33:39</td>\n",
       "      <td>19.0</td>\n",
       "      <td>3</td>\n",
       "      <td>2021-07-25 16:29:42</td>\n",
       "      <td>en</td>\n",
       "    </tr>\n",
       "    <tr>\n",
       "      <th>4</th>\n",
       "      <td>1419334052180594699</td>\n",
       "      <td>@omensfromeden patty mills is at the Olympics???</td>\n",
       "      <td>muddyfoxglove</td>\n",
       "      <td>hozier.tamino.florence.etc.</td>\n",
       "      <td>0</td>\n",
       "      <td>False</td>\n",
       "      <td>0</td>\n",
       "      <td>what if i was a bog body and you were a bog bo...</td>\n",
       "      <td>2016-11-20 06:02:11</td>\n",
       "      <td>1153.0</td>\n",
       "      <td>622</td>\n",
       "      <td>2021-07-25 16:29:42</td>\n",
       "      <td>en</td>\n",
       "    </tr>\n",
       "  </tbody>\n",
       "</table>\n",
       "</div>"
      ],
      "text/plain": [
       "                    id  ... language\n",
       "0  1419334065375924227  ...       en\n",
       "1  1419334059424043009  ...       en\n",
       "2  1419334056161030146  ...       en\n",
       "3  1419334052876795905  ...       en\n",
       "4  1419334052180594699  ...       en\n",
       "\n",
       "[5 rows x 13 columns]"
      ]
     },
     "execution_count": 5,
     "metadata": {},
     "output_type": "execute_result"
    }
   ],
   "source": [
    "df.head()"
   ]
  },
  {
   "cell_type": "markdown",
   "metadata": {
    "id": "_CgW-BUb1seT"
   },
   "source": [
    "#### Melihat shape data"
   ]
  },
  {
   "cell_type": "code",
   "execution_count": 6,
   "metadata": {
    "colab": {
     "base_uri": "https://localhost:8080/"
    },
    "id": "J3GDRIspT7L5",
    "outputId": "b18e5c22-54e6-4c08-886a-cfc8dcf5799b"
   },
   "outputs": [
    {
     "data": {
      "text/plain": [
       "(312825, 13)"
      ]
     },
     "execution_count": 6,
     "metadata": {},
     "output_type": "execute_result"
    }
   ],
   "source": [
    "df.shape"
   ]
  },
  {
   "cell_type": "markdown",
   "metadata": {
    "id": "IsdDD-4H1seU"
   },
   "source": [
    "data terdiri dari 13 columns dan 312825 rows"
   ]
  },
  {
   "cell_type": "markdown",
   "metadata": {
    "id": "ppq-m-tI1seV"
   },
   "source": [
    "#### Melihat statistika data"
   ]
  },
  {
   "cell_type": "code",
   "execution_count": 7,
   "metadata": {
    "colab": {
     "base_uri": "https://localhost:8080/",
     "height": 297
    },
    "id": "8Vmvvcts1seV",
    "outputId": "cde74c74-a389-4c62-e765-83a4ae925f6c"
   },
   "outputs": [
    {
     "data": {
      "text/html": [
       "<div>\n",
       "<style scoped>\n",
       "    .dataframe tbody tr th:only-of-type {\n",
       "        vertical-align: middle;\n",
       "    }\n",
       "\n",
       "    .dataframe tbody tr th {\n",
       "        vertical-align: top;\n",
       "    }\n",
       "\n",
       "    .dataframe thead th {\n",
       "        text-align: right;\n",
       "    }\n",
       "</style>\n",
       "<table border=\"1\" class=\"dataframe\">\n",
       "  <thead>\n",
       "    <tr style=\"text-align: right;\">\n",
       "      <th></th>\n",
       "      <th>user_followers</th>\n",
       "    </tr>\n",
       "  </thead>\n",
       "  <tbody>\n",
       "    <tr>\n",
       "      <th>count</th>\n",
       "      <td>3.127950e+05</td>\n",
       "    </tr>\n",
       "    <tr>\n",
       "      <th>mean</th>\n",
       "      <td>8.878023e+04</td>\n",
       "    </tr>\n",
       "    <tr>\n",
       "      <th>std</th>\n",
       "      <td>1.184703e+06</td>\n",
       "    </tr>\n",
       "    <tr>\n",
       "      <th>min</th>\n",
       "      <td>0.000000e+00</td>\n",
       "    </tr>\n",
       "    <tr>\n",
       "      <th>25%</th>\n",
       "      <td>1.130000e+02</td>\n",
       "    </tr>\n",
       "    <tr>\n",
       "      <th>50%</th>\n",
       "      <td>4.740000e+02</td>\n",
       "    </tr>\n",
       "    <tr>\n",
       "      <th>75%</th>\n",
       "      <td>2.048000e+03</td>\n",
       "    </tr>\n",
       "    <tr>\n",
       "      <th>max</th>\n",
       "      <td>7.806182e+07</td>\n",
       "    </tr>\n",
       "  </tbody>\n",
       "</table>\n",
       "</div>"
      ],
      "text/plain": [
       "       user_followers\n",
       "count    3.127950e+05\n",
       "mean     8.878023e+04\n",
       "std      1.184703e+06\n",
       "min      0.000000e+00\n",
       "25%      1.130000e+02\n",
       "50%      4.740000e+02\n",
       "75%      2.048000e+03\n",
       "max      7.806182e+07"
      ]
     },
     "execution_count": 7,
     "metadata": {},
     "output_type": "execute_result"
    }
   ],
   "source": [
    "df.describe()"
   ]
  },
  {
   "cell_type": "markdown",
   "metadata": {
    "id": "JDf2yomn1seV"
   },
   "source": [
    "#### Melihat columns data"
   ]
  },
  {
   "cell_type": "code",
   "execution_count": 8,
   "metadata": {
    "colab": {
     "base_uri": "https://localhost:8080/"
    },
    "id": "sKt63JTG1seW",
    "outputId": "ad6da6e2-507e-4bd1-9dff-5df7df578ddb"
   },
   "outputs": [
    {
     "data": {
      "text/plain": [
       "Index(['id', 'text', 'user_screen_name', 'user_location', 'retweet_count',\n",
       "       'favorited', 'favorite_count', 'user_description', 'user_created_at',\n",
       "       'user_followers', 'user_friends', 'date', 'language'],\n",
       "      dtype='object')"
      ]
     },
     "execution_count": 8,
     "metadata": {},
     "output_type": "execute_result"
    }
   ],
   "source": [
    "df.columns"
   ]
  },
  {
   "cell_type": "markdown",
   "metadata": {
    "id": "Xy7IeRYbZBIA"
   },
   "source": [
    "# Data Cleaning"
   ]
  },
  {
   "cell_type": "markdown",
   "metadata": {
    "id": "Ad9kFQZSZBIB"
   },
   "source": [
    "#### Membuat dataset baru"
   ]
  },
  {
   "cell_type": "code",
   "execution_count": 9,
   "metadata": {
    "colab": {
     "base_uri": "https://localhost:8080/",
     "height": 0
    },
    "id": "ta4UbPtzbjWs",
    "outputId": "84665182-e805-4daa-fbf0-15f1bc44e1f8"
   },
   "outputs": [
    {
     "data": {
      "text/html": [
       "<div>\n",
       "<style scoped>\n",
       "    .dataframe tbody tr th:only-of-type {\n",
       "        vertical-align: middle;\n",
       "    }\n",
       "\n",
       "    .dataframe tbody tr th {\n",
       "        vertical-align: top;\n",
       "    }\n",
       "\n",
       "    .dataframe thead th {\n",
       "        text-align: right;\n",
       "    }\n",
       "</style>\n",
       "<table border=\"1\" class=\"dataframe\">\n",
       "  <thead>\n",
       "    <tr style=\"text-align: right;\">\n",
       "      <th></th>\n",
       "      <th>tweets</th>\n",
       "    </tr>\n",
       "  </thead>\n",
       "  <tbody>\n",
       "    <tr>\n",
       "      <th>0</th>\n",
       "      <td>Rejected sports for the 2020 Olympics include ...</td>\n",
       "    </tr>\n",
       "    <tr>\n",
       "      <th>1</th>\n",
       "      <td>Why is the Team USA men basketball team playin...</td>\n",
       "    </tr>\n",
       "    <tr>\n",
       "      <th>2</th>\n",
       "      <td>@my_hive_away I'm watching kayaking on the Oly...</td>\n",
       "    </tr>\n",
       "    <tr>\n",
       "      <th>3</th>\n",
       "      <td>While girls her age are still trying to figuri...</td>\n",
       "    </tr>\n",
       "    <tr>\n",
       "      <th>4</th>\n",
       "      <td>@omensfromeden patty mills is at the Olympics???</td>\n",
       "    </tr>\n",
       "    <tr>\n",
       "      <th>...</th>\n",
       "      <td>...</td>\n",
       "    </tr>\n",
       "    <tr>\n",
       "      <th>312820</th>\n",
       "      <td>This artistic swimming is unreal. #Olympics</td>\n",
       "    </tr>\n",
       "    <tr>\n",
       "      <th>312821</th>\n",
       "      <td>@fZaq6zCW8aVobP5 @Noormehr_Javan @Olympics @wo...</td>\n",
       "    </tr>\n",
       "    <tr>\n",
       "      <th>312822</th>\n",
       "      <td>finally someone said it!\\n@__ashutosh___ \\ndif...</td>\n",
       "    </tr>\n",
       "    <tr>\n",
       "      <th>312823</th>\n",
       "      <td>@hnonoo75 @Olympics @BahrainOlympic Congratula...</td>\n",
       "    </tr>\n",
       "    <tr>\n",
       "      <th>312824</th>\n",
       "      <td>Champian you won billion hearts today @Neeraj_...</td>\n",
       "    </tr>\n",
       "  </tbody>\n",
       "</table>\n",
       "<p>312825 rows × 1 columns</p>\n",
       "</div>"
      ],
      "text/plain": [
       "                                                   tweets\n",
       "0       Rejected sports for the 2020 Olympics include ...\n",
       "1       Why is the Team USA men basketball team playin...\n",
       "2       @my_hive_away I'm watching kayaking on the Oly...\n",
       "3       While girls her age are still trying to figuri...\n",
       "4        @omensfromeden patty mills is at the Olympics???\n",
       "...                                                   ...\n",
       "312820        This artistic swimming is unreal. #Olympics\n",
       "312821  @fZaq6zCW8aVobP5 @Noormehr_Javan @Olympics @wo...\n",
       "312822  finally someone said it!\\n@__ashutosh___ \\ndif...\n",
       "312823  @hnonoo75 @Olympics @BahrainOlympic Congratula...\n",
       "312824  Champian you won billion hearts today @Neeraj_...\n",
       "\n",
       "[312825 rows x 1 columns]"
      ]
     },
     "execution_count": 9,
     "metadata": {},
     "output_type": "execute_result"
    }
   ],
   "source": [
    "dataset = pd.DataFrame(df['text'].values, columns=['tweets'])\n",
    "dataset"
   ]
  },
  {
   "cell_type": "markdown",
   "metadata": {
    "id": "02BBgBI01seX"
   },
   "source": [
    "Dataset baru hanya mengambil feature tweets untuk dilakukan proses sentiment analysis"
   ]
  },
  {
   "cell_type": "markdown",
   "metadata": {
    "id": "M4FqxBjbZBIC"
   },
   "source": [
    "#### Melakukan pengecekan missing values"
   ]
  },
  {
   "cell_type": "code",
   "execution_count": 10,
   "metadata": {
    "colab": {
     "base_uri": "https://localhost:8080/"
    },
    "id": "U1rCmGANN2Px",
    "outputId": "164a9059-afb0-4b7d-dd08-478abc8688aa"
   },
   "outputs": [
    {
     "data": {
      "text/plain": [
       "tweets    4\n",
       "dtype: int64"
      ]
     },
     "execution_count": 10,
     "metadata": {},
     "output_type": "execute_result"
    }
   ],
   "source": [
    "dataset.isna().sum()"
   ]
  },
  {
   "cell_type": "markdown",
   "metadata": {
    "id": "IqVmlG4d1seZ"
   },
   "source": [
    "terdapat 4 missing values pada features tweets"
   ]
  },
  {
   "cell_type": "markdown",
   "metadata": {
    "id": "ADARPOuWZBID"
   },
   "source": [
    "#### Mengatasi missing values"
   ]
  },
  {
   "cell_type": "code",
   "execution_count": 11,
   "metadata": {
    "colab": {
     "base_uri": "https://localhost:8080/"
    },
    "id": "qJnR339sbxKk",
    "outputId": "47279108-b668-4e68-dee5-f7c33c050013"
   },
   "outputs": [
    {
     "data": {
      "text/plain": [
       "tweets    0\n",
       "dtype: int64"
      ]
     },
     "execution_count": 11,
     "metadata": {},
     "output_type": "execute_result"
    }
   ],
   "source": [
    "dataset.dropna(inplace=True)\n",
    "dataset.isna().sum()"
   ]
  },
  {
   "cell_type": "markdown",
   "metadata": {
    "id": "S4mmRk6_1seb"
   },
   "source": [
    "melakukan penghapusan data untuk mengatasi missing values"
   ]
  },
  {
   "cell_type": "markdown",
   "metadata": {
    "id": "4xfYjcBydBhF"
   },
   "source": [
    "#### Melakukan pembersihan text"
   ]
  },
  {
   "cell_type": "code",
   "execution_count": 12,
   "metadata": {
    "id": "6HaxVwmdtG90"
   },
   "outputs": [],
   "source": [
    "def remove_url(text):\n",
    "  url = re.compile(r\"https?://\\S+|www\\.\\S+\")\n",
    "  return url.sub(r\"\", text)\n",
    "\n",
    "def remove_html(text):\n",
    "  html = re.compile(r\"<.*?>\")\n",
    "  return html.sub(r\"\", text)\n",
    "\n",
    "def remove_num(text):\n",
    "  text = re.sub(r\"@[A-Za-z0-9]+\", '', text)\n",
    "  return text\n",
    "\n",
    "def remove_emoji(string):\n",
    "  emoji_pattern = re.compile(\n",
    "      \"[\"\n",
    "      u\"\\U0001F600-\\U0001F64F\" #Emoticons\n",
    "      u\"\\U0001F300-\\U0001F5FF\" #symbols & picture\n",
    "      u\"\\U0001F680-\\U0001F6FF\" #transport & map symbols\n",
    "      u\"\\U0001F1E0-\\U0001F1FF\" # flags(iOS)\n",
    "      u\"\\U00002702-\\U00002780\"\n",
    "      u\"\\U000024C2-\\U0001F251\"\n",
    "      \"]+\",\n",
    "      flags=re.UNICODE,\n",
    "  )\n",
    "  return emoji_pattern.sub(r\"\", string)\n",
    "\n",
    "def remove_punct(text):\n",
    "  table = str.maketrans(\"\",\"\", string.punctuation)\n",
    "  return text.translate(table)"
   ]
  },
  {
   "cell_type": "code",
   "execution_count": 13,
   "metadata": {
    "id": "_H01jpQ5tHMC"
   },
   "outputs": [],
   "source": [
    "dataset['tweets'] = dataset['tweets'].map(lambda x: remove_url(x))\n",
    "dataset['tweets'] = dataset['tweets'].map(lambda x: remove_html(x))\n",
    "dataset['tweets'] = dataset['tweets'].map(lambda x: remove_emoji(x))\n",
    "dataset['tweets'] = dataset['tweets'].map(lambda x: remove_punct(x))\n",
    "dataset['tweets'] = dataset['tweets'].apply(remove_num)"
   ]
  },
  {
   "cell_type": "markdown",
   "metadata": {
    "id": "KA5Z1vrl1sec"
   },
   "source": [
    "melakukan pembersihan untuk menghilangkan url, html, number, emoji dan punctuation pada features tweets"
   ]
  },
  {
   "cell_type": "markdown",
   "metadata": {
    "id": "0cmjMoHTZBIH"
   },
   "source": [
    "#### Menghilangkan stopwords"
   ]
  },
  {
   "cell_type": "code",
   "execution_count": 14,
   "metadata": {
    "id": "0hKi_BtOZBIH"
   },
   "outputs": [],
   "source": [
    "stop = set(stopwords.words('english'))\n",
    "\n",
    "\n",
    "def remove_stopwords(text):\n",
    "    text = [word.lower() for word in text.split() if word.lower() not in stop]\n",
    "    \n",
    "    return \" \".join(text)"
   ]
  },
  {
   "cell_type": "code",
   "execution_count": 15,
   "metadata": {
    "id": "uJWHslbnZBII"
   },
   "outputs": [],
   "source": [
    "dataset['tweets'] = dataset['tweets'].map(remove_stopwords)"
   ]
  },
  {
   "cell_type": "markdown",
   "metadata": {
    "id": "U-RHx4wlb820"
   },
   "source": [
    "Stop word adalah kata yang umum digunakan (seperti “the”, “a”, “an”, “in”) yang telah diprogram untuk diabaikan oleh search engine,\n",
    "untuk itu Kita akan menghapus stopwords sesuai dengan yang tersimpan dalam corpus nltk untuk mempercepat waktu pemrosesan. "
   ]
  },
  {
   "cell_type": "markdown",
   "metadata": {
    "id": "toVfD-qlgN_W"
   },
   "source": [
    "#### Membuat function untuk Subjektivitas"
   ]
  },
  {
   "cell_type": "code",
   "execution_count": 16,
   "metadata": {
    "id": "dub2hq__e9uU"
   },
   "outputs": [],
   "source": [
    "def getSubjectivity(text):\n",
    "  return TextBlob(text).sentiment.subjectivity"
   ]
  },
  {
   "cell_type": "markdown",
   "metadata": {
    "id": "2ektkBDS1sef"
   },
   "source": [
    "subjectivity untuk melihat value dari tweet itu adalah opini atau faktual"
   ]
  },
  {
   "cell_type": "markdown",
   "metadata": {
    "id": "rDAiRXQtgk8s"
   },
   "source": [
    "#### Membuat function untuk Polarity"
   ]
  },
  {
   "cell_type": "code",
   "execution_count": 17,
   "metadata": {
    "id": "9ow0p4jUgs9s"
   },
   "outputs": [],
   "source": [
    "def getPolarity(text):\n",
    "  return TextBlob(text).sentiment.polarity"
   ]
  },
  {
   "cell_type": "markdown",
   "metadata": {
    "id": "C10KBXMX1sef"
   },
   "source": [
    "Polarity digunakan untuk melihat seberapa positif atau negatif sebuah teks"
   ]
  },
  {
   "cell_type": "markdown",
   "metadata": {
    "id": "n-e-zFU6g7H8"
   },
   "source": [
    "#### Membuat Feature baru yaitu Subjectivity dan Polarity"
   ]
  },
  {
   "cell_type": "code",
   "execution_count": 18,
   "metadata": {
    "id": "AUbFSrtGg30o"
   },
   "outputs": [],
   "source": [
    "dataset['Subjectivity'] = dataset['tweets'].apply(getSubjectivity)\n",
    "dataset['Polarity'] = dataset['tweets'].apply(getPolarity)"
   ]
  },
  {
   "cell_type": "markdown",
   "metadata": {
    "id": "B80rIloviFUq"
   },
   "source": [
    "#### Melihat dataset baru"
   ]
  },
  {
   "cell_type": "code",
   "execution_count": 19,
   "metadata": {
    "colab": {
     "base_uri": "https://localhost:8080/",
     "height": 419
    },
    "id": "OfE7P97ThXjf",
    "outputId": "648a2fa3-a920-4797-a2cb-cd840d92bed4"
   },
   "outputs": [
    {
     "data": {
      "text/html": [
       "<div>\n",
       "<style scoped>\n",
       "    .dataframe tbody tr th:only-of-type {\n",
       "        vertical-align: middle;\n",
       "    }\n",
       "\n",
       "    .dataframe tbody tr th {\n",
       "        vertical-align: top;\n",
       "    }\n",
       "\n",
       "    .dataframe thead th {\n",
       "        text-align: right;\n",
       "    }\n",
       "</style>\n",
       "<table border=\"1\" class=\"dataframe\">\n",
       "  <thead>\n",
       "    <tr style=\"text-align: right;\">\n",
       "      <th></th>\n",
       "      <th>tweets</th>\n",
       "      <th>Subjectivity</th>\n",
       "      <th>Polarity</th>\n",
       "    </tr>\n",
       "  </thead>\n",
       "  <tbody>\n",
       "    <tr>\n",
       "      <th>0</th>\n",
       "      <td>rejected sports 2020 olympics include bowling ...</td>\n",
       "      <td>0.000000</td>\n",
       "      <td>0.000000</td>\n",
       "    </tr>\n",
       "    <tr>\n",
       "      <th>1</th>\n",
       "      <td>team usa men basketball team playing horrible ...</td>\n",
       "      <td>1.000000</td>\n",
       "      <td>-0.450000</td>\n",
       "    </tr>\n",
       "    <tr>\n",
       "      <th>2</th>\n",
       "      <td>myhiveaway im watching kayaking olympics broad...</td>\n",
       "      <td>0.575000</td>\n",
       "      <td>0.375000</td>\n",
       "    </tr>\n",
       "    <tr>\n",
       "      <th>3</th>\n",
       "      <td>girls age still trying figuring open account o...</td>\n",
       "      <td>0.350000</td>\n",
       "      <td>0.050000</td>\n",
       "    </tr>\n",
       "    <tr>\n",
       "      <th>4</th>\n",
       "      <td>omensfromeden patty mills olympics</td>\n",
       "      <td>0.000000</td>\n",
       "      <td>0.000000</td>\n",
       "    </tr>\n",
       "    <tr>\n",
       "      <th>...</th>\n",
       "      <td>...</td>\n",
       "      <td>...</td>\n",
       "      <td>...</td>\n",
       "    </tr>\n",
       "    <tr>\n",
       "      <th>312820</th>\n",
       "      <td>artistic swimming unreal olympics</td>\n",
       "      <td>1.000000</td>\n",
       "      <td>0.333333</td>\n",
       "    </tr>\n",
       "    <tr>\n",
       "      <th>312821</th>\n",
       "      <td>fzaq6zcw8avobp5 noormehrjavan olympics worldka...</td>\n",
       "      <td>0.000000</td>\n",
       "      <td>0.000000</td>\n",
       "    </tr>\n",
       "    <tr>\n",
       "      <th>312822</th>\n",
       "      <td>finally someone said ashutosh difference pseud...</td>\n",
       "      <td>0.533333</td>\n",
       "      <td>0.133333</td>\n",
       "    </tr>\n",
       "    <tr>\n",
       "      <th>312823</th>\n",
       "      <td>hnonoo75 olympics bahrainolympic congratulatio...</td>\n",
       "      <td>0.000000</td>\n",
       "      <td>0.000000</td>\n",
       "    </tr>\n",
       "    <tr>\n",
       "      <th>312824</th>\n",
       "      <td>champian billion hearts today neerajchopra1 at...</td>\n",
       "      <td>0.000000</td>\n",
       "      <td>0.000000</td>\n",
       "    </tr>\n",
       "  </tbody>\n",
       "</table>\n",
       "<p>312821 rows × 3 columns</p>\n",
       "</div>"
      ],
      "text/plain": [
       "                                                   tweets  ...  Polarity\n",
       "0       rejected sports 2020 olympics include bowling ...  ...  0.000000\n",
       "1       team usa men basketball team playing horrible ...  ... -0.450000\n",
       "2       myhiveaway im watching kayaking olympics broad...  ...  0.375000\n",
       "3       girls age still trying figuring open account o...  ...  0.050000\n",
       "4                      omensfromeden patty mills olympics  ...  0.000000\n",
       "...                                                   ...  ...       ...\n",
       "312820                  artistic swimming unreal olympics  ...  0.333333\n",
       "312821  fzaq6zcw8avobp5 noormehrjavan olympics worldka...  ...  0.000000\n",
       "312822  finally someone said ashutosh difference pseud...  ...  0.133333\n",
       "312823  hnonoo75 olympics bahrainolympic congratulatio...  ...  0.000000\n",
       "312824  champian billion hearts today neerajchopra1 at...  ...  0.000000\n",
       "\n",
       "[312821 rows x 3 columns]"
      ]
     },
     "execution_count": 19,
     "metadata": {},
     "output_type": "execute_result"
    }
   ],
   "source": [
    "dataset"
   ]
  },
  {
   "cell_type": "markdown",
   "metadata": {
    "id": "RJfBL5tl0Shj"
   },
   "source": [
    "#### Membuat function untuk melakukan pemisahan kategori negative, neutral, and positive analysis"
   ]
  },
  {
   "cell_type": "code",
   "execution_count": 20,
   "metadata": {
    "id": "Ldf88IGMz4-Q"
   },
   "outputs": [],
   "source": [
    "def getScore(score):\n",
    "  if score < 0:\n",
    "    return 'Negative'\n",
    "  elif score == 0:\n",
    "    return \"Neutral\"\n",
    "  else:\n",
    "    return \"Positive\""
   ]
  },
  {
   "cell_type": "markdown",
   "metadata": {
    "id": "zHoq5qsz1sek"
   },
   "source": [
    "membuat function getScore untuk membuat klasifikasi tweets Negative, Neutral, dan Positive"
   ]
  },
  {
   "cell_type": "markdown",
   "metadata": {
    "id": "g-xzLGHH00MP"
   },
   "source": [
    "#### Membuat Features Label"
   ]
  },
  {
   "cell_type": "code",
   "execution_count": 21,
   "metadata": {
    "id": "LiwXRm5u0ydf"
   },
   "outputs": [],
   "source": [
    "dataset['Label'] = dataset['Polarity'].apply(getScore)"
   ]
  },
  {
   "cell_type": "code",
   "execution_count": 22,
   "metadata": {
    "colab": {
     "base_uri": "https://localhost:8080/",
     "height": 419
    },
    "id": "EvKG3sPY1IAj",
    "outputId": "ece632fa-e625-4fbb-f3f0-e6348d3059b4"
   },
   "outputs": [
    {
     "data": {
      "text/html": [
       "<div>\n",
       "<style scoped>\n",
       "    .dataframe tbody tr th:only-of-type {\n",
       "        vertical-align: middle;\n",
       "    }\n",
       "\n",
       "    .dataframe tbody tr th {\n",
       "        vertical-align: top;\n",
       "    }\n",
       "\n",
       "    .dataframe thead th {\n",
       "        text-align: right;\n",
       "    }\n",
       "</style>\n",
       "<table border=\"1\" class=\"dataframe\">\n",
       "  <thead>\n",
       "    <tr style=\"text-align: right;\">\n",
       "      <th></th>\n",
       "      <th>tweets</th>\n",
       "      <th>Subjectivity</th>\n",
       "      <th>Polarity</th>\n",
       "      <th>Label</th>\n",
       "    </tr>\n",
       "  </thead>\n",
       "  <tbody>\n",
       "    <tr>\n",
       "      <th>0</th>\n",
       "      <td>rejected sports 2020 olympics include bowling ...</td>\n",
       "      <td>0.000000</td>\n",
       "      <td>0.000000</td>\n",
       "      <td>Neutral</td>\n",
       "    </tr>\n",
       "    <tr>\n",
       "      <th>1</th>\n",
       "      <td>team usa men basketball team playing horrible ...</td>\n",
       "      <td>1.000000</td>\n",
       "      <td>-0.450000</td>\n",
       "      <td>Negative</td>\n",
       "    </tr>\n",
       "    <tr>\n",
       "      <th>2</th>\n",
       "      <td>myhiveaway im watching kayaking olympics broad...</td>\n",
       "      <td>0.575000</td>\n",
       "      <td>0.375000</td>\n",
       "      <td>Positive</td>\n",
       "    </tr>\n",
       "    <tr>\n",
       "      <th>3</th>\n",
       "      <td>girls age still trying figuring open account o...</td>\n",
       "      <td>0.350000</td>\n",
       "      <td>0.050000</td>\n",
       "      <td>Positive</td>\n",
       "    </tr>\n",
       "    <tr>\n",
       "      <th>4</th>\n",
       "      <td>omensfromeden patty mills olympics</td>\n",
       "      <td>0.000000</td>\n",
       "      <td>0.000000</td>\n",
       "      <td>Neutral</td>\n",
       "    </tr>\n",
       "    <tr>\n",
       "      <th>...</th>\n",
       "      <td>...</td>\n",
       "      <td>...</td>\n",
       "      <td>...</td>\n",
       "      <td>...</td>\n",
       "    </tr>\n",
       "    <tr>\n",
       "      <th>312820</th>\n",
       "      <td>artistic swimming unreal olympics</td>\n",
       "      <td>1.000000</td>\n",
       "      <td>0.333333</td>\n",
       "      <td>Positive</td>\n",
       "    </tr>\n",
       "    <tr>\n",
       "      <th>312821</th>\n",
       "      <td>fzaq6zcw8avobp5 noormehrjavan olympics worldka...</td>\n",
       "      <td>0.000000</td>\n",
       "      <td>0.000000</td>\n",
       "      <td>Neutral</td>\n",
       "    </tr>\n",
       "    <tr>\n",
       "      <th>312822</th>\n",
       "      <td>finally someone said ashutosh difference pseud...</td>\n",
       "      <td>0.533333</td>\n",
       "      <td>0.133333</td>\n",
       "      <td>Positive</td>\n",
       "    </tr>\n",
       "    <tr>\n",
       "      <th>312823</th>\n",
       "      <td>hnonoo75 olympics bahrainolympic congratulatio...</td>\n",
       "      <td>0.000000</td>\n",
       "      <td>0.000000</td>\n",
       "      <td>Neutral</td>\n",
       "    </tr>\n",
       "    <tr>\n",
       "      <th>312824</th>\n",
       "      <td>champian billion hearts today neerajchopra1 at...</td>\n",
       "      <td>0.000000</td>\n",
       "      <td>0.000000</td>\n",
       "      <td>Neutral</td>\n",
       "    </tr>\n",
       "  </tbody>\n",
       "</table>\n",
       "<p>312821 rows × 4 columns</p>\n",
       "</div>"
      ],
      "text/plain": [
       "                                                   tweets  ...     Label\n",
       "0       rejected sports 2020 olympics include bowling ...  ...   Neutral\n",
       "1       team usa men basketball team playing horrible ...  ...  Negative\n",
       "2       myhiveaway im watching kayaking olympics broad...  ...  Positive\n",
       "3       girls age still trying figuring open account o...  ...  Positive\n",
       "4                      omensfromeden patty mills olympics  ...   Neutral\n",
       "...                                                   ...  ...       ...\n",
       "312820                  artistic swimming unreal olympics  ...  Positive\n",
       "312821  fzaq6zcw8avobp5 noormehrjavan olympics worldka...  ...   Neutral\n",
       "312822  finally someone said ashutosh difference pseud...  ...  Positive\n",
       "312823  hnonoo75 olympics bahrainolympic congratulatio...  ...   Neutral\n",
       "312824  champian billion hearts today neerajchopra1 at...  ...   Neutral\n",
       "\n",
       "[312821 rows x 4 columns]"
      ]
     },
     "execution_count": 22,
     "metadata": {},
     "output_type": "execute_result"
    }
   ],
   "source": [
    "dataset"
   ]
  },
  {
   "cell_type": "markdown",
   "metadata": {
    "id": "0PdKsuVP1sem"
   },
   "source": [
    "Membuat features Label yang valuesnya adalah klasifikasi tweets Negative, Neutral, dan Positive "
   ]
  },
  {
   "cell_type": "markdown",
   "metadata": {
    "id": "6NsD5-HqZBIO"
   },
   "source": [
    "# Exploratory Data Analysis"
   ]
  },
  {
   "cell_type": "markdown",
   "metadata": {
    "id": "QEVJ_DyUZBIO"
   },
   "source": [
    "#### Melakukan visualisasi word cloud"
   ]
  },
  {
   "cell_type": "code",
   "execution_count": 23,
   "metadata": {
    "colab": {
     "base_uri": "https://localhost:8080/",
     "height": 269
    },
    "id": "xZPuoMh1ZBIO",
    "outputId": "53e1e4fb-ce59-4c31-954c-06d49c240bc1"
   },
   "outputs": [
    {
     "data": {
      "text/plain": [
       "<matplotlib.image.AxesImage at 0x7f545de41690>"
      ]
     },
     "execution_count": 23,
     "metadata": {},
     "output_type": "execute_result"
    },
    {
     "data": {
      "image/png": "[encoded data removed]",
      "text/plain": [
       "<Figure size 432x288 with 1 Axes>"
      ]
     },
     "metadata": {
      "needs_background": "light"
     },
     "output_type": "display_data"
    }
   ],
   "source": [
    "allWords = ' '.join([twts for twts in dataset['tweets']])\n",
    "WordCloud = WordCloud(width=500, height=300, random_state=20, max_font_size= 119).generate(allWords)\n",
    "\n",
    "plt.imshow(WordCloud, interpolation='bilinear')"
   ]
  },
  {
   "cell_type": "markdown",
   "metadata": {
    "id": "InmXr8fh1sen"
   },
   "source": [
    "Dari visualisasi terlihat bahwa kata 'Tokyo' dan 'Olympic' adalah kata yang sering muncul"
   ]
  },
  {
   "cell_type": "markdown",
   "metadata": {
    "id": "FtDv2y77GE-D"
   },
   "source": [
    "#### Persentase Positive tweets"
   ]
  },
  {
   "cell_type": "code",
   "execution_count": 24,
   "metadata": {
    "colab": {
     "base_uri": "https://localhost:8080/",
     "height": 300
    },
    "id": "eNXDAgjr790-",
    "outputId": "2dfa1809-7d4e-40bd-dcea-31d2fe1a980c"
   },
   "outputs": [
    {
     "data": {
      "image/png": "[encoded data removed]",
      "text/plain": [
       "<Figure size 432x288 with 1 Axes>"
      ]
     },
     "metadata": {
      "needs_background": "light"
     },
     "output_type": "display_data"
    }
   ],
   "source": [
    "dataset.Label.value_counts().plot(kind='bar');"
   ]
  },
  {
   "cell_type": "code",
   "execution_count": 25,
   "metadata": {
    "colab": {
     "base_uri": "https://localhost:8080/"
    },
    "id": "OxYz2SeiGEc0",
    "outputId": "c8a75d1b-0c54-4442-8ac3-932babdd824f"
   },
   "outputs": [
    {
     "name": "stdout",
     "output_type": "stream",
     "text": [
      "Persentase Positive tweets =  40.56\n",
      "Persentase Neutral tweets =  46.04\n",
      "Persentase Negative tweets =  13.4\n"
     ]
    }
   ],
   "source": [
    "positive_tweet = dataset[dataset.Label == 'Positive']['tweets']\n",
    "neutral_tweet = dataset[dataset.Label == 'Neutral']['tweets']\n",
    "negative_tweet = dataset[dataset.Label == 'Negative']['tweets']\n",
    "print('Persentase Positive tweets = ',round((positive_tweet.shape[0] / dataset.shape[0])*100 ,2))\n",
    "print('Persentase Neutral tweets = ',round((neutral_tweet.shape[0] / dataset.shape[0])*100 ,2))\n",
    "print('Persentase Negative tweets = ',round((negative_tweet.shape[0] / dataset.shape[0])*100 ,2))"
   ]
  },
  {
   "cell_type": "markdown",
   "metadata": {
    "id": "RNxlR8fwG4Js"
   },
   "source": [
    "#### Melihat Label tweets positive, neutral, dan negative"
   ]
  },
  {
   "cell_type": "code",
   "execution_count": 26,
   "metadata": {
    "colab": {
     "base_uri": "https://localhost:8080/"
    },
    "id": "xHqAFoxXGz6H",
    "outputId": "db219211-8f8f-40f6-b961-b7d5f32988a0"
   },
   "outputs": [
    {
     "name": "stdout",
     "output_type": "stream",
     "text": [
      "Target: Neutral (Neutral)\n",
      "Text:\n",
      "theshaderoom hell disrespectful homophobic comments didnt make olympics somebody else stated\n",
      "\n",
      "---\n",
      "\n",
      "Target: Neutral (Neutral)\n",
      "Text:\n",
      "olympic star allyson felix champion women’s health track allysonfelix…\n",
      "\n",
      "---\n",
      "\n",
      "Target: Negative (Negative)\n",
      "Text:\n",
      "yessrao jonwertheim absurd jonwertheim djokovic probably played olympics in…\n",
      "\n",
      "---\n",
      "\n",
      "Target: Neutral (Neutral)\n",
      "Text:\n",
      "feel like dressage qualify olympics eukenuba dog show 2024s\n",
      "\n",
      "---\n",
      "\n",
      "Target: Positive (Positive)\n",
      "Text:\n",
      "‘we wish real life’ usa iran unite tokyo basketball court\n",
      "\n",
      "---\n",
      "\n"
     ]
    }
   ],
   "source": [
    "random_index = random.randint(0, len(dataset)-5)\n",
    "\n",
    "for row in dataset[[\"tweets\", \"Label\"]][random_index:random_index+5].itertuples():\n",
    "  _, text, target = row\n",
    "  if target == \"Positive\":\n",
    "    print(f\"Target: {target} (Positive)\")\n",
    "  elif target == \"Neutral\":\n",
    "    print(f\"Target: {target} (Neutral)\")\n",
    "  else:\n",
    "    print(f\"Target: {target} (Negative)\")\n",
    "  print(f\"Text:\\n{text}\\n\")\n",
    "  print(\"---\\n\")"
   ]
  },
  {
   "cell_type": "markdown",
   "metadata": {},
   "source": [
    "# Feature Engineering"
   ]
  },
  {
   "cell_type": "markdown",
   "metadata": {
    "id": "XpaLRVZD7lV_"
   },
   "source": [
    "#### Mengubah Categorical menjadi numerical pada features Label"
   ]
  },
  {
   "cell_type": "code",
   "execution_count": 27,
   "metadata": {
    "colab": {
     "base_uri": "https://localhost:8080/"
    },
    "id": "aqLWSZc_7mfd",
    "outputId": "41e8a208-c68d-4f0b-ad38-6c0a78ebc8bd"
   },
   "outputs": [
    {
     "data": {
      "text/plain": [
       "{'Negative': 1, 'Neutral': 0, 'Positive': 2}"
      ]
     },
     "execution_count": 27,
     "metadata": {},
     "output_type": "execute_result"
    }
   ],
   "source": [
    "label_mapping = { k: i for i, k in enumerate(dataset['Label'].unique(), 0)}\n",
    "label_mapping"
   ]
  },
  {
   "cell_type": "code",
   "execution_count": 28,
   "metadata": {
    "id": "kwjMmWsG7msy"
   },
   "outputs": [],
   "source": [
    "dataset['Label'] = dataset['Label'].map(label_mapping)"
   ]
  },
  {
   "cell_type": "code",
   "execution_count": 29,
   "metadata": {
    "colab": {
     "base_uri": "https://localhost:8080/",
     "height": 419
    },
    "id": "A4sPtJqV7m0a",
    "outputId": "739c3931-5534-483c-ca2e-f19c13184738"
   },
   "outputs": [
    {
     "data": {
      "text/html": [
       "<div>\n",
       "<style scoped>\n",
       "    .dataframe tbody tr th:only-of-type {\n",
       "        vertical-align: middle;\n",
       "    }\n",
       "\n",
       "    .dataframe tbody tr th {\n",
       "        vertical-align: top;\n",
       "    }\n",
       "\n",
       "    .dataframe thead th {\n",
       "        text-align: right;\n",
       "    }\n",
       "</style>\n",
       "<table border=\"1\" class=\"dataframe\">\n",
       "  <thead>\n",
       "    <tr style=\"text-align: right;\">\n",
       "      <th></th>\n",
       "      <th>tweets</th>\n",
       "      <th>Subjectivity</th>\n",
       "      <th>Polarity</th>\n",
       "      <th>Label</th>\n",
       "    </tr>\n",
       "  </thead>\n",
       "  <tbody>\n",
       "    <tr>\n",
       "      <th>0</th>\n",
       "      <td>rejected sports 2020 olympics include bowling ...</td>\n",
       "      <td>0.000000</td>\n",
       "      <td>0.000000</td>\n",
       "      <td>0</td>\n",
       "    </tr>\n",
       "    <tr>\n",
       "      <th>1</th>\n",
       "      <td>team usa men basketball team playing horrible ...</td>\n",
       "      <td>1.000000</td>\n",
       "      <td>-0.450000</td>\n",
       "      <td>1</td>\n",
       "    </tr>\n",
       "    <tr>\n",
       "      <th>2</th>\n",
       "      <td>myhiveaway im watching kayaking olympics broad...</td>\n",
       "      <td>0.575000</td>\n",
       "      <td>0.375000</td>\n",
       "      <td>2</td>\n",
       "    </tr>\n",
       "    <tr>\n",
       "      <th>3</th>\n",
       "      <td>girls age still trying figuring open account o...</td>\n",
       "      <td>0.350000</td>\n",
       "      <td>0.050000</td>\n",
       "      <td>2</td>\n",
       "    </tr>\n",
       "    <tr>\n",
       "      <th>4</th>\n",
       "      <td>omensfromeden patty mills olympics</td>\n",
       "      <td>0.000000</td>\n",
       "      <td>0.000000</td>\n",
       "      <td>0</td>\n",
       "    </tr>\n",
       "    <tr>\n",
       "      <th>...</th>\n",
       "      <td>...</td>\n",
       "      <td>...</td>\n",
       "      <td>...</td>\n",
       "      <td>...</td>\n",
       "    </tr>\n",
       "    <tr>\n",
       "      <th>312820</th>\n",
       "      <td>artistic swimming unreal olympics</td>\n",
       "      <td>1.000000</td>\n",
       "      <td>0.333333</td>\n",
       "      <td>2</td>\n",
       "    </tr>\n",
       "    <tr>\n",
       "      <th>312821</th>\n",
       "      <td>fzaq6zcw8avobp5 noormehrjavan olympics worldka...</td>\n",
       "      <td>0.000000</td>\n",
       "      <td>0.000000</td>\n",
       "      <td>0</td>\n",
       "    </tr>\n",
       "    <tr>\n",
       "      <th>312822</th>\n",
       "      <td>finally someone said ashutosh difference pseud...</td>\n",
       "      <td>0.533333</td>\n",
       "      <td>0.133333</td>\n",
       "      <td>2</td>\n",
       "    </tr>\n",
       "    <tr>\n",
       "      <th>312823</th>\n",
       "      <td>hnonoo75 olympics bahrainolympic congratulatio...</td>\n",
       "      <td>0.000000</td>\n",
       "      <td>0.000000</td>\n",
       "      <td>0</td>\n",
       "    </tr>\n",
       "    <tr>\n",
       "      <th>312824</th>\n",
       "      <td>champian billion hearts today neerajchopra1 at...</td>\n",
       "      <td>0.000000</td>\n",
       "      <td>0.000000</td>\n",
       "      <td>0</td>\n",
       "    </tr>\n",
       "  </tbody>\n",
       "</table>\n",
       "<p>312821 rows × 4 columns</p>\n",
       "</div>"
      ],
      "text/plain": [
       "                                                   tweets  ...  Label\n",
       "0       rejected sports 2020 olympics include bowling ...  ...      0\n",
       "1       team usa men basketball team playing horrible ...  ...      1\n",
       "2       myhiveaway im watching kayaking olympics broad...  ...      2\n",
       "3       girls age still trying figuring open account o...  ...      2\n",
       "4                      omensfromeden patty mills olympics  ...      0\n",
       "...                                                   ...  ...    ...\n",
       "312820                  artistic swimming unreal olympics  ...      2\n",
       "312821  fzaq6zcw8avobp5 noormehrjavan olympics worldka...  ...      0\n",
       "312822  finally someone said ashutosh difference pseud...  ...      2\n",
       "312823  hnonoo75 olympics bahrainolympic congratulatio...  ...      0\n",
       "312824  champian billion hearts today neerajchopra1 at...  ...      0\n",
       "\n",
       "[312821 rows x 4 columns]"
      ]
     },
     "execution_count": 29,
     "metadata": {},
     "output_type": "execute_result"
    }
   ],
   "source": [
    "dataset"
   ]
  },
  {
   "cell_type": "code",
   "execution_count": 30,
   "metadata": {
    "id": "u9aHyxPlEgbm"
   },
   "outputs": [],
   "source": [
    "train_dataset, test_dataset = train_test_split(dataset, test_size=0.10)"
   ]
  },
  {
   "cell_type": "markdown",
   "metadata": {
    "id": "Ly-ewFQK1seq"
   },
   "source": [
    "untuk menghindari adanya kemungkinan kebocoran data sehingga kita perlu membagi data terlebih dahulu dan kemudian menerapkan fitur engineering"
   ]
  },
  {
   "cell_type": "code",
   "execution_count": 31,
   "metadata": {
    "colab": {
     "base_uri": "https://localhost:8080/"
    },
    "id": "2KJ8wArxTd-8",
    "outputId": "96d00a76-6583-4d2b-ad94-120f4cc6df40"
   },
   "outputs": [
    {
     "name": "stdout",
     "output_type": "stream",
     "text": [
      "Total training samples: 281538\n",
      "Total test samples: 31283\n",
      "Total samples: 312821\n"
     ]
    }
   ],
   "source": [
    "print(f\"Total training samples: {len(train_dataset)}\")\n",
    "print(f\"Total test samples: {len(test_dataset)}\")\n",
    "print(f\"Total samples: {len(train_dataset) + len(test_dataset)}\")"
   ]
  },
  {
   "cell_type": "code",
   "execution_count": 32,
   "metadata": {
    "colab": {
     "base_uri": "https://localhost:8080/",
     "height": 419
    },
    "id": "xcvPSNi7U-kF",
    "outputId": "126e0a2b-e965-459c-c517-5782875d647c"
   },
   "outputs": [
    {
     "data": {
      "text/html": [
       "<div>\n",
       "<style scoped>\n",
       "    .dataframe tbody tr th:only-of-type {\n",
       "        vertical-align: middle;\n",
       "    }\n",
       "\n",
       "    .dataframe tbody tr th {\n",
       "        vertical-align: top;\n",
       "    }\n",
       "\n",
       "    .dataframe thead th {\n",
       "        text-align: right;\n",
       "    }\n",
       "</style>\n",
       "<table border=\"1\" class=\"dataframe\">\n",
       "  <thead>\n",
       "    <tr style=\"text-align: right;\">\n",
       "      <th></th>\n",
       "      <th>tweets</th>\n",
       "      <th>Subjectivity</th>\n",
       "      <th>Polarity</th>\n",
       "      <th>Label</th>\n",
       "    </tr>\n",
       "  </thead>\n",
       "  <tbody>\n",
       "    <tr>\n",
       "      <th>223322</th>\n",
       "      <td>youtube assams lovlina borgohain confirms 2nd ...</td>\n",
       "      <td>0.000000</td>\n",
       "      <td>0.000000</td>\n",
       "      <td>0</td>\n",
       "    </tr>\n",
       "    <tr>\n",
       "      <th>6474</th>\n",
       "      <td>andyburnhamgm catdaddy94 haha forgive ignoranc...</td>\n",
       "      <td>0.233333</td>\n",
       "      <td>0.100000</td>\n",
       "      <td>2</td>\n",
       "    </tr>\n",
       "    <tr>\n",
       "      <th>271576</th>\n",
       "      <td>goalkeeper alyssa naeher “to channel know inne...</td>\n",
       "      <td>0.310606</td>\n",
       "      <td>0.068182</td>\n",
       "      <td>2</td>\n",
       "    </tr>\n",
       "    <tr>\n",
       "      <th>182076</th>\n",
       "      <td>part nonapology many friends north african roots</td>\n",
       "      <td>0.250000</td>\n",
       "      <td>0.250000</td>\n",
       "      <td>2</td>\n",
       "    </tr>\n",
       "    <tr>\n",
       "      <th>158756</th>\n",
       "      <td>whoiam147 olympics fina1908 oh really</td>\n",
       "      <td>0.200000</td>\n",
       "      <td>0.200000</td>\n",
       "      <td>2</td>\n",
       "    </tr>\n",
       "    <tr>\n",
       "      <th>...</th>\n",
       "      <td>...</td>\n",
       "      <td>...</td>\n",
       "      <td>...</td>\n",
       "      <td>...</td>\n",
       "    </tr>\n",
       "    <tr>\n",
       "      <th>88260</th>\n",
       "      <td>alberto salazar permanently barred track sexua...</td>\n",
       "      <td>0.741667</td>\n",
       "      <td>0.250000</td>\n",
       "      <td>2</td>\n",
       "    </tr>\n",
       "    <tr>\n",
       "      <th>142822</th>\n",
       "      <td>ateezoneteam1 olympics got answer olympicslove...</td>\n",
       "      <td>0.000000</td>\n",
       "      <td>0.000000</td>\n",
       "      <td>0</td>\n",
       "    </tr>\n",
       "    <tr>\n",
       "      <th>278277</th>\n",
       "      <td>olympics rebeca andrade</td>\n",
       "      <td>0.000000</td>\n",
       "      <td>0.000000</td>\n",
       "      <td>0</td>\n",
       "    </tr>\n",
       "    <tr>\n",
       "      <th>35670</th>\n",
       "      <td>anidigital ani yess upgrade medal gold olympic...</td>\n",
       "      <td>0.000000</td>\n",
       "      <td>0.000000</td>\n",
       "      <td>0</td>\n",
       "    </tr>\n",
       "    <tr>\n",
       "      <th>147017</th>\n",
       "      <td>tight hugs zhu ting 🥺🥺🥺 olympics volleyball</td>\n",
       "      <td>0.285714</td>\n",
       "      <td>-0.178571</td>\n",
       "      <td>1</td>\n",
       "    </tr>\n",
       "  </tbody>\n",
       "</table>\n",
       "<p>281538 rows × 4 columns</p>\n",
       "</div>"
      ],
      "text/plain": [
       "                                                   tweets  ...  Label\n",
       "223322  youtube assams lovlina borgohain confirms 2nd ...  ...      0\n",
       "6474    andyburnhamgm catdaddy94 haha forgive ignoranc...  ...      2\n",
       "271576  goalkeeper alyssa naeher “to channel know inne...  ...      2\n",
       "182076   part nonapology many friends north african roots  ...      2\n",
       "158756              whoiam147 olympics fina1908 oh really  ...      2\n",
       "...                                                   ...  ...    ...\n",
       "88260   alberto salazar permanently barred track sexua...  ...      2\n",
       "142822  ateezoneteam1 olympics got answer olympicslove...  ...      0\n",
       "278277                            olympics rebeca andrade  ...      0\n",
       "35670   anidigital ani yess upgrade medal gold olympic...  ...      0\n",
       "147017        tight hugs zhu ting 🥺🥺🥺 olympics volleyball  ...      1\n",
       "\n",
       "[281538 rows x 4 columns]"
      ]
     },
     "execution_count": 32,
     "metadata": {},
     "output_type": "execute_result"
    }
   ],
   "source": [
    "train_dataset"
   ]
  },
  {
   "cell_type": "code",
   "execution_count": 33,
   "metadata": {
    "colab": {
     "base_uri": "https://localhost:8080/",
     "height": 419
    },
    "id": "yL1vkqOyxpgd",
    "outputId": "e2529e4a-bda7-44bd-eb93-79b890a7520b"
   },
   "outputs": [
    {
     "data": {
      "text/html": [
       "<div>\n",
       "<style scoped>\n",
       "    .dataframe tbody tr th:only-of-type {\n",
       "        vertical-align: middle;\n",
       "    }\n",
       "\n",
       "    .dataframe tbody tr th {\n",
       "        vertical-align: top;\n",
       "    }\n",
       "\n",
       "    .dataframe thead th {\n",
       "        text-align: right;\n",
       "    }\n",
       "</style>\n",
       "<table border=\"1\" class=\"dataframe\">\n",
       "  <thead>\n",
       "    <tr style=\"text-align: right;\">\n",
       "      <th></th>\n",
       "      <th>tweets</th>\n",
       "      <th>Subjectivity</th>\n",
       "      <th>Polarity</th>\n",
       "      <th>Label</th>\n",
       "    </tr>\n",
       "  </thead>\n",
       "  <tbody>\n",
       "    <tr>\n",
       "      <th>143730</th>\n",
       "      <td>kimmybaek2 olympics got answer olympicslovesat...</td>\n",
       "      <td>0.000000</td>\n",
       "      <td>0.000000</td>\n",
       "      <td>0</td>\n",
       "    </tr>\n",
       "    <tr>\n",
       "      <th>256449</th>\n",
       "      <td>may wrong novak pulled mixed doubles bronze ma...</td>\n",
       "      <td>0.575000</td>\n",
       "      <td>-0.250000</td>\n",
       "      <td>1</td>\n",
       "    </tr>\n",
       "    <tr>\n",
       "      <th>309737</th>\n",
       "      <td>finally gold 🥇and thanks neerajchopra hats gol...</td>\n",
       "      <td>0.733333</td>\n",
       "      <td>0.333333</td>\n",
       "      <td>2</td>\n",
       "    </tr>\n",
       "    <tr>\n",
       "      <th>107088</th>\n",
       "      <td>i’d love see dad bod olympics events 1 hanging...</td>\n",
       "      <td>0.600000</td>\n",
       "      <td>0.500000</td>\n",
       "      <td>2</td>\n",
       "    </tr>\n",
       "    <tr>\n",
       "      <th>67172</th>\n",
       "      <td>dont understand olympics calling standing leg ...</td>\n",
       "      <td>0.600000</td>\n",
       "      <td>0.700000</td>\n",
       "      <td>2</td>\n",
       "    </tr>\n",
       "    <tr>\n",
       "      <th>...</th>\n",
       "      <td>...</td>\n",
       "      <td>...</td>\n",
       "      <td>...</td>\n",
       "      <td>...</td>\n",
       "    </tr>\n",
       "    <tr>\n",
       "      <th>129327</th>\n",
       "      <td>hyped gymnastics goat going olympics faced tin...</td>\n",
       "      <td>0.500000</td>\n",
       "      <td>0.000000</td>\n",
       "      <td>0</td>\n",
       "    </tr>\n",
       "    <tr>\n",
       "      <th>104333</th>\n",
       "      <td>watch tennis tokyo olympics schedule channels amp</td>\n",
       "      <td>0.000000</td>\n",
       "      <td>0.000000</td>\n",
       "      <td>0</td>\n",
       "    </tr>\n",
       "    <tr>\n",
       "      <th>94995</th>\n",
       "      <td>omg naomi lost 🥺 olympics olympicgames olympic...</td>\n",
       "      <td>0.000000</td>\n",
       "      <td>0.000000</td>\n",
       "      <td>0</td>\n",
       "    </tr>\n",
       "    <tr>\n",
       "      <th>34199</th>\n",
       "      <td>skateboard olympics</td>\n",
       "      <td>0.000000</td>\n",
       "      <td>0.000000</td>\n",
       "      <td>0</td>\n",
       "    </tr>\n",
       "    <tr>\n",
       "      <th>304027</th>\n",
       "      <td>equestrian team event favorite far olympics lo...</td>\n",
       "      <td>0.925000</td>\n",
       "      <td>0.225000</td>\n",
       "      <td>2</td>\n",
       "    </tr>\n",
       "  </tbody>\n",
       "</table>\n",
       "<p>31283 rows × 4 columns</p>\n",
       "</div>"
      ],
      "text/plain": [
       "                                                   tweets  ...  Label\n",
       "143730  kimmybaek2 olympics got answer olympicslovesat...  ...      0\n",
       "256449  may wrong novak pulled mixed doubles bronze ma...  ...      1\n",
       "309737  finally gold 🥇and thanks neerajchopra hats gol...  ...      2\n",
       "107088  i’d love see dad bod olympics events 1 hanging...  ...      2\n",
       "67172   dont understand olympics calling standing leg ...  ...      2\n",
       "...                                                   ...  ...    ...\n",
       "129327  hyped gymnastics goat going olympics faced tin...  ...      0\n",
       "104333  watch tennis tokyo olympics schedule channels amp  ...      0\n",
       "94995   omg naomi lost 🥺 olympics olympicgames olympic...  ...      0\n",
       "34199                                 skateboard olympics  ...      0\n",
       "304027  equestrian team event favorite far olympics lo...  ...      2\n",
       "\n",
       "[31283 rows x 4 columns]"
      ]
     },
     "execution_count": 33,
     "metadata": {},
     "output_type": "execute_result"
    }
   ],
   "source": [
    "test_dataset"
   ]
  },
  {
   "cell_type": "markdown",
   "metadata": {},
   "source": [
    "# Data Preprocessing"
   ]
  },
  {
   "cell_type": "markdown",
   "metadata": {
    "id": "WfNTcjmzUrgj"
   },
   "source": [
    "#### Menyiapkan target"
   ]
  },
  {
   "cell_type": "code",
   "execution_count": 34,
   "metadata": {
    "id": "rjLeQEtPUtte"
   },
   "outputs": [],
   "source": [
    "X_train, y_train = train_dataset.tweets, train_dataset.Label\n",
    "X_test, y_test = test_dataset.tweets, test_dataset.Label"
   ]
  },
  {
   "cell_type": "code",
   "execution_count": 35,
   "metadata": {
    "id": "nbdh3r14uvhq"
   },
   "outputs": [],
   "source": [
    "def prepare_targets(y_train, y_test):\n",
    "    y_train_enc = to_categorical(y_train)\n",
    "    y_test_enc = to_categorical(y_test)\n",
    "    return y_train_enc, y_test_enc\n",
    "\n",
    "y_train, y_test = prepare_targets(y_train, y_test)"
   ]
  },
  {
   "cell_type": "code",
   "execution_count": 36,
   "metadata": {
    "colab": {
     "base_uri": "https://localhost:8080/"
    },
    "id": "J3eJMiyZyTE4",
    "outputId": "05273e47-6a60-48fc-f1ac-f272017155bc"
   },
   "outputs": [
    {
     "data": {
      "text/plain": [
       "array([[1., 0., 0.],\n",
       "       [0., 0., 1.],\n",
       "       [0., 0., 1.],\n",
       "       ...,\n",
       "       [1., 0., 0.],\n",
       "       [1., 0., 0.],\n",
       "       [0., 1., 0.]], dtype=float32)"
      ]
     },
     "execution_count": 36,
     "metadata": {},
     "output_type": "execute_result"
    }
   ],
   "source": [
    "y_train"
   ]
  },
  {
   "cell_type": "markdown",
   "metadata": {
    "id": "M-emo-gbVPmu"
   },
   "source": [
    "#### Melakukan Split data"
   ]
  },
  {
   "cell_type": "code",
   "execution_count": 37,
   "metadata": {
    "id": "o_e5uZmmVTyB"
   },
   "outputs": [],
   "source": [
    "train_sentences, val_sentences, train_labels, val_labels = train_test_split(X_train.to_numpy(),\n",
    "                                                                            y_train,\n",
    "                                                                            test_size=0.2,\n",
    "                                                                            random_state=42)"
   ]
  },
  {
   "cell_type": "markdown",
   "metadata": {
    "id": "8pD9nFvz1sew"
   },
   "source": [
    "# Pipeline"
   ]
  },
  {
   "cell_type": "markdown",
   "metadata": {
    "id": "qpGOuBKl1sex"
   },
   "source": [
    "#### Membangun Pipeline"
   ]
  },
  {
   "cell_type": "code",
   "execution_count": 38,
   "metadata": {
    "id": "i3nbnUfX1sex"
   },
   "outputs": [],
   "source": [
    "# Where to save the figures\n",
    "PROJECT_ROOT_DIR = \".\"\n",
    "CHAPTER_ID = \"data\"\n",
    "IMAGES_PATH = os.path.join(PROJECT_ROOT_DIR, \"images\", CHAPTER_ID)\n",
    "os.makedirs(IMAGES_PATH, exist_ok=True)\n",
    "\n",
    "def save_fig(fig_id, tight_layout=True, fig_extension=\"png\", resolution=300):\n",
    "    path = os.path.join(IMAGES_PATH, fig_id + \".\" + fig_extension)\n",
    "    print(\"Saving figure\", fig_id)\n",
    "    if tight_layout:\n",
    "        plt.tight_layout()\n",
    "    plt.savefig(path, format=fig_extension, dpi=resolution)"
   ]
  },
  {
   "cell_type": "code",
   "execution_count": 39,
   "metadata": {
    "id": "nmgG_a6o1sex"
   },
   "outputs": [],
   "source": [
    "def save_to_multiple_csv_files(data, name_prefix, header=None, n_parts=10):\n",
    "    churn_dir = os.path.join(\"datasets\", \"tweets\")\n",
    "    os.makedirs(churn_dir, exist_ok=True)\n",
    "    path_format = os.path.join(churn_dir, \"my_{}_{:02d}.csv\")\n",
    "\n",
    "    filepaths = []\n",
    "    m = len(data)\n",
    "    for file_idx, row_indices in enumerate(np.array_split(np.arange(m), n_parts)):\n",
    "        part_csv = path_format.format(name_prefix, file_idx)\n",
    "        filepaths.append(part_csv)\n",
    "        with open(part_csv, \"wt\", encoding=\"utf-8\") as f:\n",
    "            if header is not None:\n",
    "                f.write(header)\n",
    "                f.write(\"\\n\")\n",
    "            for row_idx in row_indices:\n",
    "                f.write(\",\".join([repr(col) for col in data[row_idx]]))\n",
    "                f.write(\"\\n\")\n",
    "    return filepaths"
   ]
  },
  {
   "cell_type": "code",
   "execution_count": 40,
   "metadata": {
    "id": "VLdhkWev1sey"
   },
   "outputs": [],
   "source": [
    "train_data = np.c_[train_sentences, train_labels]\n",
    "valid_data = np.c_[val_sentences, val_labels]\n",
    "header_cols = dataset.columns \n",
    "header = \",\".join(header_cols)"
   ]
  },
  {
   "cell_type": "code",
   "execution_count": 41,
   "metadata": {
    "id": "0iO9sft21sez"
   },
   "outputs": [],
   "source": [
    "train_filepaths = save_to_multiple_csv_files(train_data, \"train\", header, n_parts=20)\n",
    "valid_filepaths = save_to_multiple_csv_files(valid_data, \"valid\", header, n_parts=10)"
   ]
  },
  {
   "cell_type": "markdown",
   "metadata": {
    "id": "7VvJ3q-51sez"
   },
   "source": [
    "### Train dataset"
   ]
  },
  {
   "cell_type": "code",
   "execution_count": 42,
   "metadata": {
    "colab": {
     "base_uri": "https://localhost:8080/",
     "height": 204
    },
    "id": "SS-BLDsv1sez",
    "outputId": "e277003d-a61f-451c-c8b3-586c423898e8"
   },
   "outputs": [
    {
     "data": {
      "text/html": [
       "<div>\n",
       "<style scoped>\n",
       "    .dataframe tbody tr th:only-of-type {\n",
       "        vertical-align: middle;\n",
       "    }\n",
       "\n",
       "    .dataframe tbody tr th {\n",
       "        vertical-align: top;\n",
       "    }\n",
       "\n",
       "    .dataframe thead th {\n",
       "        text-align: right;\n",
       "    }\n",
       "</style>\n",
       "<table border=\"1\" class=\"dataframe\">\n",
       "  <thead>\n",
       "    <tr style=\"text-align: right;\">\n",
       "      <th></th>\n",
       "      <th>tweets</th>\n",
       "      <th>Subjectivity</th>\n",
       "      <th>Polarity</th>\n",
       "      <th>Label</th>\n",
       "    </tr>\n",
       "  </thead>\n",
       "  <tbody>\n",
       "    <tr>\n",
       "      <th>0</th>\n",
       "      <td>'simone biles withdraws individual event tokyo...</td>\n",
       "      <td>1.0</td>\n",
       "      <td>0.0</td>\n",
       "      <td>0.0</td>\n",
       "    </tr>\n",
       "    <tr>\n",
       "      <th>1</th>\n",
       "      <td>'atiny11178m1t ateezofficial gonna win olympic...</td>\n",
       "      <td>0.0</td>\n",
       "      <td>0.0</td>\n",
       "      <td>1.0</td>\n",
       "    </tr>\n",
       "    <tr>\n",
       "      <th>2</th>\n",
       "      <td>'thrilled irish 4x400m relay mixed team like w...</td>\n",
       "      <td>0.0</td>\n",
       "      <td>0.0</td>\n",
       "      <td>1.0</td>\n",
       "    </tr>\n",
       "    <tr>\n",
       "      <th>3</th>\n",
       "      <td>'ateezarab ateezofficial ateezofficialjp 129 c...</td>\n",
       "      <td>1.0</td>\n",
       "      <td>0.0</td>\n",
       "      <td>0.0</td>\n",
       "    </tr>\n",
       "    <tr>\n",
       "      <th>4</th>\n",
       "      <td>'bright spark thought playing man united away ...</td>\n",
       "      <td>0.0</td>\n",
       "      <td>0.0</td>\n",
       "      <td>1.0</td>\n",
       "    </tr>\n",
       "  </tbody>\n",
       "</table>\n",
       "</div>"
      ],
      "text/plain": [
       "                                              tweets  ...  Label\n",
       "0  'simone biles withdraws individual event tokyo...  ...    0.0\n",
       "1  'atiny11178m1t ateezofficial gonna win olympic...  ...    1.0\n",
       "2  'thrilled irish 4x400m relay mixed team like w...  ...    1.0\n",
       "3  'ateezarab ateezofficial ateezofficialjp 129 c...  ...    0.0\n",
       "4  'bright spark thought playing man united away ...  ...    1.0\n",
       "\n",
       "[5 rows x 4 columns]"
      ]
     },
     "execution_count": 42,
     "metadata": {},
     "output_type": "execute_result"
    }
   ],
   "source": [
    "pd.read_csv(train_filepaths[0]).head()"
   ]
  },
  {
   "cell_type": "code",
   "execution_count": 43,
   "metadata": {
    "colab": {
     "base_uri": "https://localhost:8080/"
    },
    "id": "IeT8aADf1sez",
    "outputId": "7f3472f4-5fd7-4310-ce0c-05e09749fa24"
   },
   "outputs": [
    {
     "data": {
      "text/plain": [
       "972794"
      ]
     },
     "execution_count": 43,
     "metadata": {},
     "output_type": "execute_result"
    }
   ],
   "source": [
    "os.path.getsize(train_filepaths[0])"
   ]
  },
  {
   "cell_type": "code",
   "execution_count": 44,
   "metadata": {
    "id": "tVyeIw721se1"
   },
   "outputs": [],
   "source": [
    "train_folder=('/').join(re.search('(.*)/(.*)/(.*)',train_filepaths[0], re.IGNORECASE).group(1,2))"
   ]
  },
  {
   "cell_type": "code",
   "execution_count": 45,
   "metadata": {
    "colab": {
     "base_uri": "https://localhost:8080/",
     "height": 52
    },
    "id": "JjDSAYrc1se2",
    "outputId": "d199ae05-f239-4fe1-8500-ea661f7cfddc"
   },
   "outputs": [
    {
     "name": "stdout",
     "output_type": "stream",
     "text": [
      "datasets/tweets/my_train_00.csv\n"
     ]
    },
    {
     "data": {
      "application/vnd.google.colaboratory.intrinsic+json": {
       "type": "string"
      },
      "text/plain": [
       "'datasets/tweets'"
      ]
     },
     "execution_count": 45,
     "metadata": {},
     "output_type": "execute_result"
    }
   ],
   "source": [
    "print(train_filepaths[0])\n",
    "train_folder"
   ]
  },
  {
   "cell_type": "code",
   "execution_count": 46,
   "metadata": {
    "id": "kQ3aMYw41se3"
   },
   "outputs": [],
   "source": [
    "full_csv = train_folder+'/full_train.csv'\n",
    "with open(full_csv, \"wt\", encoding=\"utf-8\") as f:\n",
    "    if header is not None:\n",
    "        f.write(header)\n",
    "        f.write(\"\\n\")\n",
    "    for row_idx in range(train_data.shape[0]):\n",
    "        f.write(\",\".join([repr(col) for col in train_data[row_idx]]))\n",
    "        f.write(\"\\n\")"
   ]
  },
  {
   "cell_type": "code",
   "execution_count": 47,
   "metadata": {
    "colab": {
     "base_uri": "https://localhost:8080/"
    },
    "id": "xrH4F4f51se6",
    "outputId": "d2b0ff65-8863-447f-d2ee-ed4fb9806462"
   },
   "outputs": [
    {
     "data": {
      "text/plain": [
       "19402344"
      ]
     },
     "execution_count": 47,
     "metadata": {},
     "output_type": "execute_result"
    }
   ],
   "source": [
    "os.path.getsize(full_csv)"
   ]
  },
  {
   "cell_type": "code",
   "execution_count": 48,
   "metadata": {
    "colab": {
     "base_uri": "https://localhost:8080/"
    },
    "id": "F3RkgNgw1se6",
    "outputId": "07bcc267-5c1b-40b5-ff0b-bf612aee2f3a"
   },
   "outputs": [
    {
     "data": {
      "text/plain": [
       "(225230, 4)"
      ]
     },
     "execution_count": 48,
     "metadata": {},
     "output_type": "execute_result"
    }
   ],
   "source": [
    "pd.read_csv(full_csv).shape"
   ]
  },
  {
   "cell_type": "code",
   "execution_count": 49,
   "metadata": {
    "id": "TIgmElld1sfZ"
   },
   "outputs": [],
   "source": [
    "train_data = pd.read_csv(full_csv)"
   ]
  },
  {
   "cell_type": "code",
   "execution_count": 50,
   "metadata": {
    "colab": {
     "base_uri": "https://localhost:8080/",
     "height": 419
    },
    "id": "o-f_2ry01sfZ",
    "outputId": "451fca9c-5c73-4aea-ed66-32d235e04573"
   },
   "outputs": [
    {
     "data": {
      "text/html": [
       "<div>\n",
       "<style scoped>\n",
       "    .dataframe tbody tr th:only-of-type {\n",
       "        vertical-align: middle;\n",
       "    }\n",
       "\n",
       "    .dataframe tbody tr th {\n",
       "        vertical-align: top;\n",
       "    }\n",
       "\n",
       "    .dataframe thead th {\n",
       "        text-align: right;\n",
       "    }\n",
       "</style>\n",
       "<table border=\"1\" class=\"dataframe\">\n",
       "  <thead>\n",
       "    <tr style=\"text-align: right;\">\n",
       "      <th></th>\n",
       "      <th>tweets</th>\n",
       "      <th>Subjectivity</th>\n",
       "      <th>Polarity</th>\n",
       "      <th>Label</th>\n",
       "    </tr>\n",
       "  </thead>\n",
       "  <tbody>\n",
       "    <tr>\n",
       "      <th>0</th>\n",
       "      <td>'simone biles withdraws individual event tokyo...</td>\n",
       "      <td>1.0</td>\n",
       "      <td>0.0</td>\n",
       "      <td>0.0</td>\n",
       "    </tr>\n",
       "    <tr>\n",
       "      <th>1</th>\n",
       "      <td>'atiny11178m1t ateezofficial gonna win olympic...</td>\n",
       "      <td>0.0</td>\n",
       "      <td>0.0</td>\n",
       "      <td>1.0</td>\n",
       "    </tr>\n",
       "    <tr>\n",
       "      <th>2</th>\n",
       "      <td>'thrilled irish 4x400m relay mixed team like w...</td>\n",
       "      <td>0.0</td>\n",
       "      <td>0.0</td>\n",
       "      <td>1.0</td>\n",
       "    </tr>\n",
       "    <tr>\n",
       "      <th>3</th>\n",
       "      <td>'ateezarab ateezofficial ateezofficialjp 129 c...</td>\n",
       "      <td>1.0</td>\n",
       "      <td>0.0</td>\n",
       "      <td>0.0</td>\n",
       "    </tr>\n",
       "    <tr>\n",
       "      <th>4</th>\n",
       "      <td>'bright spark thought playing man united away ...</td>\n",
       "      <td>0.0</td>\n",
       "      <td>0.0</td>\n",
       "      <td>1.0</td>\n",
       "    </tr>\n",
       "    <tr>\n",
       "      <th>...</th>\n",
       "      <td>...</td>\n",
       "      <td>...</td>\n",
       "      <td>...</td>\n",
       "      <td>...</td>\n",
       "    </tr>\n",
       "    <tr>\n",
       "      <th>225225</th>\n",
       "      <td>'grab popcorn saturday good one tokyo2020 stro...</td>\n",
       "      <td>0.0</td>\n",
       "      <td>0.0</td>\n",
       "      <td>1.0</td>\n",
       "    </tr>\n",
       "    <tr>\n",
       "      <th>225226</th>\n",
       "      <td>'world champion asian champion etc etc pseudo ...</td>\n",
       "      <td>0.0</td>\n",
       "      <td>0.0</td>\n",
       "      <td>1.0</td>\n",
       "    </tr>\n",
       "    <tr>\n",
       "      <th>225227</th>\n",
       "      <td>'congratulations belindabencic well deserved o...</td>\n",
       "      <td>1.0</td>\n",
       "      <td>0.0</td>\n",
       "      <td>0.0</td>\n",
       "    </tr>\n",
       "    <tr>\n",
       "      <th>225228</th>\n",
       "      <td>'reform olympics'</td>\n",
       "      <td>1.0</td>\n",
       "      <td>0.0</td>\n",
       "      <td>0.0</td>\n",
       "    </tr>\n",
       "    <tr>\n",
       "      <th>225229</th>\n",
       "      <td>'michaelbucwa lunch olympics final quarter fin...</td>\n",
       "      <td>1.0</td>\n",
       "      <td>0.0</td>\n",
       "      <td>0.0</td>\n",
       "    </tr>\n",
       "  </tbody>\n",
       "</table>\n",
       "<p>225230 rows × 4 columns</p>\n",
       "</div>"
      ],
      "text/plain": [
       "                                                   tweets  ...  Label\n",
       "0       'simone biles withdraws individual event tokyo...  ...    0.0\n",
       "1       'atiny11178m1t ateezofficial gonna win olympic...  ...    1.0\n",
       "2       'thrilled irish 4x400m relay mixed team like w...  ...    1.0\n",
       "3       'ateezarab ateezofficial ateezofficialjp 129 c...  ...    0.0\n",
       "4       'bright spark thought playing man united away ...  ...    1.0\n",
       "...                                                   ...  ...    ...\n",
       "225225  'grab popcorn saturday good one tokyo2020 stro...  ...    1.0\n",
       "225226  'world champion asian champion etc etc pseudo ...  ...    1.0\n",
       "225227  'congratulations belindabencic well deserved o...  ...    0.0\n",
       "225228                                  'reform olympics'  ...    0.0\n",
       "225229  'michaelbucwa lunch olympics final quarter fin...  ...    0.0\n",
       "\n",
       "[225230 rows x 4 columns]"
      ]
     },
     "execution_count": 50,
     "metadata": {},
     "output_type": "execute_result"
    }
   ],
   "source": [
    "train_data"
   ]
  },
  {
   "cell_type": "markdown",
   "metadata": {
    "id": "KcBR_9Qz1sfa"
   },
   "source": [
    "### Valid dataset"
   ]
  },
  {
   "cell_type": "code",
   "execution_count": 51,
   "metadata": {
    "colab": {
     "base_uri": "https://localhost:8080/",
     "height": 204
    },
    "id": "L3O6O6CU1sfa",
    "outputId": "b4a40854-4132-43c3-f42a-128d97d9dae0"
   },
   "outputs": [
    {
     "data": {
      "text/html": [
       "<div>\n",
       "<style scoped>\n",
       "    .dataframe tbody tr th:only-of-type {\n",
       "        vertical-align: middle;\n",
       "    }\n",
       "\n",
       "    .dataframe tbody tr th {\n",
       "        vertical-align: top;\n",
       "    }\n",
       "\n",
       "    .dataframe thead th {\n",
       "        text-align: right;\n",
       "    }\n",
       "</style>\n",
       "<table border=\"1\" class=\"dataframe\">\n",
       "  <thead>\n",
       "    <tr style=\"text-align: right;\">\n",
       "      <th></th>\n",
       "      <th>tweets</th>\n",
       "      <th>Subjectivity</th>\n",
       "      <th>Polarity</th>\n",
       "      <th>Label</th>\n",
       "    </tr>\n",
       "  </thead>\n",
       "  <tbody>\n",
       "    <tr>\n",
       "      <th>0</th>\n",
       "      <td>'olympics japan lied weather olympic bid'</td>\n",
       "      <td>1.0</td>\n",
       "      <td>0.0</td>\n",
       "      <td>0.0</td>\n",
       "    </tr>\n",
       "    <tr>\n",
       "      <th>1</th>\n",
       "      <td>'britain india reach womens quarters debutants...</td>\n",
       "      <td>1.0</td>\n",
       "      <td>0.0</td>\n",
       "      <td>0.0</td>\n",
       "    </tr>\n",
       "    <tr>\n",
       "      <th>2</th>\n",
       "      <td>'indias pvsindhu1 hits shot denmarks miablichf...</td>\n",
       "      <td>0.0</td>\n",
       "      <td>1.0</td>\n",
       "      <td>0.0</td>\n",
       "    </tr>\n",
       "    <tr>\n",
       "      <th>3</th>\n",
       "      <td>'congratulations lovlinaborgohai qualified sem...</td>\n",
       "      <td>0.0</td>\n",
       "      <td>0.0</td>\n",
       "      <td>1.0</td>\n",
       "    </tr>\n",
       "    <tr>\n",
       "      <th>4</th>\n",
       "      <td>'come lovlinaborgohain muh tod sabka 🤘 best bo...</td>\n",
       "      <td>0.0</td>\n",
       "      <td>0.0</td>\n",
       "      <td>1.0</td>\n",
       "    </tr>\n",
       "  </tbody>\n",
       "</table>\n",
       "</div>"
      ],
      "text/plain": [
       "                                              tweets  ...  Label\n",
       "0          'olympics japan lied weather olympic bid'  ...    0.0\n",
       "1  'britain india reach womens quarters debutants...  ...    0.0\n",
       "2  'indias pvsindhu1 hits shot denmarks miablichf...  ...    0.0\n",
       "3  'congratulations lovlinaborgohai qualified sem...  ...    1.0\n",
       "4  'come lovlinaborgohain muh tod sabka 🤘 best bo...  ...    1.0\n",
       "\n",
       "[5 rows x 4 columns]"
      ]
     },
     "execution_count": 51,
     "metadata": {},
     "output_type": "execute_result"
    }
   ],
   "source": [
    "pd.read_csv(valid_filepaths[0]).head()"
   ]
  },
  {
   "cell_type": "code",
   "execution_count": 52,
   "metadata": {
    "colab": {
     "base_uri": "https://localhost:8080/"
    },
    "id": "Ca3wuVG-1sfa",
    "outputId": "2899b22d-c545-4ff0-977c-3ffb33410c00"
   },
   "outputs": [
    {
     "data": {
      "text/plain": [
       "484516"
      ]
     },
     "execution_count": 52,
     "metadata": {},
     "output_type": "execute_result"
    }
   ],
   "source": [
    "os.path.getsize(valid_filepaths[0])"
   ]
  },
  {
   "cell_type": "code",
   "execution_count": 53,
   "metadata": {
    "id": "0eveWQ-91sfb"
   },
   "outputs": [],
   "source": [
    "valid_folder=('/').join(re.search('(.*)/(.*)/(.*)',valid_filepaths[0], re.IGNORECASE).group(1,2))"
   ]
  },
  {
   "cell_type": "code",
   "execution_count": 54,
   "metadata": {
    "colab": {
     "base_uri": "https://localhost:8080/",
     "height": 52
    },
    "id": "AvoE7LxW1sfb",
    "outputId": "851d689f-6bb7-4be1-c861-e9a8411a99dc"
   },
   "outputs": [
    {
     "name": "stdout",
     "output_type": "stream",
     "text": [
      "datasets/tweets/my_valid_00.csv\n"
     ]
    },
    {
     "data": {
      "application/vnd.google.colaboratory.intrinsic+json": {
       "type": "string"
      },
      "text/plain": [
       "'datasets/tweets'"
      ]
     },
     "execution_count": 54,
     "metadata": {},
     "output_type": "execute_result"
    }
   ],
   "source": [
    "print(valid_filepaths[0])\n",
    "valid_folder"
   ]
  },
  {
   "cell_type": "code",
   "execution_count": 55,
   "metadata": {
    "id": "32J1CiwK1sfc"
   },
   "outputs": [],
   "source": [
    "full_csv = valid_folder+'/full_train.csv'\n",
    "with open(full_csv, \"wt\", encoding=\"utf-8\") as f:\n",
    "    if header is not None:\n",
    "        f.write(header)\n",
    "        f.write(\"\\n\")\n",
    "    for row_idx in range(valid_data.shape[0]):\n",
    "        f.write(\",\".join([repr(col) for col in valid_data[row_idx]]))\n",
    "        f.write(\"\\n\")"
   ]
  },
  {
   "cell_type": "code",
   "execution_count": 56,
   "metadata": {
    "colab": {
     "base_uri": "https://localhost:8080/"
    },
    "id": "sfNyKJ7X1sfc",
    "outputId": "3765394c-d483-4bbc-a162-8a5fb835435d"
   },
   "outputs": [
    {
     "data": {
      "text/plain": [
       "4841281"
      ]
     },
     "execution_count": 56,
     "metadata": {},
     "output_type": "execute_result"
    }
   ],
   "source": [
    "os.path.getsize(full_csv)"
   ]
  },
  {
   "cell_type": "code",
   "execution_count": 57,
   "metadata": {
    "colab": {
     "base_uri": "https://localhost:8080/"
    },
    "id": "6L5f--yr1sfc",
    "outputId": "fba13a3b-9993-45cc-d5da-6fccd0da806a"
   },
   "outputs": [
    {
     "data": {
      "text/plain": [
       "(56308, 4)"
      ]
     },
     "execution_count": 57,
     "metadata": {},
     "output_type": "execute_result"
    }
   ],
   "source": [
    "pd.read_csv(full_csv).shape"
   ]
  },
  {
   "cell_type": "code",
   "execution_count": 58,
   "metadata": {
    "id": "bFrayOTO1sfd"
   },
   "outputs": [],
   "source": [
    "valid_data = pd.read_csv(full_csv)"
   ]
  },
  {
   "cell_type": "code",
   "execution_count": 59,
   "metadata": {
    "colab": {
     "base_uri": "https://localhost:8080/",
     "height": 419
    },
    "id": "1ivdpiNY1sfd",
    "outputId": "28e8033a-d857-427d-ac99-aafc1f189252"
   },
   "outputs": [
    {
     "data": {
      "text/html": [
       "<div>\n",
       "<style scoped>\n",
       "    .dataframe tbody tr th:only-of-type {\n",
       "        vertical-align: middle;\n",
       "    }\n",
       "\n",
       "    .dataframe tbody tr th {\n",
       "        vertical-align: top;\n",
       "    }\n",
       "\n",
       "    .dataframe thead th {\n",
       "        text-align: right;\n",
       "    }\n",
       "</style>\n",
       "<table border=\"1\" class=\"dataframe\">\n",
       "  <thead>\n",
       "    <tr style=\"text-align: right;\">\n",
       "      <th></th>\n",
       "      <th>tweets</th>\n",
       "      <th>Subjectivity</th>\n",
       "      <th>Polarity</th>\n",
       "      <th>Label</th>\n",
       "    </tr>\n",
       "  </thead>\n",
       "  <tbody>\n",
       "    <tr>\n",
       "      <th>0</th>\n",
       "      <td>'olympics japan lied weather olympic bid'</td>\n",
       "      <td>1.0</td>\n",
       "      <td>0.0</td>\n",
       "      <td>0.0</td>\n",
       "    </tr>\n",
       "    <tr>\n",
       "      <th>1</th>\n",
       "      <td>'britain india reach womens quarters debutants...</td>\n",
       "      <td>1.0</td>\n",
       "      <td>0.0</td>\n",
       "      <td>0.0</td>\n",
       "    </tr>\n",
       "    <tr>\n",
       "      <th>2</th>\n",
       "      <td>'indias pvsindhu1 hits shot denmarks miablichf...</td>\n",
       "      <td>0.0</td>\n",
       "      <td>1.0</td>\n",
       "      <td>0.0</td>\n",
       "    </tr>\n",
       "    <tr>\n",
       "      <th>3</th>\n",
       "      <td>'congratulations lovlinaborgohai qualified sem...</td>\n",
       "      <td>0.0</td>\n",
       "      <td>0.0</td>\n",
       "      <td>1.0</td>\n",
       "    </tr>\n",
       "    <tr>\n",
       "      <th>4</th>\n",
       "      <td>'come lovlinaborgohain muh tod sabka 🤘 best bo...</td>\n",
       "      <td>0.0</td>\n",
       "      <td>0.0</td>\n",
       "      <td>1.0</td>\n",
       "    </tr>\n",
       "    <tr>\n",
       "      <th>...</th>\n",
       "      <td>...</td>\n",
       "      <td>...</td>\n",
       "      <td>...</td>\n",
       "      <td>...</td>\n",
       "    </tr>\n",
       "    <tr>\n",
       "      <th>56303</th>\n",
       "      <td>'monday day time catch olympics although winte...</td>\n",
       "      <td>1.0</td>\n",
       "      <td>0.0</td>\n",
       "      <td>0.0</td>\n",
       "    </tr>\n",
       "    <tr>\n",
       "      <th>56304</th>\n",
       "      <td>'businessfamous olympics ltc 3rd im good'</td>\n",
       "      <td>0.0</td>\n",
       "      <td>0.0</td>\n",
       "      <td>1.0</td>\n",
       "    </tr>\n",
       "    <tr>\n",
       "      <th>56305</th>\n",
       "      <td>'historic day french judo fra teddyriner becom...</td>\n",
       "      <td>0.0</td>\n",
       "      <td>0.0</td>\n",
       "      <td>1.0</td>\n",
       "    </tr>\n",
       "    <tr>\n",
       "      <th>56306</th>\n",
       "      <td>'support new campaign bjym register motivate t...</td>\n",
       "      <td>0.0</td>\n",
       "      <td>0.0</td>\n",
       "      <td>1.0</td>\n",
       "    </tr>\n",
       "    <tr>\n",
       "      <th>56307</th>\n",
       "      <td>'olympics worldkaratewkf fake competitions'</td>\n",
       "      <td>0.0</td>\n",
       "      <td>1.0</td>\n",
       "      <td>0.0</td>\n",
       "    </tr>\n",
       "  </tbody>\n",
       "</table>\n",
       "<p>56308 rows × 4 columns</p>\n",
       "</div>"
      ],
      "text/plain": [
       "                                                  tweets  ...  Label\n",
       "0              'olympics japan lied weather olympic bid'  ...    0.0\n",
       "1      'britain india reach womens quarters debutants...  ...    0.0\n",
       "2      'indias pvsindhu1 hits shot denmarks miablichf...  ...    0.0\n",
       "3      'congratulations lovlinaborgohai qualified sem...  ...    1.0\n",
       "4      'come lovlinaborgohain muh tod sabka 🤘 best bo...  ...    1.0\n",
       "...                                                  ...  ...    ...\n",
       "56303  'monday day time catch olympics although winte...  ...    0.0\n",
       "56304          'businessfamous olympics ltc 3rd im good'  ...    1.0\n",
       "56305  'historic day french judo fra teddyriner becom...  ...    1.0\n",
       "56306  'support new campaign bjym register motivate t...  ...    1.0\n",
       "56307        'olympics worldkaratewkf fake competitions'  ...    0.0\n",
       "\n",
       "[56308 rows x 4 columns]"
      ]
     },
     "execution_count": 59,
     "metadata": {},
     "output_type": "execute_result"
    }
   ],
   "source": [
    "valid_data"
   ]
  },
  {
   "cell_type": "markdown",
   "metadata": {
    "id": "SZ-MIpKC4Bc0"
   },
   "source": [
    "#### Split train_sentences, val_sentences, train_labels,  val_labels "
   ]
  },
  {
   "cell_type": "code",
   "execution_count": 60,
   "metadata": {
    "id": "XO07F0i34FLW"
   },
   "outputs": [],
   "source": [
    "train_sentences,  train_labels = train_data.tweets, train_data.Label\n",
    "val_sentences, val_labels  = valid_data.tweets, valid_data.Label"
   ]
  },
  {
   "cell_type": "markdown",
   "metadata": {
    "id": "c1O5d08bi39H"
   },
   "source": [
    "#### Menyiapkan Target"
   ]
  },
  {
   "cell_type": "code",
   "execution_count": 108,
   "metadata": {
    "id": "dn3ALilriwvF"
   },
   "outputs": [],
   "source": [
    "X_train, y_train = train_dataset.tweets, train_dataset.Label\n",
    "X_test, y_test = test_dataset.tweets, test_dataset.Label"
   ]
  },
  {
   "cell_type": "code",
   "execution_count": 107,
   "metadata": {
    "id": "Ycpqitviiw6f"
   },
   "outputs": [],
   "source": [
    "def prepare_targets(y_train, y_test):\n",
    "    y_train_enc = to_categorical(y_train)\n",
    "    y_test_enc = to_categorical(y_test)\n",
    "    return y_train_enc, y_test_enc\n",
    "\n",
    "y_train, y_test = prepare_targets(y_train, y_test)"
   ]
  },
  {
   "cell_type": "markdown",
   "metadata": {
    "id": "rGPFIWNIjCkT"
   },
   "source": [
    "#### Melakukan Split Data "
   ]
  },
  {
   "cell_type": "code",
   "execution_count": 106,
   "metadata": {
    "id": "gP9aVS6BixEY"
   },
   "outputs": [],
   "source": [
    "train_sentences, val_sentences, train_labels, val_labels = train_test_split(X_train.to_numpy(),\n",
    "                                                                            y_train,\n",
    "                                                                            test_size=0.2,\n",
    "                                                                            random_state=42)"
   ]
  },
  {
   "cell_type": "markdown",
   "metadata": {
    "id": "GQpOplyNVif_"
   },
   "source": [
    "# Tokenization"
   ]
  },
  {
   "cell_type": "markdown",
   "metadata": {
    "id": "1kJ9AZAxeObE"
   },
   "source": [
    "#### Menghitung Unique kata yang muncul "
   ]
  },
  {
   "cell_type": "code",
   "execution_count": 64,
   "metadata": {
    "id": "y2BMh_JwePlg"
   },
   "outputs": [],
   "source": [
    "def counter_word(text):\n",
    "  count = Counter()\n",
    "  for i in text.values:\n",
    "      for word in i.split():\n",
    "          count[word] += 1\n",
    "  return count"
   ]
  },
  {
   "cell_type": "code",
   "execution_count": 65,
   "metadata": {
    "id": "q6et6OxeeQqA"
   },
   "outputs": [],
   "source": [
    "text = dataset['tweets']\n",
    "counter = counter_word(text)"
   ]
  },
  {
   "cell_type": "code",
   "execution_count": 66,
   "metadata": {
    "colab": {
     "base_uri": "https://localhost:8080/"
    },
    "id": "oqWRnhfZeQ8Y",
    "outputId": "1a594df2-9b74-44f2-a4e1-a05cb0b71716"
   },
   "outputs": [
    {
     "data": {
      "text/plain": [
       "185954"
      ]
     },
     "execution_count": 66,
     "metadata": {},
     "output_type": "execute_result"
    }
   ],
   "source": [
    "max_vocab_length = len(counter)\n",
    "max_vocab_length"
   ]
  },
  {
   "cell_type": "markdown",
   "metadata": {
    "id": "34dDio-IeTrt"
   },
   "source": [
    "#### Menghitung rata-rata token yang dibentuk dalam satu tweets"
   ]
  },
  {
   "cell_type": "code",
   "execution_count": 67,
   "metadata": {
    "colab": {
     "base_uri": "https://localhost:8080/"
    },
    "id": "E8XP2ag_HTYp",
    "outputId": "3c0ac1e5-be5f-450f-8806-209a3fd6df72"
   },
   "outputs": [
    {
     "data": {
      "text/plain": [
       "10"
      ]
     },
     "execution_count": 67,
     "metadata": {},
     "output_type": "execute_result"
    }
   ],
   "source": [
    "# max number of words in a squance\n",
    "max_length = round(sum([len(i.split()) for i in train_sentences])/len(train_sentences))\n",
    "max_length"
   ]
  },
  {
   "cell_type": "markdown",
   "metadata": {
    "id": "xzlMIqAhfXI3"
   },
   "source": [
    "#### Setup text vectorization dengan parameter default"
   ]
  },
  {
   "cell_type": "code",
   "execution_count": 68,
   "metadata": {
    "id": "rmaPHyWsfXi_"
   },
   "outputs": [],
   "source": [
    "text_vectorizer = TextVectorization(max_tokens=max_vocab_length, \n",
    "                                    standardize=\"lower_and_strip_punctuation\", \n",
    "                                    split=\"whitespace\", \n",
    "                                    ngrams=None, \n",
    "                                    output_mode=\"int\", \n",
    "                                    output_sequence_length=max_length) "
   ]
  },
  {
   "cell_type": "markdown",
   "metadata": {
    "id": "2V1F4FF7fpjq"
   },
   "source": [
    "#### Fit data train ke text_vectorizer"
   ]
  },
  {
   "cell_type": "code",
   "execution_count": 69,
   "metadata": {
    "id": "SuPZ5LzmfYgz"
   },
   "outputs": [],
   "source": [
    "text_vectorizer.adapt(train_sentences)"
   ]
  },
  {
   "cell_type": "markdown",
   "metadata": {
    "id": "gaUvE9OeggoV"
   },
   "source": [
    "#### Buat contoh Tweets untuk membuktikan tokenizer bekerja"
   ]
  },
  {
   "cell_type": "code",
   "execution_count": 70,
   "metadata": {
    "colab": {
     "base_uri": "https://localhost:8080/"
    },
    "id": "Wmb1RCthfrD7",
    "outputId": "3f99edb5-770d-42cd-bea2-530b36abc7af"
   },
   "outputs": [
    {
     "data": {
      "text/plain": [
       "<tf.Tensor: shape=(1, 10), dtype=int64, numpy=array([[  1,   1,   1,  12,  31, 216,  70,  12,   0,   0]])>"
      ]
     },
     "execution_count": 70,
     "metadata": {},
     "output_type": "execute_result"
    }
   ],
   "source": [
    "sample_sentence = \"Why is the Team USA men basketball team\"\n",
    "text_vectorizer([sample_sentence])"
   ]
  },
  {
   "cell_type": "code",
   "execution_count": 71,
   "metadata": {
    "colab": {
     "base_uri": "https://localhost:8080/"
    },
    "id": "FZxyPyHRf_tG",
    "outputId": "7c7e84b2-38ae-4e15-ecdb-74e951104b2b"
   },
   "outputs": [
    {
     "name": "stdout",
     "output_type": "stream",
     "text": [
      "Teks Asli:\n",
      "patriotic proud cat always stands attention national anthem played olympics…      \n",
      "\n",
      "Versi Vektorisasi:\n"
     ]
    },
    {
     "data": {
      "text/plain": [
       "<tf.Tensor: shape=(1, 10), dtype=int64, numpy=array([[2490,   54, 2363,  135, 1445, 1223,  241,  646,   84,   95]])>"
      ]
     },
     "execution_count": 71,
     "metadata": {},
     "output_type": "execute_result"
    }
   ],
   "source": [
    "random_sentence = random.choice(train_sentences)\n",
    "print(f\"Teks Asli:\\n{random_sentence}\\\n",
    "      \\n\\nVersi Vektorisasi:\")\n",
    "text_vectorizer([random_sentence])"
   ]
  },
  {
   "cell_type": "code",
   "execution_count": 72,
   "metadata": {
    "colab": {
     "base_uri": "https://localhost:8080/"
    },
    "id": "RSAiTU0FgqoZ",
    "outputId": "2c51aee2-4aa5-4107-d6d3-e62fb7611941"
   },
   "outputs": [
    {
     "name": "stdout",
     "output_type": "stream",
     "text": [
      "Number of words in vocab: 151616\n",
      "Top 5 most common words: ['', '[UNK]', 'olympics', 'tokyo', 'ateezofficial']\n",
      "Bottom 5 least common words: ['001danish', '0015', '0005seconds…', '000101jd', '000006056']\n"
     ]
    }
   ],
   "source": [
    "words_in_vocab = text_vectorizer.get_vocabulary()\n",
    "top_5_words = words_in_vocab[:5] # token terbanyak\n",
    "bottom_5_words = words_in_vocab[-5:] # token tersedikit\n",
    "print(f\"Number of words in vocab: {len(words_in_vocab)}\")\n",
    "print(f\"Top 5 most common words: {top_5_words}\") \n",
    "print(f\"Bottom 5 least common words: {bottom_5_words}\")"
   ]
  },
  {
   "cell_type": "markdown",
   "metadata": {
    "id": "mn4E1pjXo9WB"
   },
   "source": [
    "#### Membuat Embeding Layers"
   ]
  },
  {
   "cell_type": "code",
   "execution_count": 73,
   "metadata": {
    "id": "M0jmc2QOpALq"
   },
   "outputs": [],
   "source": [
    "embedding = layers.Embedding(input_dim=max_vocab_length,\n",
    "                             output_dim=32,\n",
    "                             embeddings_initializer=\"uniform\",\n",
    "                             input_length=max_length)"
   ]
  },
  {
   "cell_type": "code",
   "execution_count": 74,
   "metadata": {
    "colab": {
     "base_uri": "https://localhost:8080/"
    },
    "id": "79RDi1ATpDYn",
    "outputId": "f5e9cfd4-6ca4-4ae9-e054-5a1ebf765e4c"
   },
   "outputs": [
    {
     "data": {
      "text/plain": [
       "<keras.layers.embeddings.Embedding at 0x7f5453b751d0>"
      ]
     },
     "execution_count": 74,
     "metadata": {},
     "output_type": "execute_result"
    }
   ],
   "source": [
    "embedding"
   ]
  },
  {
   "cell_type": "markdown",
   "metadata": {
    "id": "gopd_N1CpOqM"
   },
   "source": [
    "#### Memasukan data ke layer embedding"
   ]
  },
  {
   "cell_type": "code",
   "execution_count": 75,
   "metadata": {
    "colab": {
     "base_uri": "https://localhost:8080/"
    },
    "id": "Jw-pQwEmpJOM",
    "outputId": "4cd7bb62-496e-451b-9f94-3b1f85240b94"
   },
   "outputs": [
    {
     "name": "stdout",
     "output_type": "stream",
     "text": [
      "Teks Asli:\n",
      "report covid ravaged missouri people getting vaccinated disguise friends family don’t find…      \n",
      "\n",
      "Versi Embedded: tf.Tensor(\n",
      "[[[ 8.07155296e-03  4.62699793e-02  2.35259533e-04 -1.50245540e-02\n",
      "   -2.90980469e-02  3.47092636e-02 -1.82060152e-03  4.19950522e-02\n",
      "    3.25424559e-02  1.60627030e-02  6.80803135e-03  1.38723850e-03\n",
      "   -3.08961626e-02  2.77020819e-02  1.43518783e-02  3.70877124e-02\n",
      "   -3.38263661e-02  9.73951072e-04 -2.85504218e-02 -2.25304123e-02\n",
      "    2.14349963e-02  1.12999603e-03  1.62711404e-02 -4.28661965e-02\n",
      "   -2.25378033e-02 -3.93348821e-02 -2.96996906e-03 -1.76429152e-02\n",
      "    2.11674087e-02 -4.73399274e-02 -2.96177715e-03  4.60881926e-02]\n",
      "  [ 4.28301133e-02 -2.71952040e-02 -2.41921898e-02 -2.25534290e-03\n",
      "    3.35288160e-02 -3.06763779e-02 -8.40643793e-03  2.82336026e-04\n",
      "    4.68765534e-02 -4.34218906e-02 -2.69743204e-02  1.00456551e-03\n",
      "    2.69836299e-02  4.77764942e-02  1.60702579e-02  6.00265339e-03\n",
      "   -4.71163653e-02  4.33548428e-02 -2.74058580e-02  3.83291133e-02\n",
      "    1.90445818e-02  2.94380076e-02  6.87844679e-03  1.76876523e-02\n",
      "    2.70535238e-02 -4.41736244e-02  1.03283152e-02  4.02128957e-02\n",
      "   -5.85599989e-03  1.23183504e-02 -3.24440822e-02  2.68888511e-02]\n",
      "  [ 3.93103808e-04 -2.99305078e-02 -4.12232503e-02  4.16107811e-02\n",
      "   -8.90793651e-03 -1.77754983e-02  3.09339054e-02 -2.63048410e-02\n",
      "   -3.08405999e-02 -2.53170859e-02 -4.64538820e-02  6.92712143e-03\n",
      "   -1.59425624e-02 -4.02081609e-02 -1.05498806e-02 -3.60848904e-02\n",
      "   -2.24218369e-02 -7.38613307e-05 -3.86931896e-02  3.50010507e-02\n",
      "    1.52150653e-02  5.40763140e-03  1.68499984e-02 -8.53618234e-03\n",
      "    1.76934153e-03  2.10890658e-02 -1.36832595e-02 -3.30688246e-02\n",
      "   -4.98727337e-02  3.62007953e-02  3.16795819e-02  1.02594979e-02]\n",
      "  [-4.26073074e-02  1.39427669e-02 -1.87350512e-02  4.85134609e-02\n",
      "   -8.24413449e-03 -2.66047847e-02  2.14368738e-02 -1.29546523e-02\n",
      "    2.37534903e-02  1.07125267e-02  7.57414103e-03 -1.10841393e-02\n",
      "   -4.34349887e-02 -4.13234606e-02  2.60387398e-02  9.79967043e-03\n",
      "    3.54831293e-03 -9.32378694e-03  4.89015318e-02 -1.78085081e-02\n",
      "   -2.10685022e-02  3.23774926e-02 -2.80788671e-02  1.89015754e-02\n",
      "    2.20718421e-02 -4.38952446e-03  1.13637559e-02  2.83390023e-02\n",
      "    1.60945393e-02 -3.11335213e-02 -4.20122519e-02  4.07937281e-02]\n",
      "  [-4.98730317e-02 -2.45990753e-02  2.94778086e-02  3.48601677e-02\n",
      "   -7.03637674e-03 -1.01885684e-02  3.73327248e-02  4.87400778e-02\n",
      "   -3.89703885e-02 -2.38028299e-02  3.00193913e-02  6.82906061e-03\n",
      "   -2.32364535e-02  1.82522424e-02 -2.31878292e-02  3.25463451e-02\n",
      "   -7.12209940e-03 -3.72498855e-02 -1.36360526e-02  1.25138499e-02\n",
      "   -3.97592559e-02  4.52331416e-02  3.06365006e-02  1.64766051e-02\n",
      "    6.63452223e-03 -3.58073339e-02  2.45190896e-02 -1.28527395e-02\n",
      "   -4.36644219e-02 -4.82252501e-02  4.62115519e-02  4.25933488e-02]\n",
      "  [-3.47756259e-02 -1.64813027e-02  5.70287555e-03 -4.22044285e-02\n",
      "    2.32247971e-02  8.78226012e-04  6.05048984e-03 -3.39350104e-02\n",
      "   -1.34874806e-02  3.76751684e-02 -6.64220005e-03  3.99034880e-02\n",
      "    2.47616209e-02 -2.21748110e-02  2.62626149e-02  2.50308402e-02\n",
      "    4.69258763e-02  3.86947058e-02  2.44566053e-03 -2.17816830e-02\n",
      "    4.60954942e-02  1.79567076e-02 -1.07278712e-02  3.63146774e-02\n",
      "   -1.22446641e-02 -3.01748160e-02 -3.62023711e-02 -4.09317017e-03\n",
      "    1.22870132e-03  3.49143185e-02  3.27130593e-02 -1.40424967e-02]\n",
      "  [ 2.66941302e-02 -5.51814958e-03  2.77169086e-02 -1.12702250e-02\n",
      "   -2.91507374e-02 -2.93595791e-02  1.93898194e-02 -2.04328429e-02\n",
      "   -4.53958623e-02 -1.78562477e-03  3.10433619e-02 -1.09308138e-02\n",
      "   -3.03200837e-02 -4.72007506e-02 -3.13384682e-02 -2.08723433e-02\n",
      "   -4.75648306e-02 -1.93748362e-02  1.76073648e-02  3.66737694e-03\n",
      "    4.52651642e-02 -2.29658484e-02  1.34972371e-02  3.04606073e-02\n",
      "    2.03439854e-02  3.48448418e-02  5.04279137e-03 -1.13371760e-03\n",
      "   -4.02767770e-02  6.06407970e-03 -2.59278417e-02  4.13284935e-02]\n",
      "  [ 6.39025122e-03  2.37802379e-02  4.66434471e-02 -2.15878338e-03\n",
      "   -4.31280509e-02 -2.08249930e-02 -1.27317682e-02  2.24625207e-02\n",
      "    2.19072960e-02  8.49462673e-03 -1.48116462e-02  1.05791911e-02\n",
      "   -2.43395567e-02 -4.12438139e-02  3.48370932e-02 -3.82291153e-03\n",
      "    1.06378086e-02 -4.80591655e-02 -2.85704732e-02  1.57433189e-02\n",
      "    3.62651609e-02  3.24187912e-02  2.58033536e-02  1.63182504e-02\n",
      "   -2.20937859e-02 -4.69371192e-02 -4.11385298e-02  1.94021203e-02\n",
      "   -7.13130087e-03 -2.33015418e-02  2.87957899e-02  3.04170698e-03]\n",
      "  [-4.09919396e-02 -8.26444477e-03 -2.53055934e-02 -1.58861391e-02\n",
      "    1.13185421e-02  4.47470583e-02  4.96156141e-03  2.44660862e-02\n",
      "    1.31132454e-03  1.53437741e-02 -1.79242007e-02  1.01960413e-02\n",
      "    3.25385667e-02 -1.73246637e-02 -2.24914439e-02 -3.48337665e-02\n",
      "   -1.02272630e-02 -1.25848055e-02  1.24584883e-04 -2.92100795e-02\n",
      "   -4.48276065e-02  3.83543037e-02 -2.53539924e-02  1.45676471e-02\n",
      "   -8.74005258e-04 -4.38419729e-03  7.30995089e-03 -3.66763026e-03\n",
      "    2.83201672e-02  4.12858240e-02  3.18014510e-02  2.37210877e-02]\n",
      "  [ 2.85306908e-02 -1.32157914e-02 -1.54184587e-02  3.84363271e-02\n",
      "    4.23053540e-02 -2.53457427e-02 -3.60219255e-02  8.95451754e-04\n",
      "    1.85391344e-02  2.70752423e-02 -2.88936142e-02 -2.93248426e-02\n",
      "    1.97271146e-02 -4.33673710e-03 -5.99233061e-03  4.74259518e-02\n",
      "   -1.99005604e-02 -1.56833306e-02 -4.31070700e-02  2.33295597e-02\n",
      "    3.69193442e-02  2.36158408e-02 -4.67897654e-02  1.82833523e-03\n",
      "    2.69009136e-02 -9.39727947e-03  4.63640802e-02 -4.42273021e-02\n",
      "   -9.31141526e-03  3.36616896e-02 -1.34203658e-02 -2.20284220e-02]]], shape=(1, 10, 32), dtype=float32)\n"
     ]
    }
   ],
   "source": [
    "random_sentence = random.choice(train_sentences)\n",
    "\n",
    "sample_embed = embedding(text_vectorizer([random_sentence]))\n",
    "print(f\"Teks Asli:\\n{random_sentence}\\\n",
    "      \\n\\nVersi Embedded:\", sample_embed)"
   ]
  },
  {
   "cell_type": "markdown",
   "metadata": {},
   "source": [
    "# Pendefinisian dan Pelatihan Model"
   ]
  },
  {
   "cell_type": "markdown",
   "metadata": {
    "id": "g2kzNUZEsLXL"
   },
   "source": [
    "## Permodelan dengan LSTM"
   ]
  },
  {
   "cell_type": "code",
   "execution_count": 76,
   "metadata": {
    "colab": {
     "base_uri": "https://localhost:8080/"
    },
    "id": "XWaTPojYpSci",
    "outputId": "2676e06f-693e-4a19-c527-c226c8bace93"
   },
   "outputs": [
    {
     "name": "stdout",
     "output_type": "stream",
     "text": [
      "(None, 10, 32)\n",
      "(None, 64)\n"
     ]
    }
   ],
   "source": [
    "inputs = layers.Input(shape=(1,), dtype=\"string\")\n",
    "x = text_vectorizer(inputs)\n",
    "x = embedding(x)\n",
    "print(x.shape)\n",
    "x = layers.LSTM(64, dropout=0.5)(x) \n",
    "print(x.shape)\n",
    "outputs = layers.Dense(3, activation=\"softmax\")(x)\n",
    "model_LSTM = tf.keras.Model(inputs, outputs, name=\"model_LSTM\")"
   ]
  },
  {
   "cell_type": "markdown",
   "metadata": {
    "id": "Orv3U6wZ5X1l"
   },
   "source": [
    "menggunakan activation softmax karena output berupa 3 kategori\n"
   ]
  },
  {
   "cell_type": "code",
   "execution_count": 77,
   "metadata": {
    "colab": {
     "base_uri": "https://localhost:8080/"
    },
    "id": "HepduhSNtOBV",
    "outputId": "312e3ae6-e8c8-4c84-9a1e-0296a34f217a"
   },
   "outputs": [
    {
     "name": "stdout",
     "output_type": "stream",
     "text": [
      "Model: \"model_LSTM\"\n",
      "_________________________________________________________________\n",
      "Layer (type)                 Output Shape              Param #   \n",
      "=================================================================\n",
      "input_1 (InputLayer)         [(None, 1)]               0         \n",
      "_________________________________________________________________\n",
      "text_vectorization_1 (TextVe (None, 10)                0         \n",
      "_________________________________________________________________\n",
      "embedding (Embedding)        (None, 10, 32)            5950528   \n",
      "_________________________________________________________________\n",
      "lstm (LSTM)                  (None, 64)                24832     \n",
      "_________________________________________________________________\n",
      "dense (Dense)                (None, 3)                 195       \n",
      "=================================================================\n",
      "Total params: 5,975,555\n",
      "Trainable params: 5,975,555\n",
      "Non-trainable params: 0\n",
      "_________________________________________________________________\n"
     ]
    }
   ],
   "source": [
    "model_LSTM.summary()"
   ]
  },
  {
   "cell_type": "markdown",
   "metadata": {
    "id": "vaWHRfUztzDe"
   },
   "source": [
    "### Fit Model"
   ]
  },
  {
   "cell_type": "code",
   "execution_count": 78,
   "metadata": {
    "id": "vVY5Z3_wtUKc"
   },
   "outputs": [],
   "source": [
    "# Compile model\n",
    "model_LSTM.compile(loss=\"categorical_crossentropy\",\n",
    "                   optimizer=tf.keras.optimizers.Adam(),\n",
    "                   metrics=[\"accuracy\"])"
   ]
  },
  {
   "cell_type": "code",
   "execution_count": 79,
   "metadata": {
    "colab": {
     "base_uri": "https://localhost:8080/"
    },
    "id": "MdX3aQu1t3sI",
    "outputId": "e133c4da-1a4d-4f3e-eb78-c4e9fe7ee87d"
   },
   "outputs": [
    {
     "name": "stdout",
     "output_type": "stream",
     "text": [
      "Epoch 1/5\n",
      "7039/7039 [==============================] - 100s 13ms/step - loss: 0.2584 - accuracy: 0.9170 - val_loss: 0.1628 - val_accuracy: 0.9563\n",
      "Epoch 2/5\n",
      "7039/7039 [==============================] - 93s 13ms/step - loss: 0.1434 - accuracy: 0.9579 - val_loss: 0.1774 - val_accuracy: 0.9486\n",
      "Epoch 3/5\n",
      "7039/7039 [==============================] - 94s 13ms/step - loss: 0.1121 - accuracy: 0.9667 - val_loss: 0.1878 - val_accuracy: 0.9434\n",
      "Epoch 4/5\n",
      "7039/7039 [==============================] - 93s 13ms/step - loss: 0.0960 - accuracy: 0.9712 - val_loss: 0.1845 - val_accuracy: 0.9455\n",
      "Epoch 5/5\n",
      "7039/7039 [==============================] - 96s 14ms/step - loss: 0.0856 - accuracy: 0.9737 - val_loss: 0.1910 - val_accuracy: 0.9443\n"
     ]
    }
   ],
   "source": [
    "# Fit model\n",
    "model_LSTM_history = model_LSTM.fit(train_sentences,\n",
    "                                    train_labels,\n",
    "                                    epochs=5,\n",
    "                                    validation_data=(val_sentences, val_labels))"
   ]
  },
  {
   "cell_type": "markdown",
   "metadata": {
    "id": "XYIwng36Yd7U"
   },
   "source": [
    "## Model LSTM Evaluation"
   ]
  },
  {
   "cell_type": "code",
   "execution_count": 114,
   "metadata": {
    "id": "w4Xmw5WQdLor"
   },
   "outputs": [],
   "source": [
    "y_pred = model_LSTM.predict(val_sentences)"
   ]
  },
  {
   "cell_type": "code",
   "execution_count": 81,
   "metadata": {
    "id": "1xVD5N9SYb00"
   },
   "outputs": [],
   "source": [
    "def calculate_results(y_true, y_pred):\n",
    "  model_accuracy = accuracy_score(y_true, y_pred) * 100\n",
    "  model_precision, model_recall, model_f1, _ = precision_recall_fscore_support(y_true, y_pred, average=\"weighted\")\n",
    "  model_results = {\"accuracy\": model_accuracy,\n",
    "                  \"precision\": model_precision,\n",
    "                  \"recall\": model_recall,\n",
    "                  \"f1\": model_f1}\n",
    "  return model_results"
   ]
  },
  {
   "cell_type": "code",
   "execution_count": 82,
   "metadata": {
    "colab": {
     "base_uri": "https://localhost:8080/"
    },
    "id": "FcWwA0K7M_Wg",
    "outputId": "1b9c1780-5684-4e47-f7d5-07ffd3e9e784"
   },
   "outputs": [
    {
     "data": {
      "text/plain": [
       "{'accuracy': 94.43063152660368,\n",
       " 'f1': 0.94427522341635,\n",
       " 'precision': 0.9442550724145616,\n",
       " 'recall': 0.9443063152660368}"
      ]
     },
     "execution_count": 82,
     "metadata": {},
     "output_type": "execute_result"
    }
   ],
   "source": [
    "model_LSTM_results = calculate_results(y_true= val_labels.argmax(axis=1), \n",
    "                                    y_pred= y_pred.argmax(axis=1))\n",
    "model_LSTM_results"
   ]
  },
  {
   "cell_type": "markdown",
   "metadata": {},
   "source": [
    "### Analysis Model LSTM"
   ]
  },
  {
   "cell_type": "markdown",
   "metadata": {},
   "source": [
    "didapatkan nilai evaluasi performa sebagai berikut:\n",
    "\n",
    "* menghasilkan score accuracy sebesar 0.94\n",
    "* menghasilkan f1 score sebesar 0.94"
   ]
  },
  {
   "cell_type": "markdown",
   "metadata": {
    "id": "rrynK3DXj7aw"
   },
   "source": [
    "## Permodelan dengan Functional API"
   ]
  },
  {
   "cell_type": "code",
   "execution_count": 83,
   "metadata": {
    "id": "zpF1G0Olj59N"
   },
   "outputs": [],
   "source": [
    "inputs = layers.Input(shape=(1,), dtype=\"string\") \n",
    "x = text_vectorizer(inputs) \n",
    "x = embedding(x) \n",
    "x = layers.GlobalAveragePooling1D()(x) \n",
    "outputs = layers.Dense(3, activation=\"softmax\")(x) \n",
    "model_funct = tf.keras.Model(inputs, outputs, name=\"model_funct\") "
   ]
  },
  {
   "cell_type": "code",
   "execution_count": 84,
   "metadata": {
    "colab": {
     "base_uri": "https://localhost:8080/"
    },
    "id": "j4NzEPjKq8_d",
    "outputId": "fca6ba8d-77b5-4fb1-b75a-0b315b8ef5ae"
   },
   "outputs": [
    {
     "name": "stdout",
     "output_type": "stream",
     "text": [
      "Model: \"model_funct\"\n",
      "_________________________________________________________________\n",
      "Layer (type)                 Output Shape              Param #   \n",
      "=================================================================\n",
      "input_2 (InputLayer)         [(None, 1)]               0         \n",
      "_________________________________________________________________\n",
      "text_vectorization_1 (TextVe (None, 10)                0         \n",
      "_________________________________________________________________\n",
      "embedding (Embedding)        (None, 10, 32)            5950528   \n",
      "_________________________________________________________________\n",
      "global_average_pooling1d (Gl (None, 32)                0         \n",
      "_________________________________________________________________\n",
      "dense_1 (Dense)              (None, 3)                 99        \n",
      "=================================================================\n",
      "Total params: 5,950,627\n",
      "Trainable params: 5,950,627\n",
      "Non-trainable params: 0\n",
      "_________________________________________________________________\n"
     ]
    }
   ],
   "source": [
    "model_funct.summary()"
   ]
  },
  {
   "cell_type": "markdown",
   "metadata": {
    "id": "OSGU8YH0qvPn"
   },
   "source": [
    "### Fit Model"
   ]
  },
  {
   "cell_type": "code",
   "execution_count": 85,
   "metadata": {
    "id": "0lmbG2yvj6Hh"
   },
   "outputs": [],
   "source": [
    "# Compile model\n",
    "model_funct.compile(loss=\"categorical_crossentropy\",\n",
    "                   optimizer=tf.keras.optimizers.Adam(),\n",
    "                   metrics=[\"accuracy\"])"
   ]
  },
  {
   "cell_type": "code",
   "execution_count": 86,
   "metadata": {
    "colab": {
     "base_uri": "https://localhost:8080/"
    },
    "id": "YV1ylBcCj6Kk",
    "outputId": "92fe5090-720e-41ec-fb5d-5b1c061a7d2a"
   },
   "outputs": [
    {
     "name": "stdout",
     "output_type": "stream",
     "text": [
      "Epoch 1/5\n",
      "7039/7039 [==============================] - 74s 10ms/step - loss: 0.3139 - accuracy: 0.9016 - val_loss: 0.2076 - val_accuracy: 0.9476\n",
      "Epoch 2/5\n",
      "7039/7039 [==============================] - 73s 10ms/step - loss: 0.1379 - accuracy: 0.9643 - val_loss: 0.1984 - val_accuracy: 0.9501\n",
      "Epoch 3/5\n",
      "7039/7039 [==============================] - 73s 10ms/step - loss: 0.1134 - accuracy: 0.9708 - val_loss: 0.2054 - val_accuracy: 0.9482\n",
      "Epoch 4/5\n",
      "7039/7039 [==============================] - 73s 10ms/step - loss: 0.1001 - accuracy: 0.9740 - val_loss: 0.2139 - val_accuracy: 0.9448\n",
      "Epoch 5/5\n",
      "7039/7039 [==============================] - 73s 10ms/step - loss: 0.0907 - accuracy: 0.9766 - val_loss: 0.2238 - val_accuracy: 0.9416\n"
     ]
    }
   ],
   "source": [
    "# Fit  model\n",
    "model_funct_history = model_funct.fit(train_sentences,\n",
    "                              train_labels,\n",
    "                              epochs=5,\n",
    "                              validation_data=(val_sentences, val_labels))"
   ]
  },
  {
   "cell_type": "markdown",
   "metadata": {
    "id": "4BqbLT_Xr1y0"
   },
   "source": [
    "## Model Functional API Evaluation"
   ]
  },
  {
   "cell_type": "code",
   "execution_count": 110,
   "metadata": {
    "id": "GEJ6LwvKj6Nv"
   },
   "outputs": [],
   "source": [
    "y_pred = model_funct.predict(val_sentences)"
   ]
  },
  {
   "cell_type": "code",
   "execution_count": 88,
   "metadata": {
    "id": "iJUCxjFhj6RB"
   },
   "outputs": [],
   "source": [
    "def calculate_results(y_true, y_pred):\n",
    "  model_accuracy = accuracy_score(y_true, y_pred) * 100\n",
    "  model_precision, model_recall, model_f1, _ = precision_recall_fscore_support(y_true, y_pred, average=\"weighted\")\n",
    "  model_results = {\"accuracy\": model_accuracy,\n",
    "                  \"precision\": model_precision,\n",
    "                  \"recall\": model_recall,\n",
    "                  \"f1\": model_f1}\n",
    "  return model_results"
   ]
  },
  {
   "cell_type": "code",
   "execution_count": 89,
   "metadata": {
    "colab": {
     "base_uri": "https://localhost:8080/"
    },
    "id": "DgonZKsjr-FN",
    "outputId": "b5e63d96-e0e2-4e21-f352-785aae49942b"
   },
   "outputs": [
    {
     "data": {
      "text/plain": [
       "{'accuracy': 94.16246359309513,\n",
       " 'f1': 0.9414326123809394,\n",
       " 'precision': 0.9414015579907974,\n",
       " 'recall': 0.9416246359309512}"
      ]
     },
     "execution_count": 89,
     "metadata": {},
     "output_type": "execute_result"
    }
   ],
   "source": [
    "model_funct_results = calculate_results(y_true= val_labels.argmax(axis=1), \n",
    "                                    y_pred= y_pred.argmax(axis=1))\n",
    "model_funct_results"
   ]
  },
  {
   "cell_type": "markdown",
   "metadata": {
    "id": "DciLe9ZTkxzW"
   },
   "source": [
    "### Analysis Functional API model\n"
   ]
  },
  {
   "cell_type": "markdown",
   "metadata": {},
   "source": [
    "didapatkan nilai evaluasi performa sebagai berikut:\n",
    "\n",
    "* menghasilkan score accuracy sebesar 0.94\n",
    "* menghasilkan f1 score sebesar 0.94"
   ]
  },
  {
   "cell_type": "markdown",
   "metadata": {
    "id": "VM2pIzjZ8E60"
   },
   "source": [
    "# Model Improvement"
   ]
  },
  {
   "cell_type": "code",
   "execution_count": 90,
   "metadata": {
    "id": "q6Hr7arydpNP"
   },
   "outputs": [],
   "source": [
    "def build_model(units=64):\n",
    "    inputs = layers.Input(shape=(1,), dtype=\"string\")\n",
    "    x = text_vectorizer(inputs)\n",
    "    x = embedding(x)\n",
    "    x = layers.LSTM(units, dropout=0.5)(x) \n",
    "    outputs = layers.Dense(3, activation=\"softmax\")(x)\n",
    "    model = tf.keras.Model(inputs, outputs, name=\"model_LSTM\")\n",
    "    model.compile(loss=\"categorical_crossentropy\", optimizer=tf.keras.optimizers.Adam(), metrics=[\"accuracy\"])\n",
    "    return model"
   ]
  },
  {
   "cell_type": "code",
   "execution_count": 91,
   "metadata": {
    "id": "KhP-lfaheJPg"
   },
   "outputs": [],
   "source": [
    "keras_cls = keras.wrappers.scikit_learn.KerasClassifier(build_model)"
   ]
  },
  {
   "cell_type": "code",
   "execution_count": 92,
   "metadata": {
    "colab": {
     "base_uri": "https://localhost:8080/"
    },
    "id": "T4cucGfHeX8b",
    "outputId": "7a9b5517-0242-4414-9fae-2b62cd6c2704"
   },
   "outputs": [
    {
     "name": "stdout",
     "output_type": "stream",
     "text": [
      "Epoch 1/5\n",
      "7039/7039 [==============================] - 97s 13ms/step - loss: 0.0891 - accuracy: 0.9721 - val_loss: 0.1953 - val_accuracy: 0.9422\n",
      "Epoch 2/5\n",
      "7039/7039 [==============================] - 92s 13ms/step - loss: 0.0692 - accuracy: 0.9786 - val_loss: 0.2272 - val_accuracy: 0.9335\n",
      "Epoch 3/5\n",
      "7039/7039 [==============================] - 93s 13ms/step - loss: 0.0619 - accuracy: 0.9802 - val_loss: 0.2331 - val_accuracy: 0.9326\n",
      "Epoch 4/5\n",
      "7039/7039 [==============================] - 92s 13ms/step - loss: 0.0566 - accuracy: 0.9820 - val_loss: 0.2682 - val_accuracy: 0.9235\n",
      "Epoch 5/5\n",
      "7039/7039 [==============================] - 92s 13ms/step - loss: 0.0530 - accuracy: 0.9827 - val_loss: 0.2705 - val_accuracy: 0.9255\n"
     ]
    },
    {
     "data": {
      "text/plain": [
       "<keras.callbacks.History at 0x7f5440ea0690>"
      ]
     },
     "execution_count": 92,
     "metadata": {},
     "output_type": "execute_result"
    }
   ],
   "source": [
    "keras_cls.fit(train_sentences,\n",
    "              train_labels,\n",
    "              epochs=5,\n",
    "              validation_data=(val_sentences, val_labels))"
   ]
  },
  {
   "cell_type": "code",
   "execution_count": 93,
   "metadata": {
    "id": "Y-Wkll4J8IkT"
   },
   "outputs": [],
   "source": [
    "param_distribs = {\n",
    "    \"units\": [32, 64, 96]\n",
    "}"
   ]
  },
  {
   "cell_type": "markdown",
   "metadata": {},
   "source": [
    "model improvement dengan menguji coba menggunakan jumlah units 32, 64, dan 96"
   ]
  },
  {
   "cell_type": "code",
   "execution_count": 94,
   "metadata": {
    "id": "SQwMPijBXuXR"
   },
   "outputs": [],
   "source": [
    "rnd_search_cv = RandomizedSearchCV(keras_cls, param_distribs, cv=2)"
   ]
  },
  {
   "cell_type": "code",
   "execution_count": 95,
   "metadata": {
    "colab": {
     "base_uri": "https://localhost:8080/"
    },
    "id": "KojLZuGMXuhS",
    "outputId": "5f49e992-dd31-4c6f-caae-0e23df719886"
   },
   "outputs": [
    {
     "name": "stderr",
     "output_type": "stream",
     "text": [
      "/usr/local/lib/python3.7/dist-packages/sklearn/model_selection/_search.py:281: UserWarning: The total space of parameters 3 is smaller than n_iter=10. Running 3 iterations. For exhaustive searches, use GridSearchCV.\n",
      "  % (grid_size, self.n_iter, grid_size), UserWarning)\n"
     ]
    },
    {
     "name": "stdout",
     "output_type": "stream",
     "text": [
      "Epoch 1/5\n",
      "3520/3520 [==============================] - 50s 14ms/step - loss: 0.0988 - accuracy: 0.9675 - val_loss: 0.2871 - val_accuracy: 0.9188\n",
      "Epoch 2/5\n",
      "3520/3520 [==============================] - 47s 13ms/step - loss: 0.0596 - accuracy: 0.9811 - val_loss: 0.2717 - val_accuracy: 0.9249\n",
      "Epoch 3/5\n",
      "3520/3520 [==============================] - 47s 13ms/step - loss: 0.0517 - accuracy: 0.9833 - val_loss: 0.2679 - val_accuracy: 0.9297\n",
      "Epoch 4/5\n",
      "3520/3520 [==============================] - 47s 13ms/step - loss: 0.0460 - accuracy: 0.9855 - val_loss: 0.3212 - val_accuracy: 0.9141\n",
      "Epoch 5/5\n",
      "3520/3520 [==============================] - 47s 13ms/step - loss: 0.0409 - accuracy: 0.9866 - val_loss: 0.2960 - val_accuracy: 0.9244\n",
      "3520/3520 [==============================] - 21s 6ms/step - loss: 0.0609 - accuracy: 0.9819\n",
      "Epoch 1/5\n",
      "3520/3520 [==============================] - 50s 14ms/step - loss: 0.1156 - accuracy: 0.9632 - val_loss: 0.2167 - val_accuracy: 0.9370\n",
      "Epoch 2/5\n",
      "3520/3520 [==============================] - 47s 13ms/step - loss: 0.0759 - accuracy: 0.9768 - val_loss: 0.2443 - val_accuracy: 0.9276\n",
      "Epoch 3/5\n",
      "3520/3520 [==============================] - 48s 14ms/step - loss: 0.0642 - accuracy: 0.9801 - val_loss: 0.2657 - val_accuracy: 0.9310\n",
      "Epoch 4/5\n",
      "3520/3520 [==============================] - 47s 13ms/step - loss: 0.0565 - accuracy: 0.9821 - val_loss: 0.2668 - val_accuracy: 0.9288\n",
      "Epoch 5/5\n",
      "3520/3520 [==============================] - 47s 13ms/step - loss: 0.0501 - accuracy: 0.9843 - val_loss: 0.2952 - val_accuracy: 0.9256\n",
      "3520/3520 [==============================] - 22s 6ms/step - loss: 0.0491 - accuracy: 0.9841\n",
      "Epoch 1/5\n",
      "3520/3520 [==============================] - 51s 14ms/step - loss: 0.0937 - accuracy: 0.9707 - val_loss: 0.2439 - val_accuracy: 0.9220\n",
      "Epoch 2/5\n",
      "3520/3520 [==============================] - 49s 14ms/step - loss: 0.0618 - accuracy: 0.9801 - val_loss: 0.2777 - val_accuracy: 0.9235\n",
      "Epoch 3/5\n",
      "3520/3520 [==============================] - 50s 14ms/step - loss: 0.0523 - accuracy: 0.9831 - val_loss: 0.2654 - val_accuracy: 0.9287\n",
      "Epoch 4/5\n",
      "3520/3520 [==============================] - 49s 14ms/step - loss: 0.0458 - accuracy: 0.9852 - val_loss: 0.3162 - val_accuracy: 0.9154\n",
      "Epoch 5/5\n",
      "3520/3520 [==============================] - 49s 14ms/step - loss: 0.0412 - accuracy: 0.9867 - val_loss: 0.3128 - val_accuracy: 0.9141\n",
      "3520/3520 [==============================] - 21s 6ms/step - loss: 0.0532 - accuracy: 0.9833\n",
      "Epoch 1/5\n",
      "3520/3520 [==============================] - 51s 14ms/step - loss: 0.0973 - accuracy: 0.9695 - val_loss: 0.2285 - val_accuracy: 0.9316\n",
      "Epoch 2/5\n",
      "3520/3520 [==============================] - 48s 14ms/step - loss: 0.0657 - accuracy: 0.9793 - val_loss: 0.2511 - val_accuracy: 0.9267\n",
      "Epoch 3/5\n",
      "3520/3520 [==============================] - 48s 14ms/step - loss: 0.0563 - accuracy: 0.9821 - val_loss: 0.2882 - val_accuracy: 0.9144\n",
      "Epoch 4/5\n",
      "3520/3520 [==============================] - 48s 14ms/step - loss: 0.0492 - accuracy: 0.9841 - val_loss: 0.2989 - val_accuracy: 0.9204\n",
      "Epoch 5/5\n",
      "3520/3520 [==============================] - 48s 14ms/step - loss: 0.0442 - accuracy: 0.9856 - val_loss: 0.3066 - val_accuracy: 0.9268\n",
      "3520/3520 [==============================] - 21s 6ms/step - loss: 0.0505 - accuracy: 0.9845\n",
      "Epoch 1/5\n",
      "3520/3520 [==============================] - 53s 14ms/step - loss: 0.0877 - accuracy: 0.9721 - val_loss: 0.2679 - val_accuracy: 0.9205\n",
      "Epoch 2/5\n",
      "3520/3520 [==============================] - 49s 14ms/step - loss: 0.0579 - accuracy: 0.9815 - val_loss: 0.3148 - val_accuracy: 0.9115\n",
      "Epoch 3/5\n",
      "3520/3520 [==============================] - 50s 14ms/step - loss: 0.0494 - accuracy: 0.9838 - val_loss: 0.2849 - val_accuracy: 0.9202\n",
      "Epoch 4/5\n",
      "3520/3520 [==============================] - 49s 14ms/step - loss: 0.0431 - accuracy: 0.9860 - val_loss: 0.3186 - val_accuracy: 0.9189\n",
      "Epoch 5/5\n",
      "3520/3520 [==============================] - 49s 14ms/step - loss: 0.0380 - accuracy: 0.9873 - val_loss: 0.3466 - val_accuracy: 0.9119\n",
      "3520/3520 [==============================] - 22s 6ms/step - loss: 0.0519 - accuracy: 0.9839\n",
      "Epoch 1/5\n",
      "3520/3520 [==============================] - 52s 14ms/step - loss: 0.0887 - accuracy: 0.9721 - val_loss: 0.2399 - val_accuracy: 0.9293\n",
      "Epoch 2/5\n",
      "3520/3520 [==============================] - 49s 14ms/step - loss: 0.0583 - accuracy: 0.9817 - val_loss: 0.2576 - val_accuracy: 0.9242\n",
      "Epoch 3/5\n",
      "3520/3520 [==============================] - 49s 14ms/step - loss: 0.0501 - accuracy: 0.9838 - val_loss: 0.2752 - val_accuracy: 0.9207\n",
      "Epoch 4/5\n",
      "3520/3520 [==============================] - 49s 14ms/step - loss: 0.0451 - accuracy: 0.9852 - val_loss: 0.3062 - val_accuracy: 0.9196\n",
      "Epoch 5/5\n",
      "3520/3520 [==============================] - 50s 14ms/step - loss: 0.0398 - accuracy: 0.9871 - val_loss: 0.3456 - val_accuracy: 0.9164\n",
      "3520/3520 [==============================] - 22s 6ms/step - loss: 0.0527 - accuracy: 0.9839\n",
      "Epoch 1/5\n",
      "7039/7039 [==============================] - 98s 14ms/step - loss: 0.0699 - accuracy: 0.9778 - val_loss: 0.2656 - val_accuracy: 0.9253\n",
      "Epoch 2/5\n",
      "7039/7039 [==============================] - 93s 13ms/step - loss: 0.0503 - accuracy: 0.9837 - val_loss: 0.2727 - val_accuracy: 0.9274\n",
      "Epoch 3/5\n",
      "7039/7039 [==============================] - 94s 13ms/step - loss: 0.0455 - accuracy: 0.9853 - val_loss: 0.3143 - val_accuracy: 0.9155\n",
      "Epoch 4/5\n",
      "7039/7039 [==============================] - 94s 13ms/step - loss: 0.0429 - accuracy: 0.9862 - val_loss: 0.3359 - val_accuracy: 0.9150\n",
      "Epoch 5/5\n",
      "7039/7039 [==============================] - 94s 13ms/step - loss: 0.0408 - accuracy: 0.9866 - val_loss: 0.3182 - val_accuracy: 0.9197\n"
     ]
    },
    {
     "data": {
      "text/plain": [
       "RandomizedSearchCV(cv=2, error_score=nan,\n",
       "                   estimator=<keras.wrappers.scikit_learn.KerasClassifier object at 0x7f54410fc3d0>,\n",
       "                   iid='deprecated', n_iter=10, n_jobs=None,\n",
       "                   param_distributions={'units': [32, 64, 96]},\n",
       "                   pre_dispatch='2*n_jobs', random_state=None, refit=True,\n",
       "                   return_train_score=False, scoring=None, verbose=0)"
      ]
     },
     "execution_count": 95,
     "metadata": {},
     "output_type": "execute_result"
    }
   ],
   "source": [
    "rnd_search_cv.fit(train_sentences,\n",
    "                  train_labels,\n",
    "                  epochs=5,\n",
    "                  validation_data=(val_sentences, val_labels))"
   ]
  },
  {
   "cell_type": "markdown",
   "metadata": {
    "id": "eORIeyNxl0Kl"
   },
   "source": [
    "#### Model Evaluation"
   ]
  },
  {
   "cell_type": "code",
   "execution_count": 112,
   "metadata": {
    "id": "xsOJwmUQl0-Q"
   },
   "outputs": [],
   "source": [
    "y_pred = rnd_search_cv.predict(val_sentences)"
   ]
  },
  {
   "cell_type": "code",
   "execution_count": 97,
   "metadata": {
    "id": "0FMKb-YGl8QI"
   },
   "outputs": [],
   "source": [
    "def calculate_results(y_true, y_pred):\n",
    "  model_accuracy = accuracy_score(y_true, y_pred) * 100\n",
    "  model_precision, model_recall, model_f1, _ = precision_recall_fscore_support(y_true, y_pred, average=\"weighted\")\n",
    "  model_results = {\"accuracy\": model_accuracy,\n",
    "                  \"precision\": model_precision,\n",
    "                  \"recall\": model_recall,\n",
    "                  \"f1\": model_f1}\n",
    "  return model_results"
   ]
  },
  {
   "cell_type": "code",
   "execution_count": 115,
   "metadata": {
    "colab": {
     "base_uri": "https://localhost:8080/"
    },
    "id": "JGViC13-l8Xh",
    "outputId": "45c17ac8-a2c5-4634-852b-229f4e4abec4"
   },
   "outputs": [
    {
     "data": {
      "text/plain": [
       "{'accuracy': 91.34226042480643,\n",
       " 'f1': 0.9137877434456319,\n",
       " 'precision': 0.9149876403909774,\n",
       " 'recall': 0.9134226042480642}"
      ]
     },
     "execution_count": 115,
     "metadata": {},
     "output_type": "execute_result"
    }
   ],
   "source": [
    "rnd_search_cv_results = calculate_results(y_true= val_labels.argmax(axis=1), \n",
    "                                          y_pred= y_pred.argmax(axis=1))\n",
    "rnd_search_cv_results"
   ]
  },
  {
   "cell_type": "markdown",
   "metadata": {},
   "source": [
    "### Analysis Model Improvement"
   ]
  },
  {
   "cell_type": "markdown",
   "metadata": {},
   "source": [
    "dari hasil model improvement dengan menggunakan RandomizedSearchCV dengan parameter sebagai berikut:\n",
    "    \n",
    "* \"units\": [32, 64, 96],\n",
    "\n",
    "didapatkan nilai evaluasi performa sebagai berikut:\n",
    "\n",
    "* menghasilkan score accuracy sebesar 0.91\n",
    "* menghasilkan f1 score sebesar 0.91"
   ]
  },
  {
   "cell_type": "markdown",
   "metadata": {},
   "source": [
    "# Model Saving"
   ]
  },
  {
   "cell_type": "code",
   "execution_count": null,
   "metadata": {},
   "outputs": [],
   "source": [
    "model_LSTM..save('NLP_tokyo_tweets.h5')  "
   ]
  },
  {
   "cell_type": "markdown",
   "metadata": {},
   "source": [
    "melakukan save untuk model LSTM"
   ]
  },
  {
   "cell_type": "markdown",
   "metadata": {
    "id": "K2kTiZFbiD0I"
   },
   "source": [
    "# Data Inference"
   ]
  },
  {
   "cell_type": "markdown",
   "metadata": {},
   "source": [
    "#### membuat data baru"
   ]
  },
  {
   "cell_type": "code",
   "execution_count": 116,
   "metadata": {
    "id": "ZfdCFJ_PdVhz"
   },
   "outputs": [],
   "source": [
    "new_tweets = [\n",
    "            \"Japanese nationalists are targeting their own medals\",\n",
    "            \"The Indian mens hockey team beat current Olympycs\",\n",
    "            \"Wales wins its firstever Olympic gold after 20 years\"\n",
    "]"
   ]
  },
  {
   "cell_type": "markdown",
   "metadata": {},
   "source": [
    "#### melakukan prediksi terhadap data baru"
   ]
  },
  {
   "cell_type": "code",
   "execution_count": 117,
   "metadata": {
    "colab": {
     "base_uri": "https://localhost:8080/"
    },
    "id": "ru7Pgr9Iissf",
    "outputId": "b4303b7b-6fc7-4fde-bbfc-e2362532bc85"
   },
   "outputs": [
    {
     "data": {
      "text/plain": [
       "array([0, 0, 2])"
      ]
     },
     "execution_count": 117,
     "metadata": {},
     "output_type": "execute_result"
    }
   ],
   "source": [
    "predict = model_LSTM.predict(new_tweets)\n",
    "predict.argmax(axis=1)"
   ]
  },
  {
   "cell_type": "markdown",
   "metadata": {},
   "source": [
    "dari hasil prediksi dengan menggunakan data baru didapatkan hasil sebagai berikut:\n",
    "* tweet pertama termasuk kedalam label tweet Netral\n",
    "* tweet kedua termasuk kedalam label tweet Netral\n",
    "* tweet ketiga termasuk kedalam label tweet Positive"
   ]
  },
  {
   "cell_type": "markdown",
   "metadata": {},
   "source": [
    "# Model Analysis"
   ]
  },
  {
   "cell_type": "markdown",
   "metadata": {},
   "source": [
    "dari hasil perbandingan antara Model Functional API dan Model LSTM ditentukan bahwa model yang dipilih adalah Model LSTM karena memiliki performa yang baik yaitu memiliki accuracy score sebesar 94% dan f1 score 94%"
   ]
  }
 ],
 "metadata": {
  "accelerator": "GPU",
  "colab": {
   "name": "h8dsft_Milestone2P2.ipynb",
   "provenance": []
  },
  "kernelspec": {
   "display_name": "Python 3 (ipykernel)",
   "language": "python",
   "name": "python3"
  },
  "language_info": {
   "codemirror_mode": {
    "name": "ipython",
    "version": 3
   },
   "file_extension": ".py",
   "mimetype": "text/x-python",
   "name": "python",
   "nbconvert_exporter": "python",
   "pygments_lexer": "ipython3",
   "version": "3.9.5"
  }
 },
 "nbformat": 4,
 "nbformat_minor": 1
}
