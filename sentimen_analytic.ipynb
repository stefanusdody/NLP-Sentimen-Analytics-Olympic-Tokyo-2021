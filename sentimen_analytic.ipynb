{
  "nbformat": 4,
  "nbformat_minor": 0,
  "metadata": {
    "accelerator": "GPU",
    "colab": {
      "name": "sentimen_analytic.ipynb",
      "provenance": [],
      "collapsed_sections": [
        "JDf2yomn1seV",
        "Ad9kFQZSZBIB",
        "M4FqxBjbZBIC",
        "ADARPOuWZBID",
        "4xfYjcBydBhF",
        "0cmjMoHTZBIH",
        "toVfD-qlgN_W",
        "rDAiRXQtgk8s",
        "RJfBL5tl0Shj",
        "g-xzLGHH00MP",
        "RNxlR8fwG4Js",
        "XpaLRVZD7lV_",
        "WfNTcjmzUrgj",
        "8pD9nFvz1sew",
        "qpGOuBKl1sex",
        "7VvJ3q-51sez",
        "KcBR_9Qz1sfa",
        "SZ-MIpKC4Bc0",
        "c1O5d08bi39H",
        "rGPFIWNIjCkT",
        "gaUvE9OeggoV"
      ]
    },
    "kernelspec": {
      "display_name": "Python 3 (ipykernel)",
      "language": "python",
      "name": "python3"
    },
    "language_info": {
      "codemirror_mode": {
        "name": "ipython",
        "version": 3
      },
      "file_extension": ".py",
      "mimetype": "text/x-python",
      "name": "python",
      "nbconvert_exporter": "python",
      "pygments_lexer": "ipython3",
      "version": "3.9.6"
    }
  },
  "cells": [
    {
      "cell_type": "markdown",
      "metadata": {
        "id": "A61bdqbL4tLa"
      },
      "source": [
        "# Introduction\n"
      ]
    },
    {
      "cell_type": "markdown",
      "metadata": {
        "id": "g5PxXuZdYRBo"
      },
      "source": [
        "#### Dataset\n",
        "Berisi mengenai tweet pada Olimpiade Tokyo 2021\n",
        "\n",
        "#### Sumber Dataset\n",
        "Data berasal dari Kaggle dengan link: https://www.kaggle.com/amritpal333/tokyo-olympics-2021-tweets?select=Olympics_Tokyo_tweets.csv\n",
        "\n",
        "#### Objectivity\n",
        "Membuat Sentimen Analysis terhadap text tweeter pada olimpiade 2021 dengan Algoritma LSTM"
      ]
    },
    {
      "cell_type": "markdown",
      "metadata": {
        "id": "J7MMMMvNYByX"
      },
      "source": [
        "# Import Pustaka"
      ]
    },
    {
      "cell_type": "code",
      "metadata": {
        "colab": {
          "base_uri": "https://localhost:8080/"
        },
        "id": "WCthnApaZLGt",
        "outputId": "08290253-2663-43b3-dc7b-7ce2b379510f"
      },
      "source": [
        "from google.colab import drive\n",
        "drive.mount('/content/drive')"
      ],
      "execution_count": 89,
      "outputs": [
        {
          "output_type": "stream",
          "name": "stdout",
          "text": [
            "Drive already mounted at /content/drive; to attempt to forcibly remount, call drive.mount(\"/content/drive\", force_remount=True).\n"
          ]
        }
      ]
    },
    {
      "cell_type": "code",
      "metadata": {
        "colab": {
          "base_uri": "https://localhost:8080/"
        },
        "id": "hl_vKAIlXg0a",
        "outputId": "d27f8817-f74c-4c16-923b-71600c419da6"
      },
      "source": [
        "import pandas as pd\n",
        "import numpy as np\n",
        "import matplotlib.pyplot as plt\n",
        "import seaborn as sns\n",
        "import tensorflow as tf\n",
        "\n",
        "import os\n",
        "import re\n",
        "import string\n",
        "import nltk\n",
        "import random\n",
        "import gensim\n",
        "nltk.download('stopwords')\n",
        "from tensorflow import keras\n",
        "from textblob import TextBlob\n",
        "from wordcloud import WordCloud\n",
        "from nltk.corpus import stopwords\n",
        "from collections import Counter\n",
        "from gensim.models import Word2Vec\n",
        "\n",
        "from tensorflow.keras.layers.experimental.preprocessing import TextVectorization\n",
        "from keras.preprocessing.text import Tokenizer\n",
        "from tensorflow.keras import layers\n",
        "from tensorflow.keras.utils import to_categorical\n",
        "from keras.preprocessing.sequence import pad_sequences\n",
        "\n",
        "from sklearn.model_selection import train_test_split\n",
        "from sklearn.metrics import accuracy_score, precision_recall_fscore_support\n",
        "from sklearn.metrics import classification_report\n",
        "\n",
        "%matplotlib inline"
      ],
      "execution_count": 90,
      "outputs": [
        {
          "output_type": "stream",
          "name": "stdout",
          "text": [
            "[nltk_data] Downloading package stopwords to /root/nltk_data...\n",
            "[nltk_data]   Package stopwords is already up-to-date!\n"
          ]
        }
      ]
    },
    {
      "cell_type": "markdown",
      "metadata": {
        "id": "rOhYNVoDYU7o"
      },
      "source": [
        "# Data Loading"
      ]
    },
    {
      "cell_type": "code",
      "metadata": {
        "colab": {
          "base_uri": "https://localhost:8080/"
        },
        "id": "xNYFISDDYE1y",
        "outputId": "4cb7980a-dfd0-4715-f072-d4acc4e8452b"
      },
      "source": [
        "df = pd.read_csv('/content/drive/MyDrive/milestone2/Olympics_Tokyo_tweets.csv')"
      ],
      "execution_count": 91,
      "outputs": [
        {
          "output_type": "stream",
          "name": "stderr",
          "text": [
            "/usr/local/lib/python3.7/dist-packages/IPython/core/interactiveshell.py:2718: DtypeWarning: Columns (0,4,5,6,10) have mixed types.Specify dtype option on import or set low_memory=False.\n",
            "  interactivity=interactivity, compiler=compiler, result=result)\n"
          ]
        }
      ]
    },
    {
      "cell_type": "markdown",
      "metadata": {
        "id": "30K5xOcd1seS"
      },
      "source": [
        "#### melihat data teratas"
      ]
    },
    {
      "cell_type": "code",
      "metadata": {
        "colab": {
          "base_uri": "https://localhost:8080/",
          "height": 445
        },
        "id": "rnBaDhD7Ydq7",
        "outputId": "aeb21bb2-0285-4847-e496-44bc83e15b4a"
      },
      "source": [
        "df.head()"
      ],
      "execution_count": 92,
      "outputs": [
        {
          "output_type": "execute_result",
          "data": {
            "text/html": [
              "<div>\n",
              "<style scoped>\n",
              "    .dataframe tbody tr th:only-of-type {\n",
              "        vertical-align: middle;\n",
              "    }\n",
              "\n",
              "    .dataframe tbody tr th {\n",
              "        vertical-align: top;\n",
              "    }\n",
              "\n",
              "    .dataframe thead th {\n",
              "        text-align: right;\n",
              "    }\n",
              "</style>\n",
              "<table border=\"1\" class=\"dataframe\">\n",
              "  <thead>\n",
              "    <tr style=\"text-align: right;\">\n",
              "      <th></th>\n",
              "      <th>id</th>\n",
              "      <th>text</th>\n",
              "      <th>user_screen_name</th>\n",
              "      <th>user_location</th>\n",
              "      <th>retweet_count</th>\n",
              "      <th>favorited</th>\n",
              "      <th>favorite_count</th>\n",
              "      <th>user_description</th>\n",
              "      <th>user_created_at</th>\n",
              "      <th>user_followers</th>\n",
              "      <th>user_friends</th>\n",
              "      <th>date</th>\n",
              "      <th>language</th>\n",
              "    </tr>\n",
              "  </thead>\n",
              "  <tbody>\n",
              "    <tr>\n",
              "      <th>0</th>\n",
              "      <td>1419334065375924227</td>\n",
              "      <td>Rejected sports for the 2020 Olympics include ...</td>\n",
              "      <td>tbelmontedu</td>\n",
              "      <td>New Jersey</td>\n",
              "      <td>0</td>\n",
              "      <td>False</td>\n",
              "      <td>0</td>\n",
              "      <td>High School Language Arts Teacher. Technology ...</td>\n",
              "      <td>2013-01-21 00:03:31</td>\n",
              "      <td>778.0</td>\n",
              "      <td>661</td>\n",
              "      <td>2021-07-25 16:29:45</td>\n",
              "      <td>en</td>\n",
              "    </tr>\n",
              "    <tr>\n",
              "      <th>1</th>\n",
              "      <td>1419334059424043009</td>\n",
              "      <td>Why is the Team USA men basketball team playin...</td>\n",
              "      <td>silverchasm</td>\n",
              "      <td>Lynwood, CA</td>\n",
              "      <td>0</td>\n",
              "      <td>False</td>\n",
              "      <td>0</td>\n",
              "      <td>bleh</td>\n",
              "      <td>2014-05-13 18:54:40</td>\n",
              "      <td>66.0</td>\n",
              "      <td>553</td>\n",
              "      <td>2021-07-25 16:29:44</td>\n",
              "      <td>en</td>\n",
              "    </tr>\n",
              "    <tr>\n",
              "      <th>2</th>\n",
              "      <td>1419334056161030146</td>\n",
              "      <td>@my_hive_away I'm watching kayaking on the Oly...</td>\n",
              "      <td>cshaw12897514</td>\n",
              "      <td>NaN</td>\n",
              "      <td>0</td>\n",
              "      <td>False</td>\n",
              "      <td>0</td>\n",
              "      <td>not much to say, not very interesting. but I'm...</td>\n",
              "      <td>2020-10-19 14:15:06</td>\n",
              "      <td>494.0</td>\n",
              "      <td>757</td>\n",
              "      <td>2021-07-25 16:29:43</td>\n",
              "      <td>en</td>\n",
              "    </tr>\n",
              "    <tr>\n",
              "      <th>3</th>\n",
              "      <td>1419334052876795905</td>\n",
              "      <td>While girls her age are still trying to figuri...</td>\n",
              "      <td>AdultMediaTV</td>\n",
              "      <td>United States</td>\n",
              "      <td>0</td>\n",
              "      <td>False</td>\n",
              "      <td>0</td>\n",
              "      <td>Design | Photography | Film 18+ Test ready\\nIn...</td>\n",
              "      <td>2015-08-18 22:33:39</td>\n",
              "      <td>19.0</td>\n",
              "      <td>3</td>\n",
              "      <td>2021-07-25 16:29:42</td>\n",
              "      <td>en</td>\n",
              "    </tr>\n",
              "    <tr>\n",
              "      <th>4</th>\n",
              "      <td>1419334052180594699</td>\n",
              "      <td>@omensfromeden patty mills is at the Olympics???</td>\n",
              "      <td>muddyfoxglove</td>\n",
              "      <td>hozier.tamino.florence.etc.</td>\n",
              "      <td>0</td>\n",
              "      <td>False</td>\n",
              "      <td>0</td>\n",
              "      <td>what if i was a bog body and you were a bog bo...</td>\n",
              "      <td>2016-11-20 06:02:11</td>\n",
              "      <td>1153.0</td>\n",
              "      <td>622</td>\n",
              "      <td>2021-07-25 16:29:42</td>\n",
              "      <td>en</td>\n",
              "    </tr>\n",
              "  </tbody>\n",
              "</table>\n",
              "</div>"
            ],
            "text/plain": [
              "                    id  ... language\n",
              "0  1419334065375924227  ...       en\n",
              "1  1419334059424043009  ...       en\n",
              "2  1419334056161030146  ...       en\n",
              "3  1419334052876795905  ...       en\n",
              "4  1419334052180594699  ...       en\n",
              "\n",
              "[5 rows x 13 columns]"
            ]
          },
          "metadata": {},
          "execution_count": 92
        }
      ]
    },
    {
      "cell_type": "markdown",
      "metadata": {
        "id": "_CgW-BUb1seT"
      },
      "source": [
        "#### Melihat shape data"
      ]
    },
    {
      "cell_type": "code",
      "metadata": {
        "colab": {
          "base_uri": "https://localhost:8080/"
        },
        "id": "J3GDRIspT7L5",
        "outputId": "cf5b60b7-c3ca-4d1a-dbc7-a6e2cd45c196"
      },
      "source": [
        "df.shape"
      ],
      "execution_count": 93,
      "outputs": [
        {
          "output_type": "execute_result",
          "data": {
            "text/plain": [
              "(312825, 13)"
            ]
          },
          "metadata": {},
          "execution_count": 93
        }
      ]
    },
    {
      "cell_type": "markdown",
      "metadata": {
        "id": "IsdDD-4H1seU"
      },
      "source": [
        "data terdiri dari 13 columns dan 312825 rows"
      ]
    },
    {
      "cell_type": "markdown",
      "metadata": {
        "id": "ppq-m-tI1seV"
      },
      "source": [
        "#### Melihat statistika data"
      ]
    },
    {
      "cell_type": "code",
      "metadata": {
        "colab": {
          "base_uri": "https://localhost:8080/",
          "height": 297
        },
        "id": "8Vmvvcts1seV",
        "outputId": "960b0bee-78ff-47a9-feb2-de18cf662ff0"
      },
      "source": [
        "df.describe()"
      ],
      "execution_count": 94,
      "outputs": [
        {
          "output_type": "execute_result",
          "data": {
            "text/html": [
              "<div>\n",
              "<style scoped>\n",
              "    .dataframe tbody tr th:only-of-type {\n",
              "        vertical-align: middle;\n",
              "    }\n",
              "\n",
              "    .dataframe tbody tr th {\n",
              "        vertical-align: top;\n",
              "    }\n",
              "\n",
              "    .dataframe thead th {\n",
              "        text-align: right;\n",
              "    }\n",
              "</style>\n",
              "<table border=\"1\" class=\"dataframe\">\n",
              "  <thead>\n",
              "    <tr style=\"text-align: right;\">\n",
              "      <th></th>\n",
              "      <th>user_followers</th>\n",
              "    </tr>\n",
              "  </thead>\n",
              "  <tbody>\n",
              "    <tr>\n",
              "      <th>count</th>\n",
              "      <td>3.127950e+05</td>\n",
              "    </tr>\n",
              "    <tr>\n",
              "      <th>mean</th>\n",
              "      <td>8.878023e+04</td>\n",
              "    </tr>\n",
              "    <tr>\n",
              "      <th>std</th>\n",
              "      <td>1.184703e+06</td>\n",
              "    </tr>\n",
              "    <tr>\n",
              "      <th>min</th>\n",
              "      <td>0.000000e+00</td>\n",
              "    </tr>\n",
              "    <tr>\n",
              "      <th>25%</th>\n",
              "      <td>1.130000e+02</td>\n",
              "    </tr>\n",
              "    <tr>\n",
              "      <th>50%</th>\n",
              "      <td>4.740000e+02</td>\n",
              "    </tr>\n",
              "    <tr>\n",
              "      <th>75%</th>\n",
              "      <td>2.048000e+03</td>\n",
              "    </tr>\n",
              "    <tr>\n",
              "      <th>max</th>\n",
              "      <td>7.806182e+07</td>\n",
              "    </tr>\n",
              "  </tbody>\n",
              "</table>\n",
              "</div>"
            ],
            "text/plain": [
              "       user_followers\n",
              "count    3.127950e+05\n",
              "mean     8.878023e+04\n",
              "std      1.184703e+06\n",
              "min      0.000000e+00\n",
              "25%      1.130000e+02\n",
              "50%      4.740000e+02\n",
              "75%      2.048000e+03\n",
              "max      7.806182e+07"
            ]
          },
          "metadata": {},
          "execution_count": 94
        }
      ]
    },
    {
      "cell_type": "markdown",
      "metadata": {
        "id": "JDf2yomn1seV"
      },
      "source": [
        "#### Melihat columns data"
      ]
    },
    {
      "cell_type": "code",
      "metadata": {
        "colab": {
          "base_uri": "https://localhost:8080/"
        },
        "id": "sKt63JTG1seW",
        "outputId": "e7c65465-1b62-4410-9fe8-d318dd7e4037"
      },
      "source": [
        "df.columns"
      ],
      "execution_count": 95,
      "outputs": [
        {
          "output_type": "execute_result",
          "data": {
            "text/plain": [
              "Index(['id', 'text', 'user_screen_name', 'user_location', 'retweet_count',\n",
              "       'favorited', 'favorite_count', 'user_description', 'user_created_at',\n",
              "       'user_followers', 'user_friends', 'date', 'language'],\n",
              "      dtype='object')"
            ]
          },
          "metadata": {},
          "execution_count": 95
        }
      ]
    },
    {
      "cell_type": "markdown",
      "metadata": {
        "id": "Xy7IeRYbZBIA"
      },
      "source": [
        "# Data Cleaning"
      ]
    },
    {
      "cell_type": "markdown",
      "metadata": {
        "id": "Ad9kFQZSZBIB"
      },
      "source": [
        "#### Membuat dataset baru"
      ]
    },
    {
      "cell_type": "code",
      "metadata": {
        "colab": {
          "base_uri": "https://localhost:8080/",
          "height": 0
        },
        "id": "ta4UbPtzbjWs",
        "outputId": "c0dca222-b50f-44a9-aecd-db6486046b3f"
      },
      "source": [
        "dataset = pd.DataFrame(df['text'].values, columns=['tweets'])\n",
        "dataset"
      ],
      "execution_count": 96,
      "outputs": [
        {
          "output_type": "execute_result",
          "data": {
            "text/html": [
              "<div>\n",
              "<style scoped>\n",
              "    .dataframe tbody tr th:only-of-type {\n",
              "        vertical-align: middle;\n",
              "    }\n",
              "\n",
              "    .dataframe tbody tr th {\n",
              "        vertical-align: top;\n",
              "    }\n",
              "\n",
              "    .dataframe thead th {\n",
              "        text-align: right;\n",
              "    }\n",
              "</style>\n",
              "<table border=\"1\" class=\"dataframe\">\n",
              "  <thead>\n",
              "    <tr style=\"text-align: right;\">\n",
              "      <th></th>\n",
              "      <th>tweets</th>\n",
              "    </tr>\n",
              "  </thead>\n",
              "  <tbody>\n",
              "    <tr>\n",
              "      <th>0</th>\n",
              "      <td>Rejected sports for the 2020 Olympics include ...</td>\n",
              "    </tr>\n",
              "    <tr>\n",
              "      <th>1</th>\n",
              "      <td>Why is the Team USA men basketball team playin...</td>\n",
              "    </tr>\n",
              "    <tr>\n",
              "      <th>2</th>\n",
              "      <td>@my_hive_away I'm watching kayaking on the Oly...</td>\n",
              "    </tr>\n",
              "    <tr>\n",
              "      <th>3</th>\n",
              "      <td>While girls her age are still trying to figuri...</td>\n",
              "    </tr>\n",
              "    <tr>\n",
              "      <th>4</th>\n",
              "      <td>@omensfromeden patty mills is at the Olympics???</td>\n",
              "    </tr>\n",
              "    <tr>\n",
              "      <th>...</th>\n",
              "      <td>...</td>\n",
              "    </tr>\n",
              "    <tr>\n",
              "      <th>312820</th>\n",
              "      <td>This artistic swimming is unreal. #Olympics</td>\n",
              "    </tr>\n",
              "    <tr>\n",
              "      <th>312821</th>\n",
              "      <td>@fZaq6zCW8aVobP5 @Noormehr_Javan @Olympics @wo...</td>\n",
              "    </tr>\n",
              "    <tr>\n",
              "      <th>312822</th>\n",
              "      <td>finally someone said it!\\n@__ashutosh___ \\ndif...</td>\n",
              "    </tr>\n",
              "    <tr>\n",
              "      <th>312823</th>\n",
              "      <td>@hnonoo75 @Olympics @BahrainOlympic Congratula...</td>\n",
              "    </tr>\n",
              "    <tr>\n",
              "      <th>312824</th>\n",
              "      <td>Champian you won billion hearts today @Neeraj_...</td>\n",
              "    </tr>\n",
              "  </tbody>\n",
              "</table>\n",
              "<p>312825 rows × 1 columns</p>\n",
              "</div>"
            ],
            "text/plain": [
              "                                                   tweets\n",
              "0       Rejected sports for the 2020 Olympics include ...\n",
              "1       Why is the Team USA men basketball team playin...\n",
              "2       @my_hive_away I'm watching kayaking on the Oly...\n",
              "3       While girls her age are still trying to figuri...\n",
              "4        @omensfromeden patty mills is at the Olympics???\n",
              "...                                                   ...\n",
              "312820        This artistic swimming is unreal. #Olympics\n",
              "312821  @fZaq6zCW8aVobP5 @Noormehr_Javan @Olympics @wo...\n",
              "312822  finally someone said it!\\n@__ashutosh___ \\ndif...\n",
              "312823  @hnonoo75 @Olympics @BahrainOlympic Congratula...\n",
              "312824  Champian you won billion hearts today @Neeraj_...\n",
              "\n",
              "[312825 rows x 1 columns]"
            ]
          },
          "metadata": {},
          "execution_count": 96
        }
      ]
    },
    {
      "cell_type": "markdown",
      "metadata": {
        "id": "02BBgBI01seX"
      },
      "source": [
        "Dataset baru hanya mengambil feature tweets untuk dilakukan proses sentiment analysis"
      ]
    },
    {
      "cell_type": "markdown",
      "metadata": {
        "id": "M4FqxBjbZBIC"
      },
      "source": [
        "#### Melakukan pengecekan missing values"
      ]
    },
    {
      "cell_type": "code",
      "metadata": {
        "colab": {
          "base_uri": "https://localhost:8080/"
        },
        "id": "U1rCmGANN2Px",
        "outputId": "3427829d-44be-4e9d-a4e3-58ad8d160adc"
      },
      "source": [
        "dataset.isna().sum()"
      ],
      "execution_count": 97,
      "outputs": [
        {
          "output_type": "execute_result",
          "data": {
            "text/plain": [
              "tweets    4\n",
              "dtype: int64"
            ]
          },
          "metadata": {},
          "execution_count": 97
        }
      ]
    },
    {
      "cell_type": "markdown",
      "metadata": {
        "id": "IqVmlG4d1seZ"
      },
      "source": [
        "terdapat 4 missing values pada features tweets"
      ]
    },
    {
      "cell_type": "markdown",
      "metadata": {
        "id": "ADARPOuWZBID"
      },
      "source": [
        "#### Mengatasi missing values"
      ]
    },
    {
      "cell_type": "code",
      "metadata": {
        "colab": {
          "base_uri": "https://localhost:8080/"
        },
        "id": "qJnR339sbxKk",
        "outputId": "d7e336f2-3e72-4aea-f41d-d8ac81b103a6"
      },
      "source": [
        "dataset.dropna(inplace=True)\n",
        "dataset.isna().sum()"
      ],
      "execution_count": 98,
      "outputs": [
        {
          "output_type": "execute_result",
          "data": {
            "text/plain": [
              "tweets    0\n",
              "dtype: int64"
            ]
          },
          "metadata": {},
          "execution_count": 98
        }
      ]
    },
    {
      "cell_type": "markdown",
      "metadata": {
        "id": "S4mmRk6_1seb"
      },
      "source": [
        "melakukan penghapusan data untuk mengatasi missing values"
      ]
    },
    {
      "cell_type": "markdown",
      "metadata": {
        "id": "4xfYjcBydBhF"
      },
      "source": [
        "#### Melakukan pembersihan text"
      ]
    },
    {
      "cell_type": "code",
      "metadata": {
        "id": "6HaxVwmdtG90"
      },
      "source": [
        "def remove_url(text):\n",
        "  url = re.compile(r\"https?://\\S+|www\\.\\S+\")\n",
        "  return url.sub(r\"\", text)\n",
        "\n",
        "def remove_html(text):\n",
        "  html = re.compile(r\"<.*?>\")\n",
        "  return html.sub(r\"\", text)\n",
        "\n",
        "def remove_num(text):\n",
        "  text = re.sub(r\"@[A-Za-z0-9]+\", '', text)\n",
        "  return text\n",
        "\n",
        "def remove_emoji(string):\n",
        "  emoji_pattern = re.compile(\n",
        "      \"[\"\n",
        "      u\"\\U0001F600-\\U0001F64F\" #Emoticons\n",
        "      u\"\\U0001F300-\\U0001F5FF\" #symbols & picture\n",
        "      u\"\\U0001F680-\\U0001F6FF\" #transport & map symbols\n",
        "      u\"\\U0001F1E0-\\U0001F1FF\" # flags(iOS)\n",
        "      u\"\\U00002702-\\U00002780\"\n",
        "      u\"\\U000024C2-\\U0001F251\"\n",
        "      \"]+\",\n",
        "      flags=re.UNICODE,\n",
        "  )\n",
        "  return emoji_pattern.sub(r\"\", string)\n",
        "\n",
        "def remove_punct(text):\n",
        "  table = str.maketrans(\"\",\"\", string.punctuation)\n",
        "  return text.translate(table)"
      ],
      "execution_count": 99,
      "outputs": []
    },
    {
      "cell_type": "code",
      "metadata": {
        "id": "_H01jpQ5tHMC"
      },
      "source": [
        "dataset['tweets'] = dataset['tweets'].map(lambda x: remove_url(x))\n",
        "dataset['tweets'] = dataset['tweets'].map(lambda x: remove_html(x))\n",
        "dataset['tweets'] = dataset['tweets'].map(lambda x: remove_emoji(x))\n",
        "dataset['tweets'] = dataset['tweets'].map(lambda x: remove_punct(x))\n",
        "dataset['tweets'] = dataset['tweets'].apply(remove_num)"
      ],
      "execution_count": 100,
      "outputs": []
    },
    {
      "cell_type": "markdown",
      "metadata": {
        "id": "KA5Z1vrl1sec"
      },
      "source": [
        "melakukan pembersihan untuk menghilangkan url, html, number, emoji dan punctuation pada features tweets"
      ]
    },
    {
      "cell_type": "markdown",
      "metadata": {
        "id": "0cmjMoHTZBIH"
      },
      "source": [
        "#### Menghilangkan stopwords"
      ]
    },
    {
      "cell_type": "code",
      "metadata": {
        "id": "0hKi_BtOZBIH"
      },
      "source": [
        "stop = set(stopwords.words('english'))\n",
        "\n",
        "\n",
        "def remove_stopwords(text):\n",
        "    text = [word.lower() for word in text.split() if word.lower() not in stop]\n",
        "    \n",
        "    return \" \".join(text)"
      ],
      "execution_count": 101,
      "outputs": []
    },
    {
      "cell_type": "code",
      "metadata": {
        "id": "uJWHslbnZBII"
      },
      "source": [
        "dataset['tweets'] = dataset['tweets'].map(remove_stopwords)"
      ],
      "execution_count": 102,
      "outputs": []
    },
    {
      "cell_type": "markdown",
      "metadata": {
        "id": "U-RHx4wlb820"
      },
      "source": [
        "Stop word adalah kata yang umum digunakan (seperti “the”, “a”, “an”, “in”) yang telah diprogram untuk diabaikan oleh search engine,\n",
        "untuk itu Kita akan menghapus stopwords sesuai dengan yang tersimpan dalam corpus nltk untuk mempercepat waktu pemrosesan. "
      ]
    },
    {
      "cell_type": "markdown",
      "metadata": {
        "id": "toVfD-qlgN_W"
      },
      "source": [
        "#### Membuat function untuk Subjektivitas"
      ]
    },
    {
      "cell_type": "code",
      "metadata": {
        "id": "dub2hq__e9uU"
      },
      "source": [
        "def getSubjectivity(text):\n",
        "  return TextBlob(text).sentiment.subjectivity"
      ],
      "execution_count": 103,
      "outputs": []
    },
    {
      "cell_type": "markdown",
      "metadata": {
        "id": "2ektkBDS1sef"
      },
      "source": [
        "subjectivity untuk melihat value dari tweet itu adalah opini atau faktual"
      ]
    },
    {
      "cell_type": "markdown",
      "metadata": {
        "id": "rDAiRXQtgk8s"
      },
      "source": [
        "#### Membuat function untuk Polarity"
      ]
    },
    {
      "cell_type": "code",
      "metadata": {
        "id": "9ow0p4jUgs9s"
      },
      "source": [
        "def getPolarity(text):\n",
        "  return TextBlob(text).sentiment.polarity"
      ],
      "execution_count": 104,
      "outputs": []
    },
    {
      "cell_type": "markdown",
      "metadata": {
        "id": "C10KBXMX1sef"
      },
      "source": [
        "Polarity digunakan untuk melihat seberapa positif atau negatif sebuah teks"
      ]
    },
    {
      "cell_type": "markdown",
      "metadata": {
        "id": "n-e-zFU6g7H8"
      },
      "source": [
        "#### Membuat Feature baru yaitu Subjectivity dan Polarity"
      ]
    },
    {
      "cell_type": "code",
      "metadata": {
        "id": "AUbFSrtGg30o"
      },
      "source": [
        "dataset['Subjectivity'] = dataset['tweets'].apply(getSubjectivity)\n",
        "dataset['Polarity'] = dataset['tweets'].apply(getPolarity)"
      ],
      "execution_count": 105,
      "outputs": []
    },
    {
      "cell_type": "markdown",
      "metadata": {
        "id": "B80rIloviFUq"
      },
      "source": [
        "#### Melihat dataset baru"
      ]
    },
    {
      "cell_type": "code",
      "metadata": {
        "colab": {
          "base_uri": "https://localhost:8080/",
          "height": 419
        },
        "id": "OfE7P97ThXjf",
        "outputId": "8fe92214-2a59-479b-8145-ad03523aa0dd"
      },
      "source": [
        "dataset"
      ],
      "execution_count": 106,
      "outputs": [
        {
          "output_type": "execute_result",
          "data": {
            "text/html": [
              "<div>\n",
              "<style scoped>\n",
              "    .dataframe tbody tr th:only-of-type {\n",
              "        vertical-align: middle;\n",
              "    }\n",
              "\n",
              "    .dataframe tbody tr th {\n",
              "        vertical-align: top;\n",
              "    }\n",
              "\n",
              "    .dataframe thead th {\n",
              "        text-align: right;\n",
              "    }\n",
              "</style>\n",
              "<table border=\"1\" class=\"dataframe\">\n",
              "  <thead>\n",
              "    <tr style=\"text-align: right;\">\n",
              "      <th></th>\n",
              "      <th>tweets</th>\n",
              "      <th>Subjectivity</th>\n",
              "      <th>Polarity</th>\n",
              "    </tr>\n",
              "  </thead>\n",
              "  <tbody>\n",
              "    <tr>\n",
              "      <th>0</th>\n",
              "      <td>rejected sports 2020 olympics include bowling ...</td>\n",
              "      <td>0.000000</td>\n",
              "      <td>0.000000</td>\n",
              "    </tr>\n",
              "    <tr>\n",
              "      <th>1</th>\n",
              "      <td>team usa men basketball team playing horrible ...</td>\n",
              "      <td>1.000000</td>\n",
              "      <td>-0.450000</td>\n",
              "    </tr>\n",
              "    <tr>\n",
              "      <th>2</th>\n",
              "      <td>myhiveaway im watching kayaking olympics broad...</td>\n",
              "      <td>0.575000</td>\n",
              "      <td>0.375000</td>\n",
              "    </tr>\n",
              "    <tr>\n",
              "      <th>3</th>\n",
              "      <td>girls age still trying figuring open account o...</td>\n",
              "      <td>0.350000</td>\n",
              "      <td>0.050000</td>\n",
              "    </tr>\n",
              "    <tr>\n",
              "      <th>4</th>\n",
              "      <td>omensfromeden patty mills olympics</td>\n",
              "      <td>0.000000</td>\n",
              "      <td>0.000000</td>\n",
              "    </tr>\n",
              "    <tr>\n",
              "      <th>...</th>\n",
              "      <td>...</td>\n",
              "      <td>...</td>\n",
              "      <td>...</td>\n",
              "    </tr>\n",
              "    <tr>\n",
              "      <th>312820</th>\n",
              "      <td>artistic swimming unreal olympics</td>\n",
              "      <td>1.000000</td>\n",
              "      <td>0.333333</td>\n",
              "    </tr>\n",
              "    <tr>\n",
              "      <th>312821</th>\n",
              "      <td>fzaq6zcw8avobp5 noormehrjavan olympics worldka...</td>\n",
              "      <td>0.000000</td>\n",
              "      <td>0.000000</td>\n",
              "    </tr>\n",
              "    <tr>\n",
              "      <th>312822</th>\n",
              "      <td>finally someone said ashutosh difference pseud...</td>\n",
              "      <td>0.533333</td>\n",
              "      <td>0.133333</td>\n",
              "    </tr>\n",
              "    <tr>\n",
              "      <th>312823</th>\n",
              "      <td>hnonoo75 olympics bahrainolympic congratulatio...</td>\n",
              "      <td>0.000000</td>\n",
              "      <td>0.000000</td>\n",
              "    </tr>\n",
              "    <tr>\n",
              "      <th>312824</th>\n",
              "      <td>champian billion hearts today neerajchopra1 at...</td>\n",
              "      <td>0.000000</td>\n",
              "      <td>0.000000</td>\n",
              "    </tr>\n",
              "  </tbody>\n",
              "</table>\n",
              "<p>312821 rows × 3 columns</p>\n",
              "</div>"
            ],
            "text/plain": [
              "                                                   tweets  ...  Polarity\n",
              "0       rejected sports 2020 olympics include bowling ...  ...  0.000000\n",
              "1       team usa men basketball team playing horrible ...  ... -0.450000\n",
              "2       myhiveaway im watching kayaking olympics broad...  ...  0.375000\n",
              "3       girls age still trying figuring open account o...  ...  0.050000\n",
              "4                      omensfromeden patty mills olympics  ...  0.000000\n",
              "...                                                   ...  ...       ...\n",
              "312820                  artistic swimming unreal olympics  ...  0.333333\n",
              "312821  fzaq6zcw8avobp5 noormehrjavan olympics worldka...  ...  0.000000\n",
              "312822  finally someone said ashutosh difference pseud...  ...  0.133333\n",
              "312823  hnonoo75 olympics bahrainolympic congratulatio...  ...  0.000000\n",
              "312824  champian billion hearts today neerajchopra1 at...  ...  0.000000\n",
              "\n",
              "[312821 rows x 3 columns]"
            ]
          },
          "metadata": {},
          "execution_count": 106
        }
      ]
    },
    {
      "cell_type": "markdown",
      "metadata": {
        "id": "RJfBL5tl0Shj"
      },
      "source": [
        "#### Membuat function untuk melakukan pemisahan sentimen negative, neutral, and positive analysis"
      ]
    },
    {
      "cell_type": "code",
      "metadata": {
        "id": "Ldf88IGMz4-Q"
      },
      "source": [
        "def getScore(score):\n",
        "  if score < 0:\n",
        "    return 'negative'\n",
        "  elif score == 0:\n",
        "    return \"neutral\"\n",
        "  else:\n",
        "    return \"positive\""
      ],
      "execution_count": 107,
      "outputs": []
    },
    {
      "cell_type": "markdown",
      "metadata": {
        "id": "zHoq5qsz1sek"
      },
      "source": [
        "membuat function getScore untuk membuat klasifikasi tweets Negative, Neutral, dan Positive"
      ]
    },
    {
      "cell_type": "markdown",
      "metadata": {
        "id": "g-xzLGHH00MP"
      },
      "source": [
        "#### Membuat Features Label"
      ]
    },
    {
      "cell_type": "code",
      "metadata": {
        "id": "LiwXRm5u0ydf"
      },
      "source": [
        "dataset['Label'] = dataset['Polarity'].apply(getScore)"
      ],
      "execution_count": 108,
      "outputs": []
    },
    {
      "cell_type": "code",
      "metadata": {
        "colab": {
          "base_uri": "https://localhost:8080/",
          "height": 0
        },
        "id": "EvKG3sPY1IAj",
        "outputId": "44b2783c-c64b-4a54-9a0d-6c9ac76d48f4"
      },
      "source": [
        "dataset"
      ],
      "execution_count": 109,
      "outputs": [
        {
          "output_type": "execute_result",
          "data": {
            "text/html": [
              "<div>\n",
              "<style scoped>\n",
              "    .dataframe tbody tr th:only-of-type {\n",
              "        vertical-align: middle;\n",
              "    }\n",
              "\n",
              "    .dataframe tbody tr th {\n",
              "        vertical-align: top;\n",
              "    }\n",
              "\n",
              "    .dataframe thead th {\n",
              "        text-align: right;\n",
              "    }\n",
              "</style>\n",
              "<table border=\"1\" class=\"dataframe\">\n",
              "  <thead>\n",
              "    <tr style=\"text-align: right;\">\n",
              "      <th></th>\n",
              "      <th>tweets</th>\n",
              "      <th>Subjectivity</th>\n",
              "      <th>Polarity</th>\n",
              "      <th>Label</th>\n",
              "    </tr>\n",
              "  </thead>\n",
              "  <tbody>\n",
              "    <tr>\n",
              "      <th>0</th>\n",
              "      <td>rejected sports 2020 olympics include bowling ...</td>\n",
              "      <td>0.000000</td>\n",
              "      <td>0.000000</td>\n",
              "      <td>neutral</td>\n",
              "    </tr>\n",
              "    <tr>\n",
              "      <th>1</th>\n",
              "      <td>team usa men basketball team playing horrible ...</td>\n",
              "      <td>1.000000</td>\n",
              "      <td>-0.450000</td>\n",
              "      <td>negative</td>\n",
              "    </tr>\n",
              "    <tr>\n",
              "      <th>2</th>\n",
              "      <td>myhiveaway im watching kayaking olympics broad...</td>\n",
              "      <td>0.575000</td>\n",
              "      <td>0.375000</td>\n",
              "      <td>positive</td>\n",
              "    </tr>\n",
              "    <tr>\n",
              "      <th>3</th>\n",
              "      <td>girls age still trying figuring open account o...</td>\n",
              "      <td>0.350000</td>\n",
              "      <td>0.050000</td>\n",
              "      <td>positive</td>\n",
              "    </tr>\n",
              "    <tr>\n",
              "      <th>4</th>\n",
              "      <td>omensfromeden patty mills olympics</td>\n",
              "      <td>0.000000</td>\n",
              "      <td>0.000000</td>\n",
              "      <td>neutral</td>\n",
              "    </tr>\n",
              "    <tr>\n",
              "      <th>...</th>\n",
              "      <td>...</td>\n",
              "      <td>...</td>\n",
              "      <td>...</td>\n",
              "      <td>...</td>\n",
              "    </tr>\n",
              "    <tr>\n",
              "      <th>312820</th>\n",
              "      <td>artistic swimming unreal olympics</td>\n",
              "      <td>1.000000</td>\n",
              "      <td>0.333333</td>\n",
              "      <td>positive</td>\n",
              "    </tr>\n",
              "    <tr>\n",
              "      <th>312821</th>\n",
              "      <td>fzaq6zcw8avobp5 noormehrjavan olympics worldka...</td>\n",
              "      <td>0.000000</td>\n",
              "      <td>0.000000</td>\n",
              "      <td>neutral</td>\n",
              "    </tr>\n",
              "    <tr>\n",
              "      <th>312822</th>\n",
              "      <td>finally someone said ashutosh difference pseud...</td>\n",
              "      <td>0.533333</td>\n",
              "      <td>0.133333</td>\n",
              "      <td>positive</td>\n",
              "    </tr>\n",
              "    <tr>\n",
              "      <th>312823</th>\n",
              "      <td>hnonoo75 olympics bahrainolympic congratulatio...</td>\n",
              "      <td>0.000000</td>\n",
              "      <td>0.000000</td>\n",
              "      <td>neutral</td>\n",
              "    </tr>\n",
              "    <tr>\n",
              "      <th>312824</th>\n",
              "      <td>champian billion hearts today neerajchopra1 at...</td>\n",
              "      <td>0.000000</td>\n",
              "      <td>0.000000</td>\n",
              "      <td>neutral</td>\n",
              "    </tr>\n",
              "  </tbody>\n",
              "</table>\n",
              "<p>312821 rows × 4 columns</p>\n",
              "</div>"
            ],
            "text/plain": [
              "                                                   tweets  ...     Label\n",
              "0       rejected sports 2020 olympics include bowling ...  ...   neutral\n",
              "1       team usa men basketball team playing horrible ...  ...  negative\n",
              "2       myhiveaway im watching kayaking olympics broad...  ...  positive\n",
              "3       girls age still trying figuring open account o...  ...  positive\n",
              "4                      omensfromeden patty mills olympics  ...   neutral\n",
              "...                                                   ...  ...       ...\n",
              "312820                  artistic swimming unreal olympics  ...  positive\n",
              "312821  fzaq6zcw8avobp5 noormehrjavan olympics worldka...  ...   neutral\n",
              "312822  finally someone said ashutosh difference pseud...  ...  positive\n",
              "312823  hnonoo75 olympics bahrainolympic congratulatio...  ...   neutral\n",
              "312824  champian billion hearts today neerajchopra1 at...  ...   neutral\n",
              "\n",
              "[312821 rows x 4 columns]"
            ]
          },
          "metadata": {},
          "execution_count": 109
        }
      ]
    },
    {
      "cell_type": "markdown",
      "metadata": {
        "id": "0PdKsuVP1sem"
      },
      "source": [
        "Membuat features Label yang valuesnya adalah klasifikasi tweets Negative, Neutral, dan Positive "
      ]
    },
    {
      "cell_type": "markdown",
      "metadata": {
        "id": "6NsD5-HqZBIO"
      },
      "source": [
        "# Exploratory Data Analysis"
      ]
    },
    {
      "cell_type": "markdown",
      "metadata": {
        "id": "QEVJ_DyUZBIO"
      },
      "source": [
        "#### Melakukan visualisasi word cloud"
      ]
    },
    {
      "cell_type": "code",
      "metadata": {
        "colab": {
          "base_uri": "https://localhost:8080/",
          "height": 286
        },
        "id": "xZPuoMh1ZBIO",
        "outputId": "2c800260-8f97-49ed-c3e4-82f1f8d830f5"
      },
      "source": [
        "allWords = ' '.join([twts for twts in dataset['tweets']])\n",
        "WordCloud = WordCloud(width=1000, height=800, random_state=20, max_font_size= 119).generate(allWords)\n",
        "\n",
        "plt.imshow(WordCloud, interpolation='bilinear')"
      ],
      "execution_count": 110,
      "outputs": [
        {
          "output_type": "execute_result",
          "data": {
            "text/plain": [
              "<matplotlib.image.AxesImage at 0x7efb90547b10>"
            ]
          },
          "metadata": {},
          "execution_count": 110
        },
        {
          "output_type": "display_data",
          "data": {
            "image/png": "[encoded data removed]",
            "text/plain": [
              "<Figure size 432x288 with 1 Axes>"
            ]
          },
          "metadata": {
            "needs_background": "light"
          }
        }
      ]
    },
    {
      "cell_type": "markdown",
      "metadata": {
        "id": "InmXr8fh1sen"
      },
      "source": [
        "Dari visualisasi terlihat bahwa kata 'Tokyo' dan 'Olympic' adalah kata yang sering muncul"
      ]
    },
    {
      "cell_type": "markdown",
      "metadata": {
        "id": "FtDv2y77GE-D"
      },
      "source": [
        "#### Persentase Positive tweets"
      ]
    },
    {
      "cell_type": "code",
      "metadata": {
        "colab": {
          "base_uri": "https://localhost:8080/",
          "height": 299
        },
        "id": "eNXDAgjr790-",
        "outputId": "1a278538-820a-4874-eda0-1cce07b36ceb"
      },
      "source": [
        "dataset.Label.value_counts().plot(kind='bar');"
      ],
      "execution_count": 111,
      "outputs": [
        {
          "output_type": "display_data",
          "data": {
            "image/png": "[encoded data removed]",
            "text/plain": [
              "<Figure size 432x288 with 1 Axes>"
            ]
          },
          "metadata": {
            "needs_background": "light"
          }
        }
      ]
    },
    {
      "cell_type": "code",
      "metadata": {
        "colab": {
          "base_uri": "https://localhost:8080/"
        },
        "id": "OxYz2SeiGEc0",
        "outputId": "671a0611-be12-4c46-a4c0-01b8fe8bb502"
      },
      "source": [
        "positive_tweet = dataset[dataset.Label == 'positive']['tweets']\n",
        "neutral_tweet = dataset[dataset.Label == 'neutral']['tweets']\n",
        "negative_tweet = dataset[dataset.Label == 'negative']['tweets']\n",
        "print('Persentase Positive tweets = ',round((positive_tweet.shape[0] / dataset.shape[0])*100 ,2))\n",
        "print('Persentase Neutral tweets = ',round((neutral_tweet.shape[0] / dataset.shape[0])*100 ,2))\n",
        "print('Persentase Negative tweets = ',round((negative_tweet.shape[0] / dataset.shape[0])*100 ,2))"
      ],
      "execution_count": 112,
      "outputs": [
        {
          "output_type": "stream",
          "name": "stdout",
          "text": [
            "Persentase Positive tweets =  40.56\n",
            "Persentase Neutral tweets =  46.04\n",
            "Persentase Negative tweets =  13.4\n"
          ]
        }
      ]
    },
    {
      "cell_type": "markdown",
      "metadata": {
        "id": "RNxlR8fwG4Js"
      },
      "source": [
        "#### Melihat Label tweets positive, neutral, dan negative"
      ]
    },
    {
      "cell_type": "code",
      "metadata": {
        "colab": {
          "base_uri": "https://localhost:8080/"
        },
        "id": "xHqAFoxXGz6H",
        "outputId": "87da5c78-6b72-4c69-a89d-2fdaba1e2f4d"
      },
      "source": [
        "random_index = random.randint(0, len(dataset)-5)\n",
        "\n",
        "for row in dataset[[\"tweets\", \"Label\"]][random_index:random_index+5].itertuples():\n",
        "  _, text, target = row\n",
        "  if target == \"positive\":\n",
        "    print(f\"Target: {target} (positive)\")\n",
        "  elif target == \"neutral\":\n",
        "    print(f\"Target: {target} (neutral)\")\n",
        "  else:\n",
        "    print(f\"Target: {target} (negative)\")\n",
        "  print(f\"Text:\\n{text}\\n\")\n",
        "  print(\"---\\n\")"
      ],
      "execution_count": 113,
      "outputs": [
        {
          "output_type": "stream",
          "name": "stdout",
          "text": [
            "Target: neutral (neutral)\n",
            "Text:\n",
            "geraint thomas saw wheels come tour de france tokyo olympics hes contr…\n",
            "\n",
            "---\n",
            "\n",
            "Target: neutral (neutral)\n",
            "Text:\n",
            "case missed simonebiles still struggling tokyo 2020 event finals horizon…\n",
            "\n",
            "---\n",
            "\n",
            "Target: positive (positive)\n",
            "Text:\n",
            "imagine comments media nadal couldnt win gold medal olympics held clay\n",
            "\n",
            "---\n",
            "\n",
            "Target: neutral (neutral)\n",
            "Text:\n",
            "gonna go cry equalise gbrvaus wearematildas olympics\n",
            "\n",
            "---\n",
            "\n",
            "Target: neutral (neutral)\n",
            "Text:\n",
            "fridays show russellwestbrook lakeshow yankees rizzoforever nbadraft2021 olympics sunileegold usa…\n",
            "\n",
            "---\n",
            "\n"
          ]
        }
      ]
    },
    {
      "cell_type": "markdown",
      "metadata": {
        "id": "lb22ZKM14n82"
      },
      "source": [
        "# Feature Engineering"
      ]
    },
    {
      "cell_type": "markdown",
      "metadata": {
        "id": "XpaLRVZD7lV_"
      },
      "source": [
        "#### Mengubah Categorical menjadi numerical pada features Label"
      ]
    },
    {
      "cell_type": "code",
      "metadata": {
        "colab": {
          "base_uri": "https://localhost:8080/"
        },
        "id": "aqLWSZc_7mfd",
        "outputId": "962ce361-49d3-43dc-d24b-8f984bf230fb"
      },
      "source": [
        "label_mapping = { k: i for i, k in enumerate(dataset['Label'].unique(), 0)}\n",
        "label_mapping"
      ],
      "execution_count": 114,
      "outputs": [
        {
          "output_type": "execute_result",
          "data": {
            "text/plain": [
              "{'negative': 1, 'neutral': 0, 'positive': 2}"
            ]
          },
          "metadata": {},
          "execution_count": 114
        }
      ]
    },
    {
      "cell_type": "code",
      "metadata": {
        "id": "kwjMmWsG7msy"
      },
      "source": [
        "dataset['Label'] = dataset['Label'].map(label_mapping)"
      ],
      "execution_count": 115,
      "outputs": []
    },
    {
      "cell_type": "code",
      "metadata": {
        "colab": {
          "base_uri": "https://localhost:8080/",
          "height": 0
        },
        "id": "A4sPtJqV7m0a",
        "outputId": "62e0da93-9436-408b-df21-7b0f45053d5c"
      },
      "source": [
        "dataset"
      ],
      "execution_count": 116,
      "outputs": [
        {
          "output_type": "execute_result",
          "data": {
            "text/html": [
              "<div>\n",
              "<style scoped>\n",
              "    .dataframe tbody tr th:only-of-type {\n",
              "        vertical-align: middle;\n",
              "    }\n",
              "\n",
              "    .dataframe tbody tr th {\n",
              "        vertical-align: top;\n",
              "    }\n",
              "\n",
              "    .dataframe thead th {\n",
              "        text-align: right;\n",
              "    }\n",
              "</style>\n",
              "<table border=\"1\" class=\"dataframe\">\n",
              "  <thead>\n",
              "    <tr style=\"text-align: right;\">\n",
              "      <th></th>\n",
              "      <th>tweets</th>\n",
              "      <th>Subjectivity</th>\n",
              "      <th>Polarity</th>\n",
              "      <th>Label</th>\n",
              "    </tr>\n",
              "  </thead>\n",
              "  <tbody>\n",
              "    <tr>\n",
              "      <th>0</th>\n",
              "      <td>rejected sports 2020 olympics include bowling ...</td>\n",
              "      <td>0.000000</td>\n",
              "      <td>0.000000</td>\n",
              "      <td>0</td>\n",
              "    </tr>\n",
              "    <tr>\n",
              "      <th>1</th>\n",
              "      <td>team usa men basketball team playing horrible ...</td>\n",
              "      <td>1.000000</td>\n",
              "      <td>-0.450000</td>\n",
              "      <td>1</td>\n",
              "    </tr>\n",
              "    <tr>\n",
              "      <th>2</th>\n",
              "      <td>myhiveaway im watching kayaking olympics broad...</td>\n",
              "      <td>0.575000</td>\n",
              "      <td>0.375000</td>\n",
              "      <td>2</td>\n",
              "    </tr>\n",
              "    <tr>\n",
              "      <th>3</th>\n",
              "      <td>girls age still trying figuring open account o...</td>\n",
              "      <td>0.350000</td>\n",
              "      <td>0.050000</td>\n",
              "      <td>2</td>\n",
              "    </tr>\n",
              "    <tr>\n",
              "      <th>4</th>\n",
              "      <td>omensfromeden patty mills olympics</td>\n",
              "      <td>0.000000</td>\n",
              "      <td>0.000000</td>\n",
              "      <td>0</td>\n",
              "    </tr>\n",
              "    <tr>\n",
              "      <th>...</th>\n",
              "      <td>...</td>\n",
              "      <td>...</td>\n",
              "      <td>...</td>\n",
              "      <td>...</td>\n",
              "    </tr>\n",
              "    <tr>\n",
              "      <th>312820</th>\n",
              "      <td>artistic swimming unreal olympics</td>\n",
              "      <td>1.000000</td>\n",
              "      <td>0.333333</td>\n",
              "      <td>2</td>\n",
              "    </tr>\n",
              "    <tr>\n",
              "      <th>312821</th>\n",
              "      <td>fzaq6zcw8avobp5 noormehrjavan olympics worldka...</td>\n",
              "      <td>0.000000</td>\n",
              "      <td>0.000000</td>\n",
              "      <td>0</td>\n",
              "    </tr>\n",
              "    <tr>\n",
              "      <th>312822</th>\n",
              "      <td>finally someone said ashutosh difference pseud...</td>\n",
              "      <td>0.533333</td>\n",
              "      <td>0.133333</td>\n",
              "      <td>2</td>\n",
              "    </tr>\n",
              "    <tr>\n",
              "      <th>312823</th>\n",
              "      <td>hnonoo75 olympics bahrainolympic congratulatio...</td>\n",
              "      <td>0.000000</td>\n",
              "      <td>0.000000</td>\n",
              "      <td>0</td>\n",
              "    </tr>\n",
              "    <tr>\n",
              "      <th>312824</th>\n",
              "      <td>champian billion hearts today neerajchopra1 at...</td>\n",
              "      <td>0.000000</td>\n",
              "      <td>0.000000</td>\n",
              "      <td>0</td>\n",
              "    </tr>\n",
              "  </tbody>\n",
              "</table>\n",
              "<p>312821 rows × 4 columns</p>\n",
              "</div>"
            ],
            "text/plain": [
              "                                                   tweets  ...  Label\n",
              "0       rejected sports 2020 olympics include bowling ...  ...      0\n",
              "1       team usa men basketball team playing horrible ...  ...      1\n",
              "2       myhiveaway im watching kayaking olympics broad...  ...      2\n",
              "3       girls age still trying figuring open account o...  ...      2\n",
              "4                      omensfromeden patty mills olympics  ...      0\n",
              "...                                                   ...  ...    ...\n",
              "312820                  artistic swimming unreal olympics  ...      2\n",
              "312821  fzaq6zcw8avobp5 noormehrjavan olympics worldka...  ...      0\n",
              "312822  finally someone said ashutosh difference pseud...  ...      2\n",
              "312823  hnonoo75 olympics bahrainolympic congratulatio...  ...      0\n",
              "312824  champian billion hearts today neerajchopra1 at...  ...      0\n",
              "\n",
              "[312821 rows x 4 columns]"
            ]
          },
          "metadata": {},
          "execution_count": 116
        }
      ]
    },
    {
      "cell_type": "code",
      "metadata": {
        "id": "u9aHyxPlEgbm"
      },
      "source": [
        "train_dataset, test_dataset = train_test_split(dataset, test_size=0.10)"
      ],
      "execution_count": 117,
      "outputs": []
    },
    {
      "cell_type": "markdown",
      "metadata": {
        "id": "Ly-ewFQK1seq"
      },
      "source": [
        "untuk menghindari adanya kemungkinan kebocoran data sehingga kita perlu membagi data terlebih dahulu dan kemudian menerapkan fitur engineering"
      ]
    },
    {
      "cell_type": "code",
      "metadata": {
        "colab": {
          "base_uri": "https://localhost:8080/"
        },
        "id": "2KJ8wArxTd-8",
        "outputId": "5eafc95f-26ed-4a44-e109-65629a323b13"
      },
      "source": [
        "print(f\"Total training samples: {len(train_dataset)}\")\n",
        "print(f\"Total test samples: {len(test_dataset)}\")\n",
        "print(f\"Total samples: {len(train_dataset) + len(test_dataset)}\")"
      ],
      "execution_count": 118,
      "outputs": [
        {
          "output_type": "stream",
          "name": "stdout",
          "text": [
            "Total training samples: 281538\n",
            "Total test samples: 31283\n",
            "Total samples: 312821\n"
          ]
        }
      ]
    },
    {
      "cell_type": "code",
      "metadata": {
        "colab": {
          "base_uri": "https://localhost:8080/",
          "height": 0
        },
        "id": "xcvPSNi7U-kF",
        "outputId": "bd801eee-4794-4360-ae35-14cb044eb9d9"
      },
      "source": [
        "train_dataset"
      ],
      "execution_count": 119,
      "outputs": [
        {
          "output_type": "execute_result",
          "data": {
            "text/html": [
              "<div>\n",
              "<style scoped>\n",
              "    .dataframe tbody tr th:only-of-type {\n",
              "        vertical-align: middle;\n",
              "    }\n",
              "\n",
              "    .dataframe tbody tr th {\n",
              "        vertical-align: top;\n",
              "    }\n",
              "\n",
              "    .dataframe thead th {\n",
              "        text-align: right;\n",
              "    }\n",
              "</style>\n",
              "<table border=\"1\" class=\"dataframe\">\n",
              "  <thead>\n",
              "    <tr style=\"text-align: right;\">\n",
              "      <th></th>\n",
              "      <th>tweets</th>\n",
              "      <th>Subjectivity</th>\n",
              "      <th>Polarity</th>\n",
              "      <th>Label</th>\n",
              "    </tr>\n",
              "  </thead>\n",
              "  <tbody>\n",
              "    <tr>\n",
              "      <th>30078</th>\n",
              "      <td>dis bull sign olympics</td>\n",
              "      <td>0.000000</td>\n",
              "      <td>0.000</td>\n",
              "      <td>0</td>\n",
              "    </tr>\n",
              "    <tr>\n",
              "      <th>65533</th>\n",
              "      <td>bruh guys swimming thru sewage water national ...</td>\n",
              "      <td>0.000000</td>\n",
              "      <td>0.000</td>\n",
              "      <td>0</td>\n",
              "    </tr>\n",
              "    <tr>\n",
              "      <th>256838</th>\n",
              "      <td>adegoke moving 100m heat heh olympics</td>\n",
              "      <td>0.000000</td>\n",
              "      <td>0.000</td>\n",
              "      <td>0</td>\n",
              "    </tr>\n",
              "    <tr>\n",
              "      <th>63920</th>\n",
              "      <td>deserves nowhere near competitive anything let...</td>\n",
              "      <td>0.400000</td>\n",
              "      <td>0.100</td>\n",
              "      <td>2</td>\n",
              "    </tr>\n",
              "    <tr>\n",
              "      <th>77132</th>\n",
              "      <td>jadecarey018 robbed cheated excellent job stuc...</td>\n",
              "      <td>1.000000</td>\n",
              "      <td>1.000</td>\n",
              "      <td>2</td>\n",
              "    </tr>\n",
              "    <tr>\n",
              "      <th>...</th>\n",
              "      <td>...</td>\n",
              "      <td>...</td>\n",
              "      <td>...</td>\n",
              "      <td>...</td>\n",
              "    </tr>\n",
              "    <tr>\n",
              "      <th>256537</th>\n",
              "      <td>athieng mu nyan deng lemon nyan aluel south su...</td>\n",
              "      <td>1.000000</td>\n",
              "      <td>0.800</td>\n",
              "      <td>2</td>\n",
              "    </tr>\n",
              "    <tr>\n",
              "      <th>119106</th>\n",
              "      <td>olympics worldrugby7s obvoius🤸🤸fiji give newzz...</td>\n",
              "      <td>0.000000</td>\n",
              "      <td>0.000</td>\n",
              "      <td>0</td>\n",
              "    </tr>\n",
              "    <tr>\n",
              "      <th>271146</th>\n",
              "      <td>sweeeeep di tingsssss 🥇🥈🥉 jamaica teamjamaica ...</td>\n",
              "      <td>0.000000</td>\n",
              "      <td>0.000</td>\n",
              "      <td>0</td>\n",
              "    </tr>\n",
              "    <tr>\n",
              "      <th>193681</th>\n",
              "      <td>sindhu draws first blood takes first game comf...</td>\n",
              "      <td>0.466667</td>\n",
              "      <td>0.125</td>\n",
              "      <td>2</td>\n",
              "    </tr>\n",
              "    <tr>\n",
              "      <th>1146</th>\n",
              "      <td>boy gujranwala represented country brave heart...</td>\n",
              "      <td>0.875000</td>\n",
              "      <td>0.800</td>\n",
              "      <td>2</td>\n",
              "    </tr>\n",
              "  </tbody>\n",
              "</table>\n",
              "<p>281538 rows × 4 columns</p>\n",
              "</div>"
            ],
            "text/plain": [
              "                                                   tweets  ...  Label\n",
              "30078                              dis bull sign olympics  ...      0\n",
              "65533   bruh guys swimming thru sewage water national ...  ...      0\n",
              "256838              adegoke moving 100m heat heh olympics  ...      0\n",
              "63920   deserves nowhere near competitive anything let...  ...      2\n",
              "77132   jadecarey018 robbed cheated excellent job stuc...  ...      2\n",
              "...                                                   ...  ...    ...\n",
              "256537  athieng mu nyan deng lemon nyan aluel south su...  ...      2\n",
              "119106  olympics worldrugby7s obvoius🤸🤸fiji give newzz...  ...      0\n",
              "271146  sweeeeep di tingsssss 🥇🥈🥉 jamaica teamjamaica ...  ...      0\n",
              "193681  sindhu draws first blood takes first game comf...  ...      2\n",
              "1146    boy gujranwala represented country brave heart...  ...      2\n",
              "\n",
              "[281538 rows x 4 columns]"
            ]
          },
          "metadata": {},
          "execution_count": 119
        }
      ]
    },
    {
      "cell_type": "code",
      "metadata": {
        "colab": {
          "base_uri": "https://localhost:8080/",
          "height": 0
        },
        "id": "yL1vkqOyxpgd",
        "outputId": "aae296a8-a5ac-4950-f81a-a55e56a29565"
      },
      "source": [
        "test_dataset"
      ],
      "execution_count": 120,
      "outputs": [
        {
          "output_type": "execute_result",
          "data": {
            "text/html": [
              "<div>\n",
              "<style scoped>\n",
              "    .dataframe tbody tr th:only-of-type {\n",
              "        vertical-align: middle;\n",
              "    }\n",
              "\n",
              "    .dataframe tbody tr th {\n",
              "        vertical-align: top;\n",
              "    }\n",
              "\n",
              "    .dataframe thead th {\n",
              "        text-align: right;\n",
              "    }\n",
              "</style>\n",
              "<table border=\"1\" class=\"dataframe\">\n",
              "  <thead>\n",
              "    <tr style=\"text-align: right;\">\n",
              "      <th></th>\n",
              "      <th>tweets</th>\n",
              "      <th>Subjectivity</th>\n",
              "      <th>Polarity</th>\n",
              "      <th>Label</th>\n",
              "    </tr>\n",
              "  </thead>\n",
              "  <tbody>\n",
              "    <tr>\n",
              "      <th>20615</th>\n",
              "      <td>olympics streaming bts world tracks</td>\n",
              "      <td>0.000000</td>\n",
              "      <td>0.000000</td>\n",
              "      <td>0</td>\n",
              "    </tr>\n",
              "    <tr>\n",
              "      <th>5420</th>\n",
              "      <td>toeonfronthalf thinking l10 turned elite vault...</td>\n",
              "      <td>0.000000</td>\n",
              "      <td>0.000000</td>\n",
              "      <td>0</td>\n",
              "    </tr>\n",
              "    <tr>\n",
              "      <th>286364</th>\n",
              "      <td>billionaire foreign planet ever lands earth ta...</td>\n",
              "      <td>0.125000</td>\n",
              "      <td>-0.125000</td>\n",
              "      <td>1</td>\n",
              "    </tr>\n",
              "    <tr>\n",
              "      <th>78541</th>\n",
              "      <td>people say sex mental construct amp trans athl...</td>\n",
              "      <td>0.516667</td>\n",
              "      <td>0.200000</td>\n",
              "      <td>2</td>\n",
              "    </tr>\n",
              "    <tr>\n",
              "      <th>179081</th>\n",
              "      <td>childhood memories olympics coincided successe...</td>\n",
              "      <td>0.000000</td>\n",
              "      <td>0.000000</td>\n",
              "      <td>0</td>\n",
              "    </tr>\n",
              "    <tr>\n",
              "      <th>...</th>\n",
              "      <td>...</td>\n",
              "      <td>...</td>\n",
              "      <td>...</td>\n",
              "      <td>...</td>\n",
              "    </tr>\n",
              "    <tr>\n",
              "      <th>255591</th>\n",
              "      <td>gravity calling baseball loss confidence known...</td>\n",
              "      <td>0.500000</td>\n",
              "      <td>0.000000</td>\n",
              "      <td>0</td>\n",
              "    </tr>\n",
              "    <tr>\n",
              "      <th>109153</th>\n",
              "      <td>i’m excited nervous watch event tokyo2020 olym...</td>\n",
              "      <td>0.750000</td>\n",
              "      <td>0.375000</td>\n",
              "      <td>2</td>\n",
              "    </tr>\n",
              "    <tr>\n",
              "      <th>84426</th>\n",
              "      <td>ps2sday im sharing recent pick athens 2004 fol...</td>\n",
              "      <td>0.175000</td>\n",
              "      <td>0.000000</td>\n",
              "      <td>0</td>\n",
              "    </tr>\n",
              "    <tr>\n",
              "      <th>184844</th>\n",
              "      <td>strength determination fijiana team far bloody...</td>\n",
              "      <td>0.966667</td>\n",
              "      <td>-0.066667</td>\n",
              "      <td>1</td>\n",
              "    </tr>\n",
              "    <tr>\n",
              "      <th>239766</th>\n",
              "      <td>shouldnt fall mbalulafikile invest sports twee...</td>\n",
              "      <td>0.000000</td>\n",
              "      <td>0.000000</td>\n",
              "      <td>0</td>\n",
              "    </tr>\n",
              "  </tbody>\n",
              "</table>\n",
              "<p>31283 rows × 4 columns</p>\n",
              "</div>"
            ],
            "text/plain": [
              "                                                   tweets  ...  Label\n",
              "20615                 olympics streaming bts world tracks  ...      0\n",
              "5420    toeonfronthalf thinking l10 turned elite vault...  ...      0\n",
              "286364  billionaire foreign planet ever lands earth ta...  ...      1\n",
              "78541   people say sex mental construct amp trans athl...  ...      2\n",
              "179081  childhood memories olympics coincided successe...  ...      0\n",
              "...                                                   ...  ...    ...\n",
              "255591  gravity calling baseball loss confidence known...  ...      0\n",
              "109153  i’m excited nervous watch event tokyo2020 olym...  ...      2\n",
              "84426   ps2sday im sharing recent pick athens 2004 fol...  ...      0\n",
              "184844  strength determination fijiana team far bloody...  ...      1\n",
              "239766  shouldnt fall mbalulafikile invest sports twee...  ...      0\n",
              "\n",
              "[31283 rows x 4 columns]"
            ]
          },
          "metadata": {},
          "execution_count": 120
        }
      ]
    },
    {
      "cell_type": "markdown",
      "metadata": {
        "id": "HtEqSy5o4n84"
      },
      "source": [
        "### Data Preprocessing"
      ]
    },
    {
      "cell_type": "markdown",
      "metadata": {
        "id": "WfNTcjmzUrgj"
      },
      "source": [
        "#### Menyiapkan target"
      ]
    },
    {
      "cell_type": "code",
      "metadata": {
        "id": "rjLeQEtPUtte"
      },
      "source": [
        "X_train, y_train = train_dataset.tweets, train_dataset.Label\n",
        "X_test, y_test = test_dataset.tweets, test_dataset.Label"
      ],
      "execution_count": 121,
      "outputs": []
    },
    {
      "cell_type": "code",
      "metadata": {
        "id": "nbdh3r14uvhq"
      },
      "source": [
        "def prepare_targets(y_train, y_test):\n",
        "    y_train_enc = to_categorical(y_train)\n",
        "    y_test_enc = to_categorical(y_test)\n",
        "    return y_train_enc, y_test_enc\n",
        "\n",
        "y_train, y_test = prepare_targets(y_train, y_test)"
      ],
      "execution_count": 122,
      "outputs": []
    },
    {
      "cell_type": "code",
      "metadata": {
        "colab": {
          "base_uri": "https://localhost:8080/"
        },
        "id": "J3eJMiyZyTE4",
        "outputId": "b6608238-fc77-4359-cd64-f86f21da4e62"
      },
      "source": [
        "y_train"
      ],
      "execution_count": 123,
      "outputs": [
        {
          "output_type": "execute_result",
          "data": {
            "text/plain": [
              "array([[1., 0., 0.],\n",
              "       [1., 0., 0.],\n",
              "       [1., 0., 0.],\n",
              "       ...,\n",
              "       [1., 0., 0.],\n",
              "       [0., 0., 1.],\n",
              "       [0., 0., 1.]], dtype=float32)"
            ]
          },
          "metadata": {},
          "execution_count": 123
        }
      ]
    },
    {
      "cell_type": "markdown",
      "metadata": {
        "id": "M-emo-gbVPmu"
      },
      "source": [
        "#### Melakukan Split data"
      ]
    },
    {
      "cell_type": "code",
      "metadata": {
        "id": "o_e5uZmmVTyB"
      },
      "source": [
        "train_sentences, val_sentences, train_labels, val_labels = train_test_split(X_train.to_numpy(),\n",
        "                                                                            y_train,\n",
        "                                                                            test_size=0.2,\n",
        "                                                                            random_state=42)"
      ],
      "execution_count": 124,
      "outputs": []
    },
    {
      "cell_type": "markdown",
      "metadata": {
        "id": "8pD9nFvz1sew"
      },
      "source": [
        "#### Pipeline"
      ]
    },
    {
      "cell_type": "markdown",
      "metadata": {
        "id": "qpGOuBKl1sex"
      },
      "source": [
        "#### Membangun Pipeline"
      ]
    },
    {
      "cell_type": "code",
      "metadata": {
        "id": "i3nbnUfX1sex"
      },
      "source": [
        "# Where to save the figures\n",
        "PROJECT_ROOT_DIR = \".\"\n",
        "CHAPTER_ID = \"data\"\n",
        "IMAGES_PATH = os.path.join(PROJECT_ROOT_DIR, \"images\", CHAPTER_ID)\n",
        "os.makedirs(IMAGES_PATH, exist_ok=True)\n",
        "\n",
        "def save_fig(fig_id, tight_layout=True, fig_extension=\"png\", resolution=300):\n",
        "    path = os.path.join(IMAGES_PATH, fig_id + \".\" + fig_extension)\n",
        "    print(\"Saving figure\", fig_id)\n",
        "    if tight_layout:\n",
        "        plt.tight_layout()\n",
        "    plt.savefig(path, format=fig_extension, dpi=resolution)"
      ],
      "execution_count": 125,
      "outputs": []
    },
    {
      "cell_type": "code",
      "metadata": {
        "id": "nmgG_a6o1sex"
      },
      "source": [
        "def save_to_multiple_csv_files(data, name_prefix, header=None, n_parts=10):\n",
        "    churn_dir = os.path.join(\"datasets\", \"tweets\")\n",
        "    os.makedirs(churn_dir, exist_ok=True)\n",
        "    path_format = os.path.join(churn_dir, \"my_{}_{:02d}.csv\")\n",
        "\n",
        "    filepaths = []\n",
        "    m = len(data)\n",
        "    for file_idx, row_indices in enumerate(np.array_split(np.arange(m), n_parts)):\n",
        "        part_csv = path_format.format(name_prefix, file_idx)\n",
        "        filepaths.append(part_csv)\n",
        "        with open(part_csv, \"wt\", encoding=\"utf-8\") as f:\n",
        "            if header is not None:\n",
        "                f.write(header)\n",
        "                f.write(\"\\n\")\n",
        "            for row_idx in row_indices:\n",
        "                f.write(\",\".join([repr(col) for col in data[row_idx]]))\n",
        "                f.write(\"\\n\")\n",
        "    return filepaths"
      ],
      "execution_count": 126,
      "outputs": []
    },
    {
      "cell_type": "code",
      "metadata": {
        "id": "VLdhkWev1sey"
      },
      "source": [
        "train_data = np.c_[train_sentences, train_labels]\n",
        "valid_data = np.c_[val_sentences, val_labels]\n",
        "header_cols = dataset.columns \n",
        "header = \",\".join(header_cols)"
      ],
      "execution_count": 127,
      "outputs": []
    },
    {
      "cell_type": "code",
      "metadata": {
        "id": "0iO9sft21sez"
      },
      "source": [
        "train_filepaths = save_to_multiple_csv_files(train_data, \"train\", header, n_parts=20)\n",
        "valid_filepaths = save_to_multiple_csv_files(valid_data, \"valid\", header, n_parts=10)"
      ],
      "execution_count": 128,
      "outputs": []
    },
    {
      "cell_type": "markdown",
      "metadata": {
        "id": "7VvJ3q-51sez"
      },
      "source": [
        "### Train dataset"
      ]
    },
    {
      "cell_type": "code",
      "metadata": {
        "colab": {
          "base_uri": "https://localhost:8080/",
          "height": 0
        },
        "id": "SS-BLDsv1sez",
        "outputId": "422d0ba6-aabc-400e-8e46-7a4e28685e76"
      },
      "source": [
        "pd.read_csv(train_filepaths[0]).head()"
      ],
      "execution_count": 129,
      "outputs": [
        {
          "output_type": "execute_result",
          "data": {
            "text/html": [
              "<div>\n",
              "<style scoped>\n",
              "    .dataframe tbody tr th:only-of-type {\n",
              "        vertical-align: middle;\n",
              "    }\n",
              "\n",
              "    .dataframe tbody tr th {\n",
              "        vertical-align: top;\n",
              "    }\n",
              "\n",
              "    .dataframe thead th {\n",
              "        text-align: right;\n",
              "    }\n",
              "</style>\n",
              "<table border=\"1\" class=\"dataframe\">\n",
              "  <thead>\n",
              "    <tr style=\"text-align: right;\">\n",
              "      <th></th>\n",
              "      <th>tweets</th>\n",
              "      <th>Subjectivity</th>\n",
              "      <th>Polarity</th>\n",
              "      <th>Label</th>\n",
              "    </tr>\n",
              "  </thead>\n",
              "  <tbody>\n",
              "    <tr>\n",
              "      <th>0</th>\n",
              "      <td>'usa vs czech republic score results kevin dur...</td>\n",
              "      <td>1.0</td>\n",
              "      <td>0.0</td>\n",
              "      <td>0.0</td>\n",
              "    </tr>\n",
              "    <tr>\n",
              "      <th>1</th>\n",
              "      <td>'daily tokyo olympics 2020 recap team canada w...</td>\n",
              "      <td>0.0</td>\n",
              "      <td>0.0</td>\n",
              "      <td>1.0</td>\n",
              "    </tr>\n",
              "    <tr>\n",
              "      <th>2</th>\n",
              "      <td>'sonjamclaughlan four qfs package best hour wo...</td>\n",
              "      <td>0.0</td>\n",
              "      <td>0.0</td>\n",
              "      <td>1.0</td>\n",
              "    </tr>\n",
              "    <tr>\n",
              "      <th>3</th>\n",
              "      <td>'post edited kansas city tunes olympics'</td>\n",
              "      <td>1.0</td>\n",
              "      <td>0.0</td>\n",
              "      <td>0.0</td>\n",
              "    </tr>\n",
              "    <tr>\n",
              "      <th>4</th>\n",
              "      <td>'honestly don’t see folks tripping simonebiles...</td>\n",
              "      <td>0.0</td>\n",
              "      <td>0.0</td>\n",
              "      <td>1.0</td>\n",
              "    </tr>\n",
              "  </tbody>\n",
              "</table>\n",
              "</div>"
            ],
            "text/plain": [
              "                                              tweets  ...  Label\n",
              "0  'usa vs czech republic score results kevin dur...  ...    0.0\n",
              "1  'daily tokyo olympics 2020 recap team canada w...  ...    1.0\n",
              "2  'sonjamclaughlan four qfs package best hour wo...  ...    1.0\n",
              "3           'post edited kansas city tunes olympics'  ...    0.0\n",
              "4  'honestly don’t see folks tripping simonebiles...  ...    1.0\n",
              "\n",
              "[5 rows x 4 columns]"
            ]
          },
          "metadata": {},
          "execution_count": 129
        }
      ]
    },
    {
      "cell_type": "code",
      "metadata": {
        "colab": {
          "base_uri": "https://localhost:8080/"
        },
        "id": "IeT8aADf1sez",
        "outputId": "4f93f5ee-8e9f-4d6e-9295-331ac06a21a4"
      },
      "source": [
        "os.path.getsize(train_filepaths[0])"
      ],
      "execution_count": 130,
      "outputs": [
        {
          "output_type": "execute_result",
          "data": {
            "text/plain": [
              "968801"
            ]
          },
          "metadata": {},
          "execution_count": 130
        }
      ]
    },
    {
      "cell_type": "code",
      "metadata": {
        "id": "tVyeIw721se1"
      },
      "source": [
        "train_folder=('/').join(re.search('(.*)/(.*)/(.*)',train_filepaths[0], re.IGNORECASE).group(1,2))"
      ],
      "execution_count": 131,
      "outputs": []
    },
    {
      "cell_type": "code",
      "metadata": {
        "colab": {
          "base_uri": "https://localhost:8080/",
          "height": 0
        },
        "id": "JjDSAYrc1se2",
        "outputId": "5abeb4e4-d520-4b71-cbe8-e7d8ca2c4459"
      },
      "source": [
        "print(train_filepaths[0])\n",
        "train_folder"
      ],
      "execution_count": 132,
      "outputs": [
        {
          "output_type": "stream",
          "name": "stdout",
          "text": [
            "datasets/tweets/my_train_00.csv\n"
          ]
        },
        {
          "output_type": "execute_result",
          "data": {
            "application/vnd.google.colaboratory.intrinsic+json": {
              "type": "string"
            },
            "text/plain": [
              "'datasets/tweets'"
            ]
          },
          "metadata": {},
          "execution_count": 132
        }
      ]
    },
    {
      "cell_type": "code",
      "metadata": {
        "id": "kQ3aMYw41se3"
      },
      "source": [
        "full_csv = train_folder+'/full_train.csv'\n",
        "with open(full_csv, \"wt\", encoding=\"utf-8\") as f:\n",
        "    if header is not None:\n",
        "        f.write(header)\n",
        "        f.write(\"\\n\")\n",
        "    for row_idx in range(train_data.shape[0]):\n",
        "        f.write(\",\".join([repr(col) for col in train_data[row_idx]]))\n",
        "        f.write(\"\\n\")"
      ],
      "execution_count": 133,
      "outputs": []
    },
    {
      "cell_type": "code",
      "metadata": {
        "colab": {
          "base_uri": "https://localhost:8080/"
        },
        "id": "xrH4F4f51se6",
        "outputId": "0ef8234f-9bd9-4052-a565-b67fa34c9ad4"
      },
      "source": [
        "os.path.getsize(full_csv)"
      ],
      "execution_count": 134,
      "outputs": [
        {
          "output_type": "execute_result",
          "data": {
            "text/plain": [
              "19389835"
            ]
          },
          "metadata": {},
          "execution_count": 134
        }
      ]
    },
    {
      "cell_type": "code",
      "metadata": {
        "colab": {
          "base_uri": "https://localhost:8080/"
        },
        "id": "F3RkgNgw1se6",
        "outputId": "1159d8c2-ddd2-4d75-c07d-b6c52435d069"
      },
      "source": [
        "pd.read_csv(full_csv).shape"
      ],
      "execution_count": 135,
      "outputs": [
        {
          "output_type": "execute_result",
          "data": {
            "text/plain": [
              "(225230, 4)"
            ]
          },
          "metadata": {},
          "execution_count": 135
        }
      ]
    },
    {
      "cell_type": "code",
      "metadata": {
        "id": "TIgmElld1sfZ"
      },
      "source": [
        "train_data = pd.read_csv(full_csv)"
      ],
      "execution_count": 136,
      "outputs": []
    },
    {
      "cell_type": "code",
      "metadata": {
        "colab": {
          "base_uri": "https://localhost:8080/",
          "height": 0
        },
        "id": "o-f_2ry01sfZ",
        "outputId": "2e941ae4-535c-48ae-8388-4a712a1ba629"
      },
      "source": [
        "train_data"
      ],
      "execution_count": 137,
      "outputs": [
        {
          "output_type": "execute_result",
          "data": {
            "text/html": [
              "<div>\n",
              "<style scoped>\n",
              "    .dataframe tbody tr th:only-of-type {\n",
              "        vertical-align: middle;\n",
              "    }\n",
              "\n",
              "    .dataframe tbody tr th {\n",
              "        vertical-align: top;\n",
              "    }\n",
              "\n",
              "    .dataframe thead th {\n",
              "        text-align: right;\n",
              "    }\n",
              "</style>\n",
              "<table border=\"1\" class=\"dataframe\">\n",
              "  <thead>\n",
              "    <tr style=\"text-align: right;\">\n",
              "      <th></th>\n",
              "      <th>tweets</th>\n",
              "      <th>Subjectivity</th>\n",
              "      <th>Polarity</th>\n",
              "      <th>Label</th>\n",
              "    </tr>\n",
              "  </thead>\n",
              "  <tbody>\n",
              "    <tr>\n",
              "      <th>0</th>\n",
              "      <td>'usa vs czech republic score results kevin dur...</td>\n",
              "      <td>1.0</td>\n",
              "      <td>0.0</td>\n",
              "      <td>0.0</td>\n",
              "    </tr>\n",
              "    <tr>\n",
              "      <th>1</th>\n",
              "      <td>'daily tokyo olympics 2020 recap team canada w...</td>\n",
              "      <td>0.0</td>\n",
              "      <td>0.0</td>\n",
              "      <td>1.0</td>\n",
              "    </tr>\n",
              "    <tr>\n",
              "      <th>2</th>\n",
              "      <td>'sonjamclaughlan four qfs package best hour wo...</td>\n",
              "      <td>0.0</td>\n",
              "      <td>0.0</td>\n",
              "      <td>1.0</td>\n",
              "    </tr>\n",
              "    <tr>\n",
              "      <th>3</th>\n",
              "      <td>'post edited kansas city tunes olympics'</td>\n",
              "      <td>1.0</td>\n",
              "      <td>0.0</td>\n",
              "      <td>0.0</td>\n",
              "    </tr>\n",
              "    <tr>\n",
              "      <th>4</th>\n",
              "      <td>'honestly don’t see folks tripping simonebiles...</td>\n",
              "      <td>0.0</td>\n",
              "      <td>0.0</td>\n",
              "      <td>1.0</td>\n",
              "    </tr>\n",
              "    <tr>\n",
              "      <th>...</th>\n",
              "      <td>...</td>\n",
              "      <td>...</td>\n",
              "      <td>...</td>\n",
              "      <td>...</td>\n",
              "    </tr>\n",
              "    <tr>\n",
              "      <th>225225</th>\n",
              "      <td>'kiszla power couple olympics megan rapinoe su...</td>\n",
              "      <td>0.0</td>\n",
              "      <td>0.0</td>\n",
              "      <td>1.0</td>\n",
              "    </tr>\n",
              "    <tr>\n",
              "      <th>225226</th>\n",
              "      <td>'least olympics unites great britain people ac...</td>\n",
              "      <td>0.0</td>\n",
              "      <td>0.0</td>\n",
              "      <td>1.0</td>\n",
              "    </tr>\n",
              "    <tr>\n",
              "      <th>225227</th>\n",
              "      <td>'tmz meanblack power olympics joke year'</td>\n",
              "      <td>1.0</td>\n",
              "      <td>0.0</td>\n",
              "      <td>0.0</td>\n",
              "    </tr>\n",
              "    <tr>\n",
              "      <th>225228</th>\n",
              "      <td>'chelsea home jerseys available male female si...</td>\n",
              "      <td>0.0</td>\n",
              "      <td>0.0</td>\n",
              "      <td>1.0</td>\n",
              "    </tr>\n",
              "    <tr>\n",
              "      <th>225229</th>\n",
              "      <td>'watch olympics televisa tv azteca imagen tele...</td>\n",
              "      <td>1.0</td>\n",
              "      <td>0.0</td>\n",
              "      <td>0.0</td>\n",
              "    </tr>\n",
              "  </tbody>\n",
              "</table>\n",
              "<p>225230 rows × 4 columns</p>\n",
              "</div>"
            ],
            "text/plain": [
              "                                                   tweets  ...  Label\n",
              "0       'usa vs czech republic score results kevin dur...  ...    0.0\n",
              "1       'daily tokyo olympics 2020 recap team canada w...  ...    1.0\n",
              "2       'sonjamclaughlan four qfs package best hour wo...  ...    1.0\n",
              "3                'post edited kansas city tunes olympics'  ...    0.0\n",
              "4       'honestly don’t see folks tripping simonebiles...  ...    1.0\n",
              "...                                                   ...  ...    ...\n",
              "225225  'kiszla power couple olympics megan rapinoe su...  ...    1.0\n",
              "225226  'least olympics unites great britain people ac...  ...    1.0\n",
              "225227           'tmz meanblack power olympics joke year'  ...    0.0\n",
              "225228  'chelsea home jerseys available male female si...  ...    1.0\n",
              "225229  'watch olympics televisa tv azteca imagen tele...  ...    0.0\n",
              "\n",
              "[225230 rows x 4 columns]"
            ]
          },
          "metadata": {},
          "execution_count": 137
        }
      ]
    },
    {
      "cell_type": "markdown",
      "metadata": {
        "id": "KcBR_9Qz1sfa"
      },
      "source": [
        "### Valid dataset"
      ]
    },
    {
      "cell_type": "code",
      "metadata": {
        "colab": {
          "base_uri": "https://localhost:8080/",
          "height": 0
        },
        "id": "L3O6O6CU1sfa",
        "outputId": "3e2354c8-c715-43db-d0cb-9ea17ce647ed"
      },
      "source": [
        "pd.read_csv(valid_filepaths[0]).head()"
      ],
      "execution_count": 138,
      "outputs": [
        {
          "output_type": "execute_result",
          "data": {
            "text/html": [
              "<div>\n",
              "<style scoped>\n",
              "    .dataframe tbody tr th:only-of-type {\n",
              "        vertical-align: middle;\n",
              "    }\n",
              "\n",
              "    .dataframe tbody tr th {\n",
              "        vertical-align: top;\n",
              "    }\n",
              "\n",
              "    .dataframe thead th {\n",
              "        text-align: right;\n",
              "    }\n",
              "</style>\n",
              "<table border=\"1\" class=\"dataframe\">\n",
              "  <thead>\n",
              "    <tr style=\"text-align: right;\">\n",
              "      <th></th>\n",
              "      <th>tweets</th>\n",
              "      <th>Subjectivity</th>\n",
              "      <th>Polarity</th>\n",
              "      <th>Label</th>\n",
              "    </tr>\n",
              "  </thead>\n",
              "  <tbody>\n",
              "    <tr>\n",
              "      <th>0</th>\n",
              "      <td>'damn least theres olympics going'</td>\n",
              "      <td>0.0</td>\n",
              "      <td>1.0</td>\n",
              "      <td>0.0</td>\n",
              "    </tr>\n",
              "    <tr>\n",
              "      <th>1</th>\n",
              "      <td>'us fencers wear pink masks apparently protest...</td>\n",
              "      <td>0.0</td>\n",
              "      <td>0.0</td>\n",
              "      <td>1.0</td>\n",
              "    </tr>\n",
              "    <tr>\n",
              "      <th>2</th>\n",
              "      <td>'must novaks favourite matchup nishi gives ple...</td>\n",
              "      <td>1.0</td>\n",
              "      <td>0.0</td>\n",
              "      <td>0.0</td>\n",
              "    </tr>\n",
              "    <tr>\n",
              "      <th>3</th>\n",
              "      <td>'filipino golfer juvic pagunsan final match ro...</td>\n",
              "      <td>0.0</td>\n",
              "      <td>1.0</td>\n",
              "      <td>0.0</td>\n",
              "    </tr>\n",
              "    <tr>\n",
              "      <th>4</th>\n",
              "      <td>'squineon pehle ye dekh competition tha kiske ...</td>\n",
              "      <td>1.0</td>\n",
              "      <td>0.0</td>\n",
              "      <td>0.0</td>\n",
              "    </tr>\n",
              "  </tbody>\n",
              "</table>\n",
              "</div>"
            ],
            "text/plain": [
              "                                              tweets  ...  Label\n",
              "0                 'damn least theres olympics going'  ...    0.0\n",
              "1  'us fencers wear pink masks apparently protest...  ...    1.0\n",
              "2  'must novaks favourite matchup nishi gives ple...  ...    0.0\n",
              "3  'filipino golfer juvic pagunsan final match ro...  ...    0.0\n",
              "4  'squineon pehle ye dekh competition tha kiske ...  ...    0.0\n",
              "\n",
              "[5 rows x 4 columns]"
            ]
          },
          "metadata": {},
          "execution_count": 138
        }
      ]
    },
    {
      "cell_type": "code",
      "metadata": {
        "colab": {
          "base_uri": "https://localhost:8080/"
        },
        "id": "Ca3wuVG-1sfa",
        "outputId": "ae4c0b02-6fb1-49b3-e349-770dc2300e71"
      },
      "source": [
        "os.path.getsize(valid_filepaths[0])"
      ],
      "execution_count": 139,
      "outputs": [
        {
          "output_type": "execute_result",
          "data": {
            "text/plain": [
              "484171"
            ]
          },
          "metadata": {},
          "execution_count": 139
        }
      ]
    },
    {
      "cell_type": "code",
      "metadata": {
        "id": "0eveWQ-91sfb"
      },
      "source": [
        "valid_folder=('/').join(re.search('(.*)/(.*)/(.*)',valid_filepaths[0], re.IGNORECASE).group(1,2))"
      ],
      "execution_count": 140,
      "outputs": []
    },
    {
      "cell_type": "code",
      "metadata": {
        "colab": {
          "base_uri": "https://localhost:8080/",
          "height": 0
        },
        "id": "AvoE7LxW1sfb",
        "outputId": "cee25db8-0f5a-40be-9dc7-499d329432ad"
      },
      "source": [
        "print(valid_filepaths[0])\n",
        "valid_folder"
      ],
      "execution_count": 141,
      "outputs": [
        {
          "output_type": "stream",
          "name": "stdout",
          "text": [
            "datasets/tweets/my_valid_00.csv\n"
          ]
        },
        {
          "output_type": "execute_result",
          "data": {
            "application/vnd.google.colaboratory.intrinsic+json": {
              "type": "string"
            },
            "text/plain": [
              "'datasets/tweets'"
            ]
          },
          "metadata": {},
          "execution_count": 141
        }
      ]
    },
    {
      "cell_type": "code",
      "metadata": {
        "id": "32J1CiwK1sfc"
      },
      "source": [
        "full_csv = valid_folder+'/full_train.csv'\n",
        "with open(full_csv, \"wt\", encoding=\"utf-8\") as f:\n",
        "    if header is not None:\n",
        "        f.write(header)\n",
        "        f.write(\"\\n\")\n",
        "    for row_idx in range(valid_data.shape[0]):\n",
        "        f.write(\",\".join([repr(col) for col in valid_data[row_idx]]))\n",
        "        f.write(\"\\n\")"
      ],
      "execution_count": 142,
      "outputs": []
    },
    {
      "cell_type": "code",
      "metadata": {
        "colab": {
          "base_uri": "https://localhost:8080/"
        },
        "id": "sfNyKJ7X1sfc",
        "outputId": "ba42254b-47c4-4338-8f01-383773319738"
      },
      "source": [
        "os.path.getsize(full_csv)"
      ],
      "execution_count": 143,
      "outputs": [
        {
          "output_type": "execute_result",
          "data": {
            "text/plain": [
              "4842524"
            ]
          },
          "metadata": {},
          "execution_count": 143
        }
      ]
    },
    {
      "cell_type": "code",
      "metadata": {
        "colab": {
          "base_uri": "https://localhost:8080/"
        },
        "id": "6L5f--yr1sfc",
        "outputId": "6c8fd5c2-8ade-4d98-ff96-d400fe8542f0"
      },
      "source": [
        "pd.read_csv(full_csv).shape"
      ],
      "execution_count": 144,
      "outputs": [
        {
          "output_type": "execute_result",
          "data": {
            "text/plain": [
              "(56308, 4)"
            ]
          },
          "metadata": {},
          "execution_count": 144
        }
      ]
    },
    {
      "cell_type": "code",
      "metadata": {
        "id": "bFrayOTO1sfd"
      },
      "source": [
        "valid_data = pd.read_csv(full_csv)"
      ],
      "execution_count": 145,
      "outputs": []
    },
    {
      "cell_type": "code",
      "metadata": {
        "colab": {
          "base_uri": "https://localhost:8080/",
          "height": 0
        },
        "id": "1ivdpiNY1sfd",
        "outputId": "ccb86c52-1f52-454d-86c6-3ae95e229ddd"
      },
      "source": [
        "valid_data"
      ],
      "execution_count": 146,
      "outputs": [
        {
          "output_type": "execute_result",
          "data": {
            "text/html": [
              "<div>\n",
              "<style scoped>\n",
              "    .dataframe tbody tr th:only-of-type {\n",
              "        vertical-align: middle;\n",
              "    }\n",
              "\n",
              "    .dataframe tbody tr th {\n",
              "        vertical-align: top;\n",
              "    }\n",
              "\n",
              "    .dataframe thead th {\n",
              "        text-align: right;\n",
              "    }\n",
              "</style>\n",
              "<table border=\"1\" class=\"dataframe\">\n",
              "  <thead>\n",
              "    <tr style=\"text-align: right;\">\n",
              "      <th></th>\n",
              "      <th>tweets</th>\n",
              "      <th>Subjectivity</th>\n",
              "      <th>Polarity</th>\n",
              "      <th>Label</th>\n",
              "    </tr>\n",
              "  </thead>\n",
              "  <tbody>\n",
              "    <tr>\n",
              "      <th>0</th>\n",
              "      <td>'damn least theres olympics going'</td>\n",
              "      <td>0.0</td>\n",
              "      <td>1.0</td>\n",
              "      <td>0.0</td>\n",
              "    </tr>\n",
              "    <tr>\n",
              "      <th>1</th>\n",
              "      <td>'us fencers wear pink masks apparently protest...</td>\n",
              "      <td>0.0</td>\n",
              "      <td>0.0</td>\n",
              "      <td>1.0</td>\n",
              "    </tr>\n",
              "    <tr>\n",
              "      <th>2</th>\n",
              "      <td>'must novaks favourite matchup nishi gives ple...</td>\n",
              "      <td>1.0</td>\n",
              "      <td>0.0</td>\n",
              "      <td>0.0</td>\n",
              "    </tr>\n",
              "    <tr>\n",
              "      <th>3</th>\n",
              "      <td>'filipino golfer juvic pagunsan final match ro...</td>\n",
              "      <td>0.0</td>\n",
              "      <td>1.0</td>\n",
              "      <td>0.0</td>\n",
              "    </tr>\n",
              "    <tr>\n",
              "      <th>4</th>\n",
              "      <td>'squineon pehle ye dekh competition tha kiske ...</td>\n",
              "      <td>1.0</td>\n",
              "      <td>0.0</td>\n",
              "      <td>0.0</td>\n",
              "    </tr>\n",
              "    <tr>\n",
              "      <th>...</th>\n",
              "      <td>...</td>\n",
              "      <td>...</td>\n",
              "      <td>...</td>\n",
              "      <td>...</td>\n",
              "    </tr>\n",
              "    <tr>\n",
              "      <th>56303</th>\n",
              "      <td>'parthtyagi21 shashankbalnad 141adelaide read ...</td>\n",
              "      <td>1.0</td>\n",
              "      <td>0.0</td>\n",
              "      <td>0.0</td>\n",
              "    </tr>\n",
              "    <tr>\n",
              "      <th>56304</th>\n",
              "      <td>'know gold medals made gold amp 1900 olympics ...</td>\n",
              "      <td>0.0</td>\n",
              "      <td>0.0</td>\n",
              "      <td>1.0</td>\n",
              "    </tr>\n",
              "    <tr>\n",
              "      <th>56305</th>\n",
              "      <td>'simone biles explains twisties withdrawing co...</td>\n",
              "      <td>1.0</td>\n",
              "      <td>0.0</td>\n",
              "      <td>0.0</td>\n",
              "    </tr>\n",
              "    <tr>\n",
              "      <th>56306</th>\n",
              "      <td>'dharma2x ramyabhat26 swamy39 yamansrivastava ...</td>\n",
              "      <td>1.0</td>\n",
              "      <td>0.0</td>\n",
              "      <td>0.0</td>\n",
              "    </tr>\n",
              "    <tr>\n",
              "      <th>56307</th>\n",
              "      <td>'super70ssports jessie owens jim thorpe usa oy...</td>\n",
              "      <td>1.0</td>\n",
              "      <td>0.0</td>\n",
              "      <td>0.0</td>\n",
              "    </tr>\n",
              "  </tbody>\n",
              "</table>\n",
              "<p>56308 rows × 4 columns</p>\n",
              "</div>"
            ],
            "text/plain": [
              "                                                  tweets  ...  Label\n",
              "0                     'damn least theres olympics going'  ...    0.0\n",
              "1      'us fencers wear pink masks apparently protest...  ...    1.0\n",
              "2      'must novaks favourite matchup nishi gives ple...  ...    0.0\n",
              "3      'filipino golfer juvic pagunsan final match ro...  ...    0.0\n",
              "4      'squineon pehle ye dekh competition tha kiske ...  ...    0.0\n",
              "...                                                  ...  ...    ...\n",
              "56303  'parthtyagi21 shashankbalnad 141adelaide read ...  ...    0.0\n",
              "56304  'know gold medals made gold amp 1900 olympics ...  ...    1.0\n",
              "56305  'simone biles explains twisties withdrawing co...  ...    0.0\n",
              "56306  'dharma2x ramyabhat26 swamy39 yamansrivastava ...  ...    0.0\n",
              "56307  'super70ssports jessie owens jim thorpe usa oy...  ...    0.0\n",
              "\n",
              "[56308 rows x 4 columns]"
            ]
          },
          "metadata": {},
          "execution_count": 146
        }
      ]
    },
    {
      "cell_type": "markdown",
      "metadata": {
        "id": "SZ-MIpKC4Bc0"
      },
      "source": [
        "#### Split train_sentences, val_sentences, train_labels,  val_labels "
      ]
    },
    {
      "cell_type": "code",
      "metadata": {
        "id": "XO07F0i34FLW"
      },
      "source": [
        "train_sentences,  train_labels = train_data.tweets, train_data.Label\n",
        "val_sentences, val_labels  = valid_data.tweets, valid_data.Label"
      ],
      "execution_count": 147,
      "outputs": []
    },
    {
      "cell_type": "markdown",
      "metadata": {
        "id": "c1O5d08bi39H"
      },
      "source": [
        "#### Menyiapkan Target"
      ]
    },
    {
      "cell_type": "code",
      "metadata": {
        "id": "dn3ALilriwvF"
      },
      "source": [
        "X_train, y_train = train_dataset.tweets, train_dataset.Label\n",
        "X_test, y_test = test_dataset.tweets, test_dataset.Label"
      ],
      "execution_count": 148,
      "outputs": []
    },
    {
      "cell_type": "code",
      "metadata": {
        "id": "Ycpqitviiw6f"
      },
      "source": [
        "def prepare_targets(y_train, y_test):\n",
        "    y_train_enc = to_categorical(y_train)\n",
        "    y_test_enc = to_categorical(y_test)\n",
        "    return y_train_enc, y_test_enc\n",
        "\n",
        "y_train, y_test = prepare_targets(y_train, y_test)"
      ],
      "execution_count": 149,
      "outputs": []
    },
    {
      "cell_type": "markdown",
      "metadata": {
        "id": "rGPFIWNIjCkT"
      },
      "source": [
        "#### Melakukan Split Data "
      ]
    },
    {
      "cell_type": "code",
      "metadata": {
        "id": "gP9aVS6BixEY"
      },
      "source": [
        "train_sentences, val_sentences, train_labels, val_labels = train_test_split(X_train.to_numpy(),\n",
        "                                                                            y_train,\n",
        "                                                                            test_size=0.2,\n",
        "                                                                            random_state=42)"
      ],
      "execution_count": 150,
      "outputs": []
    },
    {
      "cell_type": "markdown",
      "metadata": {
        "id": "GQpOplyNVif_"
      },
      "source": [
        "### Tokenization"
      ]
    },
    {
      "cell_type": "markdown",
      "metadata": {
        "id": "1kJ9AZAxeObE"
      },
      "source": [
        "#### Menghitung Unique kata yang muncul "
      ]
    },
    {
      "cell_type": "code",
      "metadata": {
        "id": "y2BMh_JwePlg"
      },
      "source": [
        "def counter_word(text):\n",
        "  count = Counter()\n",
        "  for i in text.values:\n",
        "      for word in i.split():\n",
        "          count[word] += 1\n",
        "  return count"
      ],
      "execution_count": 151,
      "outputs": []
    },
    {
      "cell_type": "code",
      "metadata": {
        "id": "q6et6OxeeQqA"
      },
      "source": [
        "text = dataset['tweets']\n",
        "counter = counter_word(text)"
      ],
      "execution_count": 152,
      "outputs": []
    },
    {
      "cell_type": "code",
      "metadata": {
        "colab": {
          "base_uri": "https://localhost:8080/"
        },
        "id": "oqWRnhfZeQ8Y",
        "outputId": "2e7174c1-efa4-4494-d553-9ffccd488915"
      },
      "source": [
        "max_vocab_length = len(counter)\n",
        "max_vocab_length"
      ],
      "execution_count": 153,
      "outputs": [
        {
          "output_type": "execute_result",
          "data": {
            "text/plain": [
              "185954"
            ]
          },
          "metadata": {},
          "execution_count": 153
        }
      ]
    },
    {
      "cell_type": "markdown",
      "metadata": {
        "id": "34dDio-IeTrt"
      },
      "source": [
        "#### Menghitung rata-rata token yang dibentuk dalam satu tweets"
      ]
    },
    {
      "cell_type": "code",
      "metadata": {
        "colab": {
          "base_uri": "https://localhost:8080/"
        },
        "id": "E8XP2ag_HTYp",
        "outputId": "63708dda-de42-42ad-dfc3-9f29b8bd9f83"
      },
      "source": [
        "# max number of words in a squance\n",
        "max_length = round(sum([len(i.split()) for i in train_sentences])/len(train_sentences))\n",
        "max_length"
      ],
      "execution_count": 154,
      "outputs": [
        {
          "output_type": "execute_result",
          "data": {
            "text/plain": [
              "10"
            ]
          },
          "metadata": {},
          "execution_count": 154
        }
      ]
    },
    {
      "cell_type": "markdown",
      "metadata": {
        "id": "xzlMIqAhfXI3"
      },
      "source": [
        "#### Setup text vectorization dengan parameter default"
      ]
    },
    {
      "cell_type": "code",
      "metadata": {
        "id": "rmaPHyWsfXi_"
      },
      "source": [
        "text_vectorizer = TextVectorization(max_tokens=max_vocab_length, \n",
        "                                    split=\"whitespace\", \n",
        "                                    output_sequence_length=max_length) "
      ],
      "execution_count": 155,
      "outputs": []
    },
    {
      "cell_type": "markdown",
      "metadata": {
        "id": "2V1F4FF7fpjq"
      },
      "source": [
        "#### Fit data train ke text_vectorizer"
      ]
    },
    {
      "cell_type": "code",
      "metadata": {
        "id": "SuPZ5LzmfYgz"
      },
      "source": [
        "text_vectorizer.adapt(train_sentences)"
      ],
      "execution_count": 156,
      "outputs": []
    },
    {
      "cell_type": "markdown",
      "metadata": {
        "id": "gaUvE9OeggoV"
      },
      "source": [
        "#### Buat contoh Tweets untuk membuktikan tokenizer bekerja"
      ]
    },
    {
      "cell_type": "code",
      "metadata": {
        "id": "Wmb1RCthfrD7",
        "colab": {
          "base_uri": "https://localhost:8080/"
        },
        "outputId": "2dc73e7b-4e45-44e9-d95f-1f9d92e739ac"
      },
      "source": [
        "sample_sentence = \"Why is the Team USA men basketball team\"\n",
        "text_vectorizer([sample_sentence])"
      ],
      "execution_count": 157,
      "outputs": [
        {
          "output_type": "execute_result",
          "data": {
            "text/plain": [
              "<tf.Tensor: shape=(1, 10), dtype=int64, numpy=array([[  1,   1,   1,  12,  30, 218,  70,  12,   0,   0]])>"
            ]
          },
          "metadata": {},
          "execution_count": 157
        }
      ]
    },
    {
      "cell_type": "code",
      "metadata": {
        "id": "FZxyPyHRf_tG",
        "colab": {
          "base_uri": "https://localhost:8080/"
        },
        "outputId": "d7a83f6a-4d3a-4460-87b9-5a6741013441"
      },
      "source": [
        "random_sentence = random.choice(train_sentences)\n",
        "print(f\"Teks Asli:\\n{random_sentence}\\\n",
        "      \\n\\nVersi Vektorisasi:\")\n",
        "text_vectorizer([random_sentence])"
      ],
      "execution_count": 158,
      "outputs": [
        {
          "output_type": "stream",
          "name": "stdout",
          "text": [
            "Teks Asli:\n",
            "jesrose15 olympics fina1908 sooo cute      \n",
            "\n",
            "Versi Vektorisasi:\n"
          ]
        },
        {
          "output_type": "execute_result",
          "data": {
            "text/plain": [
              "<tf.Tensor: shape=(1, 10), dtype=int64, numpy=\n",
              "array([[34141,     2,   423,  3544,  1359,     0,     0,     0,     0,\n",
              "            0]])>"
            ]
          },
          "metadata": {},
          "execution_count": 158
        }
      ]
    },
    {
      "cell_type": "code",
      "metadata": {
        "id": "RSAiTU0FgqoZ",
        "colab": {
          "base_uri": "https://localhost:8080/"
        },
        "outputId": "9917c70e-2d3c-4259-f55c-bc811b357252"
      },
      "source": [
        "words_in_vocab = text_vectorizer.get_vocabulary()\n",
        "top_5_words = words_in_vocab[:5] # token terbanyak\n",
        "bottom_5_words = words_in_vocab[-5:] # token tersedikit\n",
        "print(f\"Number of words in vocab: {len(words_in_vocab)}\")\n",
        "print(f\"Top 5 most common words: {top_5_words}\") \n",
        "print(f\"Bottom 5 least common words: {bottom_5_words}\")"
      ],
      "execution_count": 159,
      "outputs": [
        {
          "output_type": "stream",
          "name": "stdout",
          "text": [
            "Number of words in vocab: 151670\n",
            "Top 5 most common words: ['', '[UNK]', 'olympics', 'tokyo', 'ateezofficial']\n",
            "Bottom 5 least common words: ['001danish', '000…', '000101jd', '000006056', '0000000000']\n"
          ]
        }
      ]
    },
    {
      "cell_type": "markdown",
      "metadata": {
        "id": "DqK7KSes-EzB"
      },
      "source": [
        "### Melakukan Word Embedding"
      ]
    },
    {
      "cell_type": "markdown",
      "metadata": {
        "id": "mn4E1pjXo9WB"
      },
      "source": [
        "#### Membuat Word Embeding dengan Layers Embedding"
      ]
    },
    {
      "cell_type": "code",
      "metadata": {
        "id": "M0jmc2QOpALq"
      },
      "source": [
        "embedding = layers.Embedding(input_dim=max_vocab_length,\n",
        "                             output_dim=300,\n",
        "                             input_length=max_length,\n",
        "                             trainable=False)"
      ],
      "execution_count": 160,
      "outputs": []
    },
    {
      "cell_type": "code",
      "metadata": {
        "id": "79RDi1ATpDYn",
        "colab": {
          "base_uri": "https://localhost:8080/"
        },
        "outputId": "a6fb81b1-5d00-49e8-f8a8-2b3b2cc4d615"
      },
      "source": [
        "embedding"
      ],
      "execution_count": 161,
      "outputs": [
        {
          "output_type": "execute_result",
          "data": {
            "text/plain": [
              "<keras.layers.embeddings.Embedding at 0x7efb89f46650>"
            ]
          },
          "metadata": {},
          "execution_count": 161
        }
      ]
    },
    {
      "cell_type": "markdown",
      "metadata": {
        "id": "gopd_N1CpOqM"
      },
      "source": [
        "#### Memasukan data ke Layers Embedding"
      ]
    },
    {
      "cell_type": "code",
      "metadata": {
        "id": "Jw-pQwEmpJOM",
        "colab": {
          "base_uri": "https://localhost:8080/"
        },
        "outputId": "f9b7d46e-912d-42c0-dc4d-11f46a233f2b"
      },
      "source": [
        "random_sentence = random.choice(train_sentences)\n",
        "\n",
        "sample_embed = embedding(text_vectorizer([random_sentence]))\n",
        "print(f\"Teks Asli:\\n{random_sentence}\\\n",
        "      \\n\\nVersi Embedded:\", sample_embed)"
      ],
      "execution_count": 162,
      "outputs": [
        {
          "output_type": "stream",
          "name": "stdout",
          "text": [
            "Teks Asli:\n",
            "ok lets go lee zii jia olympics badminton ganbattemalaysia      \n",
            "\n",
            "Versi Embedded: tf.Tensor(\n",
            "[[[-0.01482008 -0.01948129  0.02612413 ...  0.03952419  0.02420421\n",
            "   -0.02623792]\n",
            "  [-0.04186189  0.01831016 -0.04475738 ...  0.03676233  0.02821971\n",
            "   -0.02038401]\n",
            "  [-0.04905933  0.01176276  0.00535035 ...  0.0361956  -0.03927083\n",
            "    0.00686609]\n",
            "  ...\n",
            "  [-0.01119213 -0.02465303 -0.01159316 ... -0.00988525 -0.00055646\n",
            "   -0.00584638]\n",
            "  [-0.00727832  0.0179776   0.01905102 ...  0.02585796  0.00885718\n",
            "   -0.00864457]\n",
            "  [ 0.0348547   0.01502344  0.01852042 ...  0.02551072 -0.02571018\n",
            "    0.03553115]]], shape=(1, 10, 300), dtype=float32)\n"
          ]
        }
      ]
    },
    {
      "cell_type": "markdown",
      "metadata": {
        "id": "vm95C-To4n9P"
      },
      "source": [
        "# Pendefinisian dan Pelatihan Model"
      ]
    },
    {
      "cell_type": "markdown",
      "metadata": {
        "id": "8OxZ4fU0-ZNl"
      },
      "source": [
        "### Permodelan LSTM "
      ]
    },
    {
      "cell_type": "code",
      "metadata": {
        "id": "XWaTPojYpSci",
        "colab": {
          "base_uri": "https://localhost:8080/"
        },
        "outputId": "ecdfd611-1e5e-4feb-8cf7-7b9808276a84"
      },
      "source": [
        "inputs = layers.Input(shape=(1,), dtype=\"string\")\n",
        "x = text_vectorizer(inputs)\n",
        "x = embedding(x)\n",
        "print(x.shape)\n",
        "x = layers.LSTM(64, dropout=0.5)(x) \n",
        "print(x.shape)\n",
        "outputs = layers.Dense(3, activation=\"softmax\")(x)\n",
        "model = tf.keras.Model(inputs, outputs, name=\"model_LSTM\")"
      ],
      "execution_count": 163,
      "outputs": [
        {
          "output_type": "stream",
          "name": "stdout",
          "text": [
            "(None, 10, 300)\n",
            "(None, 64)\n"
          ]
        }
      ]
    },
    {
      "cell_type": "markdown",
      "metadata": {
        "id": "Orv3U6wZ5X1l"
      },
      "source": [
        "menggunakan activation softmax karena output berupa 3 kategori\n"
      ]
    },
    {
      "cell_type": "code",
      "metadata": {
        "id": "HepduhSNtOBV",
        "colab": {
          "base_uri": "https://localhost:8080/"
        },
        "outputId": "68acd33a-3cce-4729-b622-5e49d11f452a"
      },
      "source": [
        "model.summary()"
      ],
      "execution_count": 164,
      "outputs": [
        {
          "output_type": "stream",
          "name": "stdout",
          "text": [
            "Model: \"model_LSTM\"\n",
            "_________________________________________________________________\n",
            "Layer (type)                 Output Shape              Param #   \n",
            "=================================================================\n",
            "input_2 (InputLayer)         [(None, 1)]               0         \n",
            "_________________________________________________________________\n",
            "text_vectorization_1 (TextVe (None, 10)                0         \n",
            "_________________________________________________________________\n",
            "embedding_1 (Embedding)      (None, 10, 300)           55786200  \n",
            "_________________________________________________________________\n",
            "lstm_1 (LSTM)                (None, 64)                93440     \n",
            "_________________________________________________________________\n",
            "dense_1 (Dense)              (None, 3)                 195       \n",
            "=================================================================\n",
            "Total params: 55,879,835\n",
            "Trainable params: 93,635\n",
            "Non-trainable params: 55,786,200\n",
            "_________________________________________________________________\n"
          ]
        }
      ]
    },
    {
      "cell_type": "markdown",
      "metadata": {
        "id": "vaWHRfUztzDe"
      },
      "source": [
        "### Fit Model"
      ]
    },
    {
      "cell_type": "markdown",
      "metadata": {
        "id": "5pZ0fsEkDaAX"
      },
      "source": [
        "#### Compile model LSTM "
      ]
    },
    {
      "cell_type": "code",
      "metadata": {
        "id": "vVY5Z3_wtUKc"
      },
      "source": [
        "model.compile(loss=\"categorical_crossentropy\",\n",
        "              optimizer=tf.keras.optimizers.Adam(),\n",
        "              metrics=[\"accuracy\"])"
      ],
      "execution_count": 165,
      "outputs": []
    },
    {
      "cell_type": "markdown",
      "metadata": {
        "id": "O519_nLPDon0"
      },
      "source": [
        "#### Fit model LSTM "
      ]
    },
    {
      "cell_type": "code",
      "metadata": {
        "id": "MdX3aQu1t3sI",
        "colab": {
          "base_uri": "https://localhost:8080/"
        },
        "outputId": "5af0cc3f-d3c5-445d-bbea-efc9e64d3c59"
      },
      "source": [
        "model_history = model.fit(train_sentences,\n",
        "                          train_labels,\n",
        "                          batch_size=32, \n",
        "                          epochs=75,\n",
        "                          validation_data=(val_sentences, val_labels),\n",
        "                          verbose=2)"
      ],
      "execution_count": 166,
      "outputs": [
        {
          "output_type": "stream",
          "name": "stdout",
          "text": [
            "Epoch 1/75\n",
            "7039/7039 - 57s - loss: 0.7981 - accuracy: 0.6368 - val_loss: 0.6916 - val_accuracy: 0.7031\n",
            "Epoch 2/75\n",
            "7039/7039 - 54s - loss: 0.6631 - accuracy: 0.7242 - val_loss: 0.6437 - val_accuracy: 0.7385\n",
            "Epoch 3/75\n",
            "7039/7039 - 53s - loss: 0.5916 - accuracy: 0.7667 - val_loss: 0.5892 - val_accuracy: 0.7689\n",
            "Epoch 4/75\n",
            "7039/7039 - 53s - loss: 0.5290 - accuracy: 0.8004 - val_loss: 0.5617 - val_accuracy: 0.7981\n",
            "Epoch 5/75\n",
            "7039/7039 - 52s - loss: 0.4815 - accuracy: 0.8264 - val_loss: 0.4782 - val_accuracy: 0.8338\n",
            "Epoch 6/75\n",
            "7039/7039 - 54s - loss: 0.4465 - accuracy: 0.8435 - val_loss: 0.4476 - val_accuracy: 0.8503\n",
            "Epoch 7/75\n",
            "7039/7039 - 53s - loss: 0.4204 - accuracy: 0.8563 - val_loss: 0.4269 - val_accuracy: 0.8621\n",
            "Epoch 8/75\n",
            "7039/7039 - 54s - loss: 0.4005 - accuracy: 0.8647 - val_loss: 0.4032 - val_accuracy: 0.8715\n",
            "Epoch 9/75\n",
            "7039/7039 - 52s - loss: 0.3839 - accuracy: 0.8721 - val_loss: 0.3810 - val_accuracy: 0.8808\n",
            "Epoch 10/75\n",
            "7039/7039 - 54s - loss: 0.3696 - accuracy: 0.8774 - val_loss: 0.3768 - val_accuracy: 0.8835\n",
            "Epoch 11/75\n",
            "7039/7039 - 54s - loss: 0.3588 - accuracy: 0.8820 - val_loss: 0.3539 - val_accuracy: 0.8914\n",
            "Epoch 12/75\n",
            "7039/7039 - 55s - loss: 0.3500 - accuracy: 0.8854 - val_loss: 0.3471 - val_accuracy: 0.8936\n",
            "Epoch 13/75\n",
            "7039/7039 - 54s - loss: 0.3415 - accuracy: 0.8893 - val_loss: 0.3392 - val_accuracy: 0.8980\n",
            "Epoch 14/75\n",
            "7039/7039 - 54s - loss: 0.3334 - accuracy: 0.8922 - val_loss: 0.3261 - val_accuracy: 0.9016\n",
            "Epoch 15/75\n",
            "7039/7039 - 53s - loss: 0.3268 - accuracy: 0.8945 - val_loss: 0.3173 - val_accuracy: 0.9047\n",
            "Epoch 16/75\n",
            "7039/7039 - 53s - loss: 0.3195 - accuracy: 0.8978 - val_loss: 0.3135 - val_accuracy: 0.9075\n",
            "Epoch 17/75\n",
            "7039/7039 - 53s - loss: 0.3153 - accuracy: 0.8986 - val_loss: 0.3071 - val_accuracy: 0.9092\n",
            "Epoch 18/75\n",
            "7039/7039 - 54s - loss: 0.3105 - accuracy: 0.9003 - val_loss: 0.2959 - val_accuracy: 0.9118\n",
            "Epoch 19/75\n",
            "7039/7039 - 52s - loss: 0.3056 - accuracy: 0.9026 - val_loss: 0.3013 - val_accuracy: 0.9127\n",
            "Epoch 20/75\n",
            "7039/7039 - 53s - loss: 0.3015 - accuracy: 0.9040 - val_loss: 0.2906 - val_accuracy: 0.9150\n",
            "Epoch 21/75\n",
            "7039/7039 - 53s - loss: 0.2980 - accuracy: 0.9054 - val_loss: 0.2888 - val_accuracy: 0.9164\n",
            "Epoch 22/75\n",
            "7039/7039 - 52s - loss: 0.2953 - accuracy: 0.9064 - val_loss: 0.2835 - val_accuracy: 0.9187\n",
            "Epoch 23/75\n",
            "7039/7039 - 52s - loss: 0.2900 - accuracy: 0.9084 - val_loss: 0.2766 - val_accuracy: 0.9200\n",
            "Epoch 24/75\n",
            "7039/7039 - 53s - loss: 0.2871 - accuracy: 0.9094 - val_loss: 0.2762 - val_accuracy: 0.9203\n",
            "Epoch 25/75\n",
            "7039/7039 - 54s - loss: 0.2850 - accuracy: 0.9099 - val_loss: 0.2721 - val_accuracy: 0.9218\n",
            "Epoch 26/75\n",
            "7039/7039 - 52s - loss: 0.2819 - accuracy: 0.9110 - val_loss: 0.2661 - val_accuracy: 0.9234\n",
            "Epoch 27/75\n",
            "7039/7039 - 52s - loss: 0.2805 - accuracy: 0.9114 - val_loss: 0.2675 - val_accuracy: 0.9225\n",
            "Epoch 28/75\n",
            "7039/7039 - 53s - loss: 0.2775 - accuracy: 0.9124 - val_loss: 0.2570 - val_accuracy: 0.9247\n",
            "Epoch 29/75\n",
            "7039/7039 - 53s - loss: 0.2747 - accuracy: 0.9136 - val_loss: 0.2621 - val_accuracy: 0.9250\n",
            "Epoch 30/75\n",
            "7039/7039 - 53s - loss: 0.2720 - accuracy: 0.9145 - val_loss: 0.2518 - val_accuracy: 0.9267\n",
            "Epoch 31/75\n",
            "7039/7039 - 51s - loss: 0.2699 - accuracy: 0.9154 - val_loss: 0.2564 - val_accuracy: 0.9264\n",
            "Epoch 32/75\n",
            "7039/7039 - 51s - loss: 0.2682 - accuracy: 0.9165 - val_loss: 0.2499 - val_accuracy: 0.9280\n",
            "Epoch 33/75\n",
            "7039/7039 - 50s - loss: 0.2666 - accuracy: 0.9161 - val_loss: 0.2448 - val_accuracy: 0.9295\n",
            "Epoch 34/75\n",
            "7039/7039 - 51s - loss: 0.2651 - accuracy: 0.9170 - val_loss: 0.2463 - val_accuracy: 0.9292\n",
            "Epoch 35/75\n",
            "7039/7039 - 50s - loss: 0.2626 - accuracy: 0.9181 - val_loss: 0.2441 - val_accuracy: 0.9296\n",
            "Epoch 36/75\n",
            "7039/7039 - 52s - loss: 0.2626 - accuracy: 0.9179 - val_loss: 0.2434 - val_accuracy: 0.9307\n",
            "Epoch 37/75\n",
            "7039/7039 - 50s - loss: 0.2620 - accuracy: 0.9186 - val_loss: 0.2430 - val_accuracy: 0.9314\n",
            "Epoch 38/75\n",
            "7039/7039 - 52s - loss: 0.2591 - accuracy: 0.9193 - val_loss: 0.2386 - val_accuracy: 0.9319\n",
            "Epoch 39/75\n",
            "7039/7039 - 52s - loss: 0.2584 - accuracy: 0.9194 - val_loss: 0.2359 - val_accuracy: 0.9325\n",
            "Epoch 40/75\n",
            "7039/7039 - 51s - loss: 0.2586 - accuracy: 0.9194 - val_loss: 0.2366 - val_accuracy: 0.9329\n",
            "Epoch 41/75\n",
            "7039/7039 - 51s - loss: 0.2561 - accuracy: 0.9204 - val_loss: 0.2358 - val_accuracy: 0.9332\n",
            "Epoch 42/75\n",
            "7039/7039 - 52s - loss: 0.2553 - accuracy: 0.9206 - val_loss: 0.2302 - val_accuracy: 0.9343\n",
            "Epoch 43/75\n",
            "7039/7039 - 51s - loss: 0.2519 - accuracy: 0.9215 - val_loss: 0.2317 - val_accuracy: 0.9345\n",
            "Epoch 44/75\n",
            "7039/7039 - 52s - loss: 0.2526 - accuracy: 0.9215 - val_loss: 0.2299 - val_accuracy: 0.9348\n",
            "Epoch 45/75\n",
            "7039/7039 - 52s - loss: 0.2502 - accuracy: 0.9222 - val_loss: 0.2304 - val_accuracy: 0.9350\n",
            "Epoch 46/75\n",
            "7039/7039 - 51s - loss: 0.2507 - accuracy: 0.9224 - val_loss: 0.2269 - val_accuracy: 0.9352\n",
            "Epoch 47/75\n",
            "7039/7039 - 52s - loss: 0.2488 - accuracy: 0.9224 - val_loss: 0.2249 - val_accuracy: 0.9360\n",
            "Epoch 48/75\n",
            "7039/7039 - 51s - loss: 0.2488 - accuracy: 0.9228 - val_loss: 0.2259 - val_accuracy: 0.9358\n",
            "Epoch 49/75\n",
            "7039/7039 - 52s - loss: 0.2484 - accuracy: 0.9231 - val_loss: 0.2281 - val_accuracy: 0.9360\n",
            "Epoch 50/75\n",
            "7039/7039 - 52s - loss: 0.2469 - accuracy: 0.9231 - val_loss: 0.2257 - val_accuracy: 0.9360\n",
            "Epoch 51/75\n",
            "7039/7039 - 54s - loss: 0.2455 - accuracy: 0.9242 - val_loss: 0.2234 - val_accuracy: 0.9365\n",
            "Epoch 52/75\n",
            "7039/7039 - 52s - loss: 0.2447 - accuracy: 0.9240 - val_loss: 0.2254 - val_accuracy: 0.9368\n",
            "Epoch 53/75\n",
            "7039/7039 - 51s - loss: 0.2447 - accuracy: 0.9240 - val_loss: 0.2205 - val_accuracy: 0.9371\n",
            "Epoch 54/75\n",
            "7039/7039 - 52s - loss: 0.2423 - accuracy: 0.9247 - val_loss: 0.2226 - val_accuracy: 0.9370\n",
            "Epoch 55/75\n",
            "7039/7039 - 51s - loss: 0.2429 - accuracy: 0.9244 - val_loss: 0.2211 - val_accuracy: 0.9375\n",
            "Epoch 56/75\n",
            "7039/7039 - 52s - loss: 0.2411 - accuracy: 0.9254 - val_loss: 0.2225 - val_accuracy: 0.9373\n",
            "Epoch 57/75\n",
            "7039/7039 - 51s - loss: 0.2401 - accuracy: 0.9256 - val_loss: 0.2205 - val_accuracy: 0.9372\n",
            "Epoch 58/75\n",
            "7039/7039 - 52s - loss: 0.2403 - accuracy: 0.9258 - val_loss: 0.2186 - val_accuracy: 0.9379\n",
            "Epoch 59/75\n",
            "7039/7039 - 52s - loss: 0.2406 - accuracy: 0.9252 - val_loss: 0.2169 - val_accuracy: 0.9387\n",
            "Epoch 60/75\n",
            "7039/7039 - 51s - loss: 0.2400 - accuracy: 0.9252 - val_loss: 0.2167 - val_accuracy: 0.9386\n",
            "Epoch 61/75\n",
            "7039/7039 - 50s - loss: 0.2384 - accuracy: 0.9262 - val_loss: 0.2167 - val_accuracy: 0.9384\n",
            "Epoch 62/75\n",
            "7039/7039 - 51s - loss: 0.2376 - accuracy: 0.9266 - val_loss: 0.2166 - val_accuracy: 0.9387\n",
            "Epoch 63/75\n",
            "7039/7039 - 52s - loss: 0.2368 - accuracy: 0.9266 - val_loss: 0.2172 - val_accuracy: 0.9387\n",
            "Epoch 64/75\n",
            "7039/7039 - 51s - loss: 0.2378 - accuracy: 0.9261 - val_loss: 0.2146 - val_accuracy: 0.9393\n",
            "Epoch 65/75\n",
            "7039/7039 - 52s - loss: 0.2360 - accuracy: 0.9273 - val_loss: 0.2133 - val_accuracy: 0.9394\n",
            "Epoch 66/75\n",
            "7039/7039 - 52s - loss: 0.2350 - accuracy: 0.9276 - val_loss: 0.2129 - val_accuracy: 0.9397\n",
            "Epoch 67/75\n",
            "7039/7039 - 51s - loss: 0.2346 - accuracy: 0.9272 - val_loss: 0.2138 - val_accuracy: 0.9398\n",
            "Epoch 68/75\n",
            "7039/7039 - 50s - loss: 0.2347 - accuracy: 0.9274 - val_loss: 0.2141 - val_accuracy: 0.9393\n",
            "Epoch 69/75\n",
            "7039/7039 - 51s - loss: 0.2339 - accuracy: 0.9279 - val_loss: 0.2129 - val_accuracy: 0.9394\n",
            "Epoch 70/75\n",
            "7039/7039 - 51s - loss: 0.2333 - accuracy: 0.9280 - val_loss: 0.2116 - val_accuracy: 0.9400\n",
            "Epoch 71/75\n",
            "7039/7039 - 51s - loss: 0.2325 - accuracy: 0.9281 - val_loss: 0.2122 - val_accuracy: 0.9399\n",
            "Epoch 72/75\n",
            "7039/7039 - 50s - loss: 0.2318 - accuracy: 0.9287 - val_loss: 0.2129 - val_accuracy: 0.9395\n",
            "Epoch 73/75\n",
            "7039/7039 - 51s - loss: 0.2316 - accuracy: 0.9281 - val_loss: 0.2101 - val_accuracy: 0.9402\n",
            "Epoch 74/75\n",
            "7039/7039 - 51s - loss: 0.2311 - accuracy: 0.9283 - val_loss: 0.2087 - val_accuracy: 0.9406\n",
            "Epoch 75/75\n",
            "7039/7039 - 52s - loss: 0.2303 - accuracy: 0.9290 - val_loss: 0.2092 - val_accuracy: 0.9408\n"
          ]
        }
      ]
    },
    {
      "cell_type": "markdown",
      "metadata": {
        "id": "XYIwng36Yd7U"
      },
      "source": [
        "## Model LSTM Evaluation"
      ]
    },
    {
      "cell_type": "code",
      "metadata": {
        "id": "w4Xmw5WQdLor"
      },
      "source": [
        "y_pred = model.predict(val_sentences)"
      ],
      "execution_count": 167,
      "outputs": []
    },
    {
      "cell_type": "code",
      "metadata": {
        "id": "1xVD5N9SYb00"
      },
      "source": [
        "def calculate_results(y_true, y_pred):\n",
        "  model_accuracy = accuracy_score(y_true, y_pred) * 100\n",
        "  model_precision, model_recall, model_f1, _ = precision_recall_fscore_support(y_true, y_pred, average=\"weighted\")\n",
        "  model_results = {\"accuracy\": model_accuracy,\n",
        "                  \"precision\": model_precision,\n",
        "                  \"recall\": model_recall,\n",
        "                  \"f1\": model_f1}\n",
        "  return model_results"
      ],
      "execution_count": 168,
      "outputs": []
    },
    {
      "cell_type": "code",
      "metadata": {
        "id": "FcWwA0K7M_Wg",
        "colab": {
          "base_uri": "https://localhost:8080/"
        },
        "outputId": "08867196-24eb-41e2-d892-c9c40b49a763"
      },
      "source": [
        "model_Emdedding_results = calculate_results(y_true= val_labels.argmax(axis=1), \n",
        "                                    y_pred= y_pred.argmax(axis=1))\n",
        "model_Emdedding_results"
      ],
      "execution_count": 169,
      "outputs": [
        {
          "output_type": "execute_result",
          "data": {
            "text/plain": [
              "{'accuracy': 94.08077005043688,\n",
              " 'f1': 0.9400704389663054,\n",
              " 'precision': 0.9423329304184684,\n",
              " 'recall': 0.9408077005043688}"
            ]
          },
          "metadata": {},
          "execution_count": 169
        }
      ]
    },
    {
      "cell_type": "code",
      "metadata": {
        "id": "vkFjSUQyburX",
        "colab": {
          "base_uri": "https://localhost:8080/",
          "height": 545
        },
        "outputId": "5ceb6afb-2793-44f3-c202-18dd62d11dd2"
      },
      "source": [
        "# Plot results\n",
        "acc = model_history.history[\"accuracy\"]\n",
        "val_acc = model_history.history['val_accuracy']\n",
        "loss = model_history.history['loss']\n",
        "val_loss = model_history.history['val_loss']\n",
        "\n",
        "epochs = range(1, len(acc)+1)\n",
        "\n",
        "plt.plot(epochs, acc, 'g', label='Training accuracy')\n",
        "plt.plot(epochs, val_acc, 'r', label='Validation accuracy')\n",
        "plt.title('Training and validation accuracy')\n",
        "plt.legend()\n",
        "\n",
        "plt.figure()\n",
        "\n",
        "plt.plot(epochs, loss, 'g', label='Training loss')\n",
        "plt.plot(epochs, val_loss, 'r', label='Validation loss')\n",
        "plt.title('Training and validation loss')\n",
        "plt.legend()\n",
        "\n",
        "plt.show()"
      ],
      "execution_count": 170,
      "outputs": [
        {
          "output_type": "display_data",
          "data": {
            "image/png": "[encoded data removed]",
            "text/plain": [
              "<Figure size 432x288 with 1 Axes>"
            ]
          },
          "metadata": {
            "needs_background": "light"
          }
        },
        {
          "output_type": "display_data",
          "data": {
            "image/png": "[encoded data removed]",
            "text/plain": [
              "<Figure size 432x288 with 1 Axes>"
            ]
          },
          "metadata": {
            "needs_background": "light"
          }
        }
      ]
    },
    {
      "cell_type": "markdown",
      "metadata": {
        "id": "eORIeyNxl0Kl"
      },
      "source": [
        "# Model Evaluation"
      ]
    },
    {
      "cell_type": "code",
      "metadata": {
        "id": "xsOJwmUQl0-Q",
        "colab": {
          "base_uri": "https://localhost:8080/"
        },
        "outputId": "0e4cce55-7da7-430c-ddb2-41d8df924c17"
      },
      "source": [
        "print('Hasil Performa dengan Layers Embedding :')\n",
        "print('\\n',model_Emdedding_results)"
      ],
      "execution_count": 171,
      "outputs": [
        {
          "output_type": "stream",
          "name": "stdout",
          "text": [
            "Hasil Performa dengan Layers Embedding :\n",
            "\n",
            " {'accuracy': 94.08077005043688, 'precision': 0.9423329304184684, 'recall': 0.9408077005043688, 'f1': 0.9400704389663054}\n"
          ]
        }
      ]
    },
    {
      "cell_type": "markdown",
      "metadata": {
        "id": "K2kTiZFbiD0I"
      },
      "source": [
        "# Data Inference"
      ]
    },
    {
      "cell_type": "markdown",
      "metadata": {
        "id": "OfsDy9mO4n9U"
      },
      "source": [
        "#### membuat data baru"
      ]
    },
    {
      "cell_type": "code",
      "metadata": {
        "id": "ZfdCFJ_PdVhz"
      },
      "source": [
        "new_tweets = [\n",
        "            \"Japanese nationalists are targeting their own medals\",\n",
        "            \"The Indian mens hockey team beat current Olympycs\",\n",
        "            \"Wales wins its firstever Olympic gold after 20 years\"\n",
        "]"
      ],
      "execution_count": 172,
      "outputs": []
    },
    {
      "cell_type": "markdown",
      "metadata": {
        "id": "6C9TwGuG4n9V"
      },
      "source": [
        "#### melakukan prediksi terhadap data baru"
      ]
    },
    {
      "cell_type": "code",
      "metadata": {
        "id": "ru7Pgr9Iissf",
        "colab": {
          "base_uri": "https://localhost:8080/"
        },
        "outputId": "bc924083-42e2-4225-8046-e797613ef0df"
      },
      "source": [
        "predict = model.predict(new_tweets)\n",
        "predict.argmax(axis=1)"
      ],
      "execution_count": 173,
      "outputs": [
        {
          "output_type": "execute_result",
          "data": {
            "text/plain": [
              "array([0, 0, 2])"
            ]
          },
          "metadata": {},
          "execution_count": 173
        }
      ]
    },
    {
      "cell_type": "markdown",
      "metadata": {
        "id": "zkwUFtPJ4n9V"
      },
      "source": [
        "dari hasil prediksi dengan menggunakan data baru didapatkan hasil sebagai berikut:\n",
        "* tweet pertama termasuk kedalam label tweet Netral\n",
        "* tweet kedua termasuk kedalam label tweet Netral\n",
        "* tweet ketiga termasuk kedalam label tweet Positive"
      ]
    }
  ]
}